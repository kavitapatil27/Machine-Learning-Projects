{
  "nbformat": 4,
  "nbformat_minor": 0,
  "metadata": {
    "colab": {
      "name": "StockMarketPrediction.ipynb",
      "provenance": [],
      "collapsed_sections": [],
      "include_colab_link": true
    },
    "kernelspec": {
      "name": "python3",
      "display_name": "Python 3"
    },
    "language_info": {
      "name": "python"
    },
    "accelerator": "GPU"
  },
  "cells": [
    {
      "cell_type": "markdown",
      "metadata": {
        "id": "view-in-github",
        "colab_type": "text"
      },
      "source": [
        "<a href=\"https://colab.research.google.com/github/kavitapatil27/Machine-Learning-Projects/blob/main/StockMarketPrediction.ipynb\" target=\"_parent\"><img src=\"https://colab.research.google.com/assets/colab-badge.svg\" alt=\"Open In Colab\"/></a>"
      ]
    },
    {
      "cell_type": "markdown",
      "metadata": {
        "id": "M6XGklFDVB96"
      },
      "source": [
        "##*AUTHOR - KAVITA PATIL*## \n",
        "\n",
        "#**TASK 7 - STOCK MARKET PREDICTION USING NUMERICAL AND TEXTUAL ANALYSIS**#"
      ]
    },
    {
      "cell_type": "code",
      "metadata": {
        "colab": {
          "base_uri": "https://localhost:8080/"
        },
        "id": "HXs6GrzdcuoF",
        "outputId": "6cf02d03-a87f-4ded-f1e8-340da216694f"
      },
      "source": [
        "#INSTALL YFINANCE TO IMPORT DATA FROM YAHOO FINANCE\n",
        "!pip install yfinance --upgrade --quiet"
      ],
      "execution_count": null,
      "outputs": [
        {
          "output_type": "stream",
          "text": [
            "\u001b[K     |████████████████████████████████| 6.3MB 34.8MB/s \n",
            "\u001b[?25h  Building wheel for yfinance (setup.py) ... \u001b[?25l\u001b[?25hdone\n"
          ],
          "name": "stdout"
        }
      ]
    },
    {
      "cell_type": "code",
      "metadata": {
        "id": "hnFCXuUu8PT_"
      },
      "source": [
        "#IMPORT REQUIRED LIBRARIES\n",
        "import pandas as pd\n",
        "import numpy as np\n",
        "import matplotlib.pyplot as plt\n",
        "import seaborn as sns\n",
        "%matplotlib inline\n",
        "import yfinance as yf"
      ],
      "execution_count": null,
      "outputs": []
    },
    {
      "cell_type": "code",
      "metadata": {
        "colab": {
          "base_uri": "https://localhost:8080/"
        },
        "id": "eMsZPTBu82Fs",
        "outputId": "db482ffc-1b34-47fb-e5dc-79b87d0783ec"
      },
      "source": [
        "#DATA FOR BSE SENSEX IS DOWNLOADED FROM '01-01-2015' TO '03-06-2021'\n",
        "data = yf.download(\"^BSESN\", start=\"2015-01-01\", end=\"2021-06-03\")"
      ],
      "execution_count": null,
      "outputs": [
        {
          "output_type": "stream",
          "text": [
            "\r[*********************100%***********************]  1 of 1 completed\n"
          ],
          "name": "stdout"
        }
      ]
    },
    {
      "cell_type": "code",
      "metadata": {
        "id": "5N7UsDhQHiD7",
        "colab": {
          "base_uri": "https://localhost:8080/"
        },
        "outputId": "5b4c4698-f218-4c7e-d9d9-caab19d990d6"
      },
      "source": [
        "data.shape"
      ],
      "execution_count": null,
      "outputs": [
        {
          "output_type": "execute_result",
          "data": {
            "text/plain": [
              "(1574, 6)"
            ]
          },
          "metadata": {
            "tags": []
          },
          "execution_count": 4
        }
      ]
    },
    {
      "cell_type": "code",
      "metadata": {
        "id": "340XFXE--Lmo"
      },
      "source": [
        "data.reset_index(inplace=True)"
      ],
      "execution_count": null,
      "outputs": []
    },
    {
      "cell_type": "code",
      "metadata": {
        "id": "5bpOUp07GX7l",
        "colab": {
          "base_uri": "https://localhost:8080/",
          "height": 202
        },
        "outputId": "84b471fd-e199-49e7-b0e5-dc5035bd007b"
      },
      "source": [
        "data.head()"
      ],
      "execution_count": null,
      "outputs": [
        {
          "output_type": "execute_result",
          "data": {
            "text/html": [
              "<div>\n",
              "<style scoped>\n",
              "    .dataframe tbody tr th:only-of-type {\n",
              "        vertical-align: middle;\n",
              "    }\n",
              "\n",
              "    .dataframe tbody tr th {\n",
              "        vertical-align: top;\n",
              "    }\n",
              "\n",
              "    .dataframe thead th {\n",
              "        text-align: right;\n",
              "    }\n",
              "</style>\n",
              "<table border=\"1\" class=\"dataframe\">\n",
              "  <thead>\n",
              "    <tr style=\"text-align: right;\">\n",
              "      <th></th>\n",
              "      <th>Date</th>\n",
              "      <th>Open</th>\n",
              "      <th>High</th>\n",
              "      <th>Low</th>\n",
              "      <th>Close</th>\n",
              "      <th>Adj Close</th>\n",
              "      <th>Volume</th>\n",
              "    </tr>\n",
              "  </thead>\n",
              "  <tbody>\n",
              "    <tr>\n",
              "      <th>0</th>\n",
              "      <td>2015-01-02</td>\n",
              "      <td>27521.279297</td>\n",
              "      <td>27937.470703</td>\n",
              "      <td>27519.259766</td>\n",
              "      <td>27887.900391</td>\n",
              "      <td>27887.900391</td>\n",
              "      <td>7400</td>\n",
              "    </tr>\n",
              "    <tr>\n",
              "      <th>1</th>\n",
              "      <td>2015-01-05</td>\n",
              "      <td>27978.429688</td>\n",
              "      <td>28064.490234</td>\n",
              "      <td>27786.849609</td>\n",
              "      <td>27842.320312</td>\n",
              "      <td>27842.320312</td>\n",
              "      <td>9200</td>\n",
              "    </tr>\n",
              "    <tr>\n",
              "      <th>2</th>\n",
              "      <td>2015-01-06</td>\n",
              "      <td>27694.230469</td>\n",
              "      <td>27698.929688</td>\n",
              "      <td>26937.060547</td>\n",
              "      <td>26987.460938</td>\n",
              "      <td>26987.460938</td>\n",
              "      <td>14100</td>\n",
              "    </tr>\n",
              "    <tr>\n",
              "      <th>3</th>\n",
              "      <td>2015-01-07</td>\n",
              "      <td>26983.429688</td>\n",
              "      <td>27051.599609</td>\n",
              "      <td>26776.119141</td>\n",
              "      <td>26908.820312</td>\n",
              "      <td>26908.820312</td>\n",
              "      <td>12200</td>\n",
              "    </tr>\n",
              "    <tr>\n",
              "      <th>4</th>\n",
              "      <td>2015-01-08</td>\n",
              "      <td>27178.769531</td>\n",
              "      <td>27316.410156</td>\n",
              "      <td>27101.939453</td>\n",
              "      <td>27274.710938</td>\n",
              "      <td>27274.710938</td>\n",
              "      <td>8200</td>\n",
              "    </tr>\n",
              "  </tbody>\n",
              "</table>\n",
              "</div>"
            ],
            "text/plain": [
              "        Date          Open          High  ...         Close     Adj Close  Volume\n",
              "0 2015-01-02  27521.279297  27937.470703  ...  27887.900391  27887.900391    7400\n",
              "1 2015-01-05  27978.429688  28064.490234  ...  27842.320312  27842.320312    9200\n",
              "2 2015-01-06  27694.230469  27698.929688  ...  26987.460938  26987.460938   14100\n",
              "3 2015-01-07  26983.429688  27051.599609  ...  26908.820312  26908.820312   12200\n",
              "4 2015-01-08  27178.769531  27316.410156  ...  27274.710938  27274.710938    8200\n",
              "\n",
              "[5 rows x 7 columns]"
            ]
          },
          "metadata": {
            "tags": []
          },
          "execution_count": 47
        }
      ]
    },
    {
      "cell_type": "code",
      "metadata": {
        "colab": {
          "base_uri": "https://localhost:8080/",
          "height": 642
        },
        "id": "E5eoaa8jEZ4D",
        "outputId": "44b9323b-aa53-46bd-ad94-1afbe99ea2bc"
      },
      "source": [
        "#PLOT THE GRAPH FOR 'CLOSED' PRICES WITHIN THE PERIOD \n",
        "sns.set_style(\"darkgrid\")\n",
        "plt.figure(figsize = (20,9))\n",
        "plt.plot(data[['Close']])\n",
        "plt.xticks(range(0,data.shape[0],500),data['Date'].loc[::500],rotation=45)\n",
        "plt.title(\"BSE Sensex\",fontsize=12, fontweight='bold')\n",
        "plt.xlabel('Date',fontsize=12)\n",
        "plt.ylabel('Close Price (INR)',fontsize=12)\n",
        "plt.show()"
      ],
      "execution_count": null,
      "outputs": [
        {
          "output_type": "display_data",
          "data": {
            "image/png": "[encoded data removed]",
            "text/plain": [
              "<Figure size 1440x648 with 1 Axes>"
            ]
          },
          "metadata": {
            "tags": []
          }
        }
      ]
    },
    {
      "cell_type": "markdown",
      "metadata": {
        "id": "Hx_obt69JDfi"
      },
      "source": [
        "**</H5> DATA PRE-PROCESSING FOR FURTHER ANALYSIS</H5>**\n",
        "\n",
        "---\n",
        "\n",
        "\n",
        "\n",
        "---\n",
        "\n"
      ]
    },
    {
      "cell_type": "code",
      "metadata": {
        "id": "0whEY_0MQAGa"
      },
      "source": [
        "#IMPORT REQUIRED LIBRARIES TO SCALE AND SPLIT THE DATA FOR VALIDATION AND PREDICTION\n",
        "from sklearn.preprocessing import MinMaxScaler\n",
        "from sklearn.model_selection import train_test_split"
      ],
      "execution_count": null,
      "outputs": []
    },
    {
      "cell_type": "code",
      "metadata": {
        "id": "it9PKtgrQ3wY",
        "colab": {
          "base_uri": "https://localhost:8080/"
        },
        "outputId": "992b6c56-13a0-4807-dc05-549a6fbc5658"
      },
      "source": [
        "data_close_price=data['Close']\n",
        "data_close_price"
      ],
      "execution_count": null,
      "outputs": [
        {
          "output_type": "execute_result",
          "data": {
            "text/plain": [
              "0       27887.900391\n",
              "1       27842.320312\n",
              "2       26987.460938\n",
              "3       26908.820312\n",
              "4       27274.710938\n",
              "            ...     \n",
              "1569    51115.218750\n",
              "1570    51422.878906\n",
              "1571    51937.441406\n",
              "1572    51934.878906\n",
              "1573    51849.480469\n",
              "Name: Close, Length: 1574, dtype: float64"
            ]
          },
          "metadata": {
            "tags": []
          },
          "execution_count": 9
        }
      ]
    },
    {
      "cell_type": "code",
      "metadata": {
        "id": "qEEGPsVhiORi"
      },
      "source": [
        "#SCALE THE DATA USING MINMAXSCALER \n",
        "scaler=MinMaxScaler(feature_range=(0,1))\n",
        "transformed_data=scaler.fit_transform(np.array(data_close_price).reshape(-1,1))"
      ],
      "execution_count": null,
      "outputs": []
    },
    {
      "cell_type": "code",
      "metadata": {
        "id": "ePTPD3y5g5vG",
        "colab": {
          "base_uri": "https://localhost:8080/"
        },
        "outputId": "dadfc1b7-faac-4ced-e343-fbcc504cc316"
      },
      "source": [
        "transformed_data.shape"
      ],
      "execution_count": null,
      "outputs": [
        {
          "output_type": "execute_result",
          "data": {
            "text/plain": [
              "(1574, 1)"
            ]
          },
          "metadata": {
            "tags": []
          },
          "execution_count": 11
        }
      ]
    },
    {
      "cell_type": "code",
      "metadata": {
        "id": "eSuFWsyUVwhU",
        "colab": {
          "base_uri": "https://localhost:8080/"
        },
        "outputId": "07265b50-d69d-4667-c959-5f5b9430a08a"
      },
      "source": [
        "#SPLIT THE DATA SIZE INTO TRAINING AND TEST SIZE\n",
        "train_size=int(len(transformed_data)*0.65)\n",
        "test_size=int(len(transformed_data)-train_size)\n",
        "train_size,test_size"
      ],
      "execution_count": null,
      "outputs": [
        {
          "output_type": "execute_result",
          "data": {
            "text/plain": [
              "(1023, 551)"
            ]
          },
          "metadata": {
            "tags": []
          },
          "execution_count": 13
        }
      ]
    },
    {
      "cell_type": "code",
      "metadata": {
        "id": "__SN0DqQj39Z"
      },
      "source": [
        "#SPLIT THE ORIGINAL DATASET INTO TRAIN AND TEST DATA BASED ON THEIR RESPECTIVE SIZES\n",
        "train_data,test_data=transformed_data[0:train_size,:],transformed_data[train_size:len(transformed_data),:1]"
      ],
      "execution_count": null,
      "outputs": []
    },
    {
      "cell_type": "code",
      "metadata": {
        "colab": {
          "base_uri": "https://localhost:8080/"
        },
        "id": "AIelKMrCk2vf",
        "outputId": "0ae4de74-261e-48b9-f889-c49c5b658ff4"
      },
      "source": [
        "len(train_data),len(test_data)"
      ],
      "execution_count": null,
      "outputs": [
        {
          "output_type": "execute_result",
          "data": {
            "text/plain": [
              "(1023, 551)"
            ]
          },
          "metadata": {
            "tags": []
          },
          "execution_count": 15
        }
      ]
    },
    {
      "cell_type": "markdown",
      "metadata": {
        "id": "4WGQjdg2Mrxt"
      },
      "source": [
        "Here we are going to take past 100 values into consideration and shift the values one by one. \n",
        "e.g: \n",
        "\n",
        "1.   120,125,456,478.....365,371 --> 655\n",
        "2.   125,456,478.....371 -->662\n",
        "3.   and so on\n",
        "\n"
      ]
    },
    {
      "cell_type": "code",
      "metadata": {
        "id": "Sm6nzJRuk6_8"
      },
      "source": [
        "#CREATE A FUNCTION TO SHIFT THE PRICES BY USING TIMESTEP=1\n",
        "def Timestep_Data(Data_set,timestep=1):\n",
        "  data_x,data_y=[],[] \n",
        "  for i in range(len(Data_set)-timestep-1):\n",
        "    a=Data_set[i:(i+timestep),0]\n",
        "    data_x.append(a)\n",
        "    data_y.append(Data_set[i+timestep,0])\n",
        "  \n",
        "  return np.array(data_x),np.array(data_y)\n",
        "    \n"
      ],
      "execution_count": null,
      "outputs": []
    },
    {
      "cell_type": "code",
      "metadata": {
        "id": "SmSNbsjJ6C1M"
      },
      "source": [
        "timestep=100\n",
        "x_train,y_train= Timestep_Data(train_data,timestep)\n",
        "x_test,y_test= Timestep_Data(test_data,timestep)"
      ],
      "execution_count": null,
      "outputs": []
    },
    {
      "cell_type": "code",
      "metadata": {
        "id": "xsWCol036Zrr",
        "colab": {
          "base_uri": "https://localhost:8080/"
        },
        "outputId": "ae51b03e-213a-4440-937b-0f84354baf2f"
      },
      "source": [
        "x_train,y_train"
      ],
      "execution_count": null,
      "outputs": [
        {
          "output_type": "execute_result",
          "data": {
            "text/plain": [
              "(array([[0.1690302 , 0.16746936, 0.13819566, ..., 0.15597679, 0.16699402,\n",
              "         0.16769776],\n",
              "        [0.16746936, 0.13819566, 0.1355027 , ..., 0.16699402, 0.16769776,\n",
              "         0.14507593],\n",
              "        [0.13819566, 0.1355027 , 0.14803221, ..., 0.16769776, 0.14507593,\n",
              "         0.13305011],\n",
              "        ...,\n",
              "        [0.46914897, 0.46538937, 0.45792086, ..., 0.42964465, 0.42465079,\n",
              "         0.43847341],\n",
              "        [0.46538937, 0.45792086, 0.45459813, ..., 0.42465079, 0.43847341,\n",
              "         0.44333912],\n",
              "        [0.45792086, 0.45459813, 0.46483705, ..., 0.43847341, 0.44333912,\n",
              "         0.44241895]]),\n",
              " array([0.14507593, 0.13305011, 0.13223582, 0.13069725, 0.12229379,\n",
              "        0.12086103, 0.13316314, 0.11708497, 0.11894511, 0.12446694,\n",
              "        0.12788992, 0.13289468, 0.14259151, 0.14945193, 0.1636303 ,\n",
              "        0.16616976, 0.16361177, 0.16930656, 0.16642559, 0.16071749,\n",
              "        0.16536369, 0.17358356, 0.17101293, 0.17604638, 0.18001767,\n",
              "        0.17874824, 0.16217527, 0.15826939, 0.16127396, 0.1715399 ,\n",
              "        0.17057117, 0.17965911, 0.18814577, 0.18873447, 0.18725543,\n",
              "        0.17910612, 0.19015967, 0.18556792, 0.17671487, 0.1578489 ,\n",
              "        0.15435088, 0.15791906, 0.16277895, 0.17679192, 0.1792746 ,\n",
              "        0.17533207, 0.18050805, 0.18307808, 0.18096385, 0.17635223,\n",
              "        0.16828332, 0.1561668 , 0.15744306, 0.1751739 , 0.1687004 ,\n",
              "        0.16710017, 0.17052803, 0.15943917, 0.15116071, 0.09553119,\n",
              "        0.10549001, 0.09461002, 0.11229799, 0.11781781, 0.11407526,\n",
              "        0.09398607, 0.08566896, 0.09632629, 0.07705114, 0.06650095,\n",
              "        0.08102236, 0.0947785 , 0.0914428 , 0.09103327, 0.09947399,\n",
              "        0.09431105, 0.10314738, 0.1118775 , 0.11098956, 0.09245881,\n",
              "        0.09831966, 0.09970687, 0.09126027, 0.09680163, 0.10968315,\n",
              "        0.11194732, 0.13128147, 0.13632662, 0.13985267, 0.133345  ,\n",
              "        0.14134777, 0.13534138, 0.13336961, 0.13107975, 0.1389723 ,\n",
              "        0.14597377, 0.15112132, 0.14913209, 0.14847564, 0.15474742,\n",
              "        0.15101999, 0.14730379, 0.13998657, 0.13308235, 0.12687357,\n",
              "        0.12352864, 0.12460525, 0.12331529, 0.11479812, 0.11346402,\n",
              "        0.10853838, 0.09558938, 0.09104418, 0.09616604, 0.09974011,\n",
              "        0.08666062, 0.09896789, 0.09987776, 0.09819466, 0.09670164,\n",
              "        0.10296452, 0.1087712 , 0.10936947, 0.11018242, 0.10841679,\n",
              "        0.10049856, 0.09198862, 0.08829029, 0.08076419, 0.0713718 ,\n",
              "        0.07877771, 0.07165873, 0.07528584, 0.08111037, 0.0870664 ,\n",
              "        0.09766181, 0.08791741, 0.09533737, 0.09036344, 0.09925488,\n",
              "        0.098858  , 0.10554994, 0.10710288, 0.10301241, 0.10840616,\n",
              "        0.09148319, 0.09001037, 0.0840516 , 0.06506337, 0.06788849,\n",
              "        0.06414594, 0.05924873, 0.06514142, 0.06236292, 0.05147571,\n",
              "        0.04234389, 0.05232498, 0.03801786, 0.03459936, 0.0508121 ,\n",
              "        0.05253419, 0.05275477, 0.05197331, 0.06570919, 0.06413879,\n",
              "        0.05435086, 0.04354076, 0.04748255, 0.05702087, 0.04573578,\n",
              "        0.03661186, 0.02763722, 0.        , 0.00117419, 0.02062471,\n",
              "        0.00822335, 0.01472621, 0.02388136, 0.02593359, 0.02866072,\n",
              "        0.01569567, 0.00469482, 0.00082767, 0.00693338, 0.00171801,\n",
              "        0.02833748, 0.044214  , 0.0566791 , 0.0580314 , 0.05846801,\n",
              "        0.06308171, 0.05723898, 0.06048018, 0.06343505, 0.0547676 ,\n",
              "        0.05926418, 0.05908915, 0.06851893, 0.07990943, 0.08145455,\n",
              "        0.08169667, 0.0689867 , 0.06672868, 0.08173158, 0.08184388,\n",
              "        0.07937082, 0.08382286, 0.06615095, 0.0667345 , 0.05936484,\n",
              "        0.05896829, 0.07089613, 0.07512284, 0.09159964, 0.0980926 ,\n",
              "        0.09904527, 0.10028494, 0.09883847, 0.09338647, 0.10463117,\n",
              "        0.10657685, 0.09078975, 0.09091028, 0.08510086, 0.07800308,\n",
              "        0.07362093, 0.0791164 , 0.07796201, 0.0937265 , 0.09659168,\n",
              "        0.09058155, 0.09719751, 0.08690207, 0.09250643, 0.09662867,\n",
              "        0.09426584, 0.08382527, 0.08047552, 0.07802568, 0.08059779,\n",
              "        0.10031196, 0.1169377 , 0.12676295, 0.12922851, 0.12725474,\n",
              "        0.12882889, 0.13325357, 0.13324976, 0.13100404, 0.13895618,\n",
              "        0.13933253, 0.13052503, 0.12615171, 0.11796809, 0.11793184,\n",
              "        0.12925386, 0.12237498, 0.12581476, 0.13406786, 0.13221388,\n",
              "        0.1306    , 0.13870109, 0.11800033, 0.11818011, 0.12234382,\n",
              "        0.12973501, 0.13861548, 0.14358733, 0.14817086, 0.14433929,\n",
              "        0.14552485, 0.1429706 , 0.16008532, 0.16629891, 0.16653996,\n",
              "        0.17088652, 0.16727005, 0.16419358, 0.16559618, 0.16998869,\n",
              "        0.16295599, 0.1661311 , 0.17613373, 0.17206486, 0.17370208,\n",
              "        0.18001285, 0.17464479, 0.17297573, 0.17224263, 0.16251048,\n",
              "        0.16308781, 0.17555192, 0.17912084, 0.17578514, 0.16515997,\n",
              "        0.16806107, 0.1780877 , 0.1750814 , 0.17305278, 0.17709597,\n",
              "        0.1755057 , 0.17237372, 0.17253371, 0.17492148, 0.16724985,\n",
              "        0.16541232, 0.16953563, 0.18461491, 0.18835297, 0.18737054,\n",
              "        0.19109041, 0.20636011, 0.20459106, 0.20866334, 0.20016985,\n",
              "        0.18497547, 0.18561554, 0.1870079 , 0.19338201, 0.19459666,\n",
              "        0.19078529, 0.19024495, 0.19934392, 0.19575139, 0.18294619,\n",
              "        0.18052925, 0.18289589, 0.16696286, 0.1682789 , 0.18120008,\n",
              "        0.18432524, 0.18043615, 0.176506  , 0.17496261, 0.17568856,\n",
              "        0.1606476 , 0.16169171, 0.1567733 , 0.17461128, 0.17233366,\n",
              "        0.17731514, 0.17551185, 0.17900132, 0.17599949, 0.16727038,\n",
              "        0.16998903, 0.17086599, 0.16864355, 0.15667912, 0.15335948,\n",
              "        0.14801302, 0.15434265, 0.15886799, 0.14727263, 0.1563524 ,\n",
              "        0.13242075, 0.11481291, 0.11460945, 0.11217573, 0.10952597,\n",
              "        0.09633867, 0.10303809, 0.10615536, 0.09959284, 0.11521387,\n",
              "        0.11637234, 0.11787359, 0.12673593, 0.12355499, 0.11227986,\n",
              "        0.11633569, 0.11783078, 0.11249248, 0.12815598, 0.12996749,\n",
              "        0.12202499, 0.12827724, 0.12502474, 0.12215614, 0.12114562,\n",
              "        0.11721232, 0.11492761, 0.11268122, 0.10368257, 0.10577486,\n",
              "        0.09777551, 0.11169016, 0.11159565, 0.11691957, 0.12583362,\n",
              "        0.12477165, 0.1264082 , 0.12606202, 0.13445552, 0.13038016,\n",
              "        0.12926108, 0.13518561, 0.14343323, 0.14708877, 0.14677716,\n",
              "        0.1484931 , 0.14669496, 0.14744766, 0.14919269, 0.13980646,\n",
              "        0.14264321, 0.15148636, 0.16287452, 0.16884393, 0.16771729,\n",
              "        0.16108769, 0.17771925, 0.18062891, 0.18110524, 0.18791155,\n",
              "        0.18434611, 0.1827969 , 0.1841591 , 0.18431494, 0.18490973,\n",
              "        0.18448823, 0.17819592, 0.18318556, 0.18892074, 0.19552399,\n",
              "        0.19894871, 0.20247998, 0.2034477 , 0.20070512, 0.19832309,\n",
              "        0.20658169, 0.20162656, 0.20137521, 0.208763  , 0.20709775,\n",
              "        0.20375483, 0.20468597, 0.20527152, 0.2222702 , 0.22074561,\n",
              "        0.22717456, 0.22933674, 0.22487648, 0.22373647, 0.2128548 ,\n",
              "        0.21848725, 0.22154319, 0.21523375, 0.22113634, 0.22531102,\n",
              "        0.22928297, 0.22836113, 0.23828229, 0.24047457, 0.23886852,\n",
              "        0.23130985, 0.22682838, 0.23410895, 0.22914807, 0.22291461,\n",
              "        0.22127813, 0.21804001, 0.21863827, 0.2215771 , 0.21962212,\n",
              "        0.2295713 , 0.23941301, 0.24592309, 0.2423751 , 0.23856239,\n",
              "        0.23865757, 0.23775425, 0.24567863, 0.23652147, 0.23882778,\n",
              "        0.2390709 , 0.24985498, 0.24995123, 0.24779968, 0.25238729,\n",
              "        0.26130715, 0.26391551, 0.25624555, 0.25727734, 0.26090893,\n",
              "        0.25386426, 0.25168603, 0.26704059, 0.27656661, 0.27934271,\n",
              "        0.28105905, 0.28059334, 0.28031217, 0.28495904, 0.28619871,\n",
              "        0.28212609, 0.28489022, 0.28290681, 0.28457453, 0.27887767,\n",
              "        0.27914447, 0.28093953, 0.27819387, 0.27753193, 0.28626994,\n",
              "        0.28578912, 0.28531352, 0.28555663, 0.28033344, 0.27417088,\n",
              "        0.26992705, 0.27072148, 0.27291616, 0.28318966, 0.28278455,\n",
              "        0.28400951, 0.28824819, 0.28794996, 0.30010687, 0.30118381,\n",
              "        0.30316073, 0.31112451, 0.310555  , 0.31240517, 0.29994762,\n",
              "        0.30831544, 0.30657074, 0.31083377, 0.31826395, 0.31766127,\n",
              "        0.32294139, 0.32297015, 0.32045596, 0.32747796, 0.32954049,\n",
              "        0.32616987, 0.3179904 , 0.32098775, 0.31921596, 0.31033034,\n",
              "        0.30292169, 0.29379536, 0.28291471, 0.29097707, 0.30199885,\n",
              "        0.30284023, 0.29356763, 0.28446458, 0.28559462, 0.29505142,\n",
              "        0.29601199, 0.30131156, 0.28890056, 0.29773789, 0.30061538,\n",
              "        0.30615399, 0.29964832, 0.30332272, 0.29826901, 0.29829536,\n",
              "        0.2991439 , 0.30580915, 0.31527758, 0.31622785, 0.31812905,\n",
              "        0.31917964, 0.32435562, 0.32362312, 0.32355945, 0.32251601,\n",
              "        0.30718847, 0.29705883, 0.29613866, 0.28107309, 0.28527379,\n",
              "        0.28531626, 0.29263281, 0.29860255, 0.29587394, 0.30348264,\n",
              "        0.30460138, 0.30725595, 0.30415962, 0.31608438, 0.32466141,\n",
              "        0.33154275, 0.33070445, 0.32985484, 0.32319822, 0.32719652,\n",
              "        0.33064211, 0.34554368, 0.34912658, 0.3494721 , 0.35320268,\n",
              "        0.35138668, 0.36464388, 0.36371755, 0.36756451, 0.36912715,\n",
              "        0.35678464, 0.35158117, 0.35268113, 0.35486003, 0.3452375 ,\n",
              "        0.34209776, 0.33588484, 0.34774626, 0.35582715, 0.35641264,\n",
              "        0.36046893, 0.363318  , 0.3642264 , 0.36734807, 0.368896  ,\n",
              "        0.36527124, 0.36472922, 0.3492027 , 0.33836758, 0.33962698,\n",
              "        0.33732315, 0.33029419, 0.3423491 , 0.35265959, 0.3596963 ,\n",
              "        0.35189552, 0.34590458, 0.35253626, 0.35994217, 0.36469217,\n",
              "        0.37274148, 0.37070879, 0.36998632, 0.37628787, 0.3786955 ,\n",
              "        0.37531218, 0.3731282 , 0.38027821, 0.37192003, 0.37190331,\n",
              "        0.37125669, 0.37729258, 0.38360067, 0.39041306, 0.39350879,\n",
              "        0.39316221, 0.39557359, 0.39861795, 0.40721731, 0.40473597,\n",
              "        0.41537792, 0.42148939, 0.4300945 , 0.4399031 , 0.45161343,\n",
              "        0.45235516, 0.44854727, 0.45651954, 0.44797502, 0.44562209,\n",
              "        0.44362364, 0.41486186, 0.4042603 , 0.38504199, 0.38116454,\n",
              "        0.39248041, 0.3785295 , 0.38862141, 0.3836725 , 0.38851868,\n",
              "        0.37870072, 0.37061569, 0.36818197, 0.37301958, 0.37215118,\n",
              "        0.38319991, 0.39359641, 0.39019396, 0.38463441, 0.37993965,\n",
              "        0.36966101, 0.35495045, 0.34522144, 0.35612745, 0.35460601,\n",
              "        0.37552219, 0.37342783, 0.37270724, 0.36756384, 0.35011524,\n",
              "        0.34145569, 0.34397743, 0.34875164, 0.34430301, 0.33027225,\n",
              "        0.34636246, 0.35006013, 0.34301579, 0.35283281, 0.35678009,\n",
              "        0.34474136, 0.36452509, 0.36555816, 0.37109096, 0.37423149,\n",
              "        0.37629268, 0.38179524, 0.38492923, 0.3887913 , 0.39186054,\n",
              "        0.3896902 , 0.39296423, 0.39256321, 0.3937683 , 0.39944837,\n",
              "        0.39549761, 0.40276868, 0.41153846, 0.41806741, 0.41861745,\n",
              "        0.41610801, 0.40967832, 0.41970362, 0.41998372, 0.42351191,\n",
              "        0.4210093 , 0.43092357, 0.43164002, 0.43120274, 0.42585856,\n",
              "        0.41768256, 0.40738131, 0.39943084, 0.40063312, 0.39014326,\n",
              "        0.40103964, 0.41000337, 0.41824277, 0.4108378 , 0.4093609 ,\n",
              "        0.42361558, 0.4203584 , 0.41298326, 0.40926165, 0.41870159,\n",
              "        0.42843367, 0.42776912, 0.42913192, 0.43629063, 0.43788779,\n",
              "        0.43311625, 0.43388059, 0.43135069, 0.42239511, 0.43131872,\n",
              "        0.42738281, 0.43619071, 0.42868274, 0.42935692, 0.42001075,\n",
              "        0.41386504, 0.42707769, 0.42163051, 0.42554086, 0.43467702,\n",
              "        0.43225093, 0.43510374, 0.44458447, 0.45502551, 0.45592642,\n",
              "        0.46559965, 0.46536743, 0.45790708, 0.46462544, 0.45960804,\n",
              "        0.45884745, 0.46381763, 0.47142766, 0.47507464, 0.4762091 ,\n",
              "        0.48053787, 0.49259894, 0.49799396, 0.50183543, 0.49892617,\n",
              "        0.48671956, 0.50010892, 0.50475686, 0.50386344, 0.51145729,\n",
              "        0.51614228, 0.51082966, 0.50314766, 0.51023962, 0.50378666,\n",
              "        0.51352289, 0.5248532 , 0.5250929 , 0.52683974, 0.52393035,\n",
              "        0.53907671, 0.54601177, 0.54006363, 0.53893947, 0.53739743,\n",
              "        0.5260096 , 0.52071557, 0.51593467, 0.52362242, 0.52865668,\n",
              "        0.51264258, 0.49521097, 0.5056496 , 0.5184116 , 0.50111403,\n",
              "        0.49101757, 0.48521484, 0.47563966, 0.45726501, 0.46914897,\n",
              "        0.46538937, 0.45792086, 0.45459813, 0.46483705, 0.4459854 ,\n",
              "        0.41836878, 0.39124174, 0.39457677, 0.38858717, 0.40438805,\n",
              "        0.37837153, 0.40345276, 0.40795663, 0.41814004, 0.40502798,\n",
              "        0.38914056, 0.38293385, 0.37310078, 0.37949515, 0.36771967,\n",
              "        0.35605   , 0.38064018, 0.37460403, 0.39346973, 0.39312448,\n",
              "        0.41297497, 0.41089545, 0.41229905, 0.42071515, 0.41800547,\n",
              "        0.40617207, 0.41752392, 0.41743831, 0.42149795, 0.42823102,\n",
              "        0.43911094, 0.4288252 , 0.41941803, 0.41192611, 0.42470109,\n",
              "        0.430148  , 0.4371272 , 0.45265546, 0.45347357, 0.45507273,\n",
              "        0.4514192 , 0.44286171, 0.42326458, 0.43563077, 0.41119669,\n",
              "        0.41771306, 0.43925447, 0.44441058, 0.44555053, 0.45606821,\n",
              "        0.45870526, 0.46340523, 0.46160208, 0.43798744, 0.42867578,\n",
              "        0.43483259, 0.44022052, 0.44944711, 0.44915978, 0.44310517,\n",
              "        0.43016753, 0.43637905, 0.44168886, 0.44616692, 0.45411083,\n",
              "        0.45046693, 0.44715691, 0.44180524, 0.45772075, 0.45782214,\n",
              "        0.45962984, 0.46005896, 0.46664583, 0.46204618, 0.45053435,\n",
              "        0.45350099, 0.44769451, 0.43506401, 0.43286558, 0.43282277,\n",
              "        0.45561007, 0.46289505, 0.46677518, 0.46794188, 0.48021563,\n",
              "        0.48007384, 0.46553357, 0.46034736, 0.45208054, 0.44258121,\n",
              "        0.44027764, 0.42964465, 0.42465079, 0.43847341, 0.44333912,\n",
              "        0.44241895, 0.45412688]))"
            ]
          },
          "metadata": {
            "tags": []
          },
          "execution_count": 18
        }
      ]
    },
    {
      "cell_type": "code",
      "metadata": {
        "id": "CeMAu9ad6cml",
        "colab": {
          "base_uri": "https://localhost:8080/"
        },
        "outputId": "9e5c6393-ea89-4830-df72-87b7b321f162"
      },
      "source": [
        "print(x_train.shape,y_train.shape)"
      ],
      "execution_count": null,
      "outputs": [
        {
          "output_type": "stream",
          "text": [
            "(922, 100) (922,)\n"
          ],
          "name": "stdout"
        }
      ]
    },
    {
      "cell_type": "code",
      "metadata": {
        "id": "3Zls6S-n63bH",
        "colab": {
          "base_uri": "https://localhost:8080/"
        },
        "outputId": "da2c889f-be80-4a7a-f16b-c465ea9198f1"
      },
      "source": [
        "print(x_test.shape,y_test.shape)"
      ],
      "execution_count": null,
      "outputs": [
        {
          "output_type": "stream",
          "text": [
            "(450, 100) (450,)\n"
          ],
          "name": "stdout"
        }
      ]
    },
    {
      "cell_type": "code",
      "metadata": {
        "id": "NE2nD1rC660h"
      },
      "source": [
        "x_train=x_train.reshape(x_train.shape[0],x_train.shape[1],1)\n",
        "x_test=x_test.reshape(x_test.shape[0],x_test.shape[1],1)"
      ],
      "execution_count": null,
      "outputs": []
    },
    {
      "cell_type": "code",
      "metadata": {
        "id": "rKMtHejD8I1y",
        "colab": {
          "base_uri": "https://localhost:8080/"
        },
        "outputId": "3afaea76-4736-4e5e-97c0-a53378fd4c1d"
      },
      "source": [
        "x_train.shape"
      ],
      "execution_count": null,
      "outputs": [
        {
          "output_type": "execute_result",
          "data": {
            "text/plain": [
              "(922, 100, 1)"
            ]
          },
          "metadata": {
            "tags": []
          },
          "execution_count": 22
        }
      ]
    },
    {
      "cell_type": "markdown",
      "metadata": {
        "id": "mjK5nHkd8KPK"
      },
      "source": [
        "CREATE LSTM DATA MODEL"
      ]
    },
    {
      "cell_type": "code",
      "metadata": {
        "id": "ijr_hT7E8OIO"
      },
      "source": [
        "#IMPORT REQUIRED LIBRARIES\n",
        "from tensorflow.keras.models import Sequential\n",
        "from tensorflow.keras.layers import Dense\n",
        "from tensorflow.keras.layers import LSTM"
      ],
      "execution_count": null,
      "outputs": []
    },
    {
      "cell_type": "code",
      "metadata": {
        "id": "c85xIDfj8pYn"
      },
      "source": [
        "#INITIATE THE MODEL AND ADD LAYERS LSTM AND DENSE[HYPERPARAMETER TUNING WHENEVER NECESSARY]\n",
        "model=Sequential()\n",
        "model.add(LSTM(50,return_sequences=True,input_shape=(100,1)))\n",
        "model.add(LSTM(50,return_sequences=True))\n",
        "model.add(LSTM(50))\n",
        "model.add(Dense(1))\n",
        "model.compile(loss=\"mean_squared_error\",optimizer=\"adam\")"
      ],
      "execution_count": null,
      "outputs": []
    },
    {
      "cell_type": "code",
      "metadata": {
        "id": "VNM5xZqmYtUD",
        "colab": {
          "base_uri": "https://localhost:8080/"
        },
        "outputId": "fcbbff9c-d69d-4730-d4da-bd62796c2b56"
      },
      "source": [
        "#DISPLAY MODEL SUMMARY\n",
        "model.summary()"
      ],
      "execution_count": null,
      "outputs": [
        {
          "output_type": "stream",
          "text": [
            "Model: \"sequential_3\"\n",
            "_________________________________________________________________\n",
            "Layer (type)                 Output Shape              Param #   \n",
            "=================================================================\n",
            "lstm_9 (LSTM)                (None, 100, 50)           10400     \n",
            "_________________________________________________________________\n",
            "lstm_10 (LSTM)               (None, 100, 50)           20200     \n",
            "_________________________________________________________________\n",
            "lstm_11 (LSTM)               (None, 50)                20200     \n",
            "_________________________________________________________________\n",
            "dense_3 (Dense)              (None, 1)                 51        \n",
            "=================================================================\n",
            "Total params: 50,851\n",
            "Trainable params: 50,851\n",
            "Non-trainable params: 0\n",
            "_________________________________________________________________\n"
          ],
          "name": "stdout"
        }
      ]
    },
    {
      "cell_type": "code",
      "metadata": {
        "id": "i3bBr3tQZnS5",
        "colab": {
          "base_uri": "https://localhost:8080/"
        },
        "outputId": "a30501ad-f983-467a-b06c-f038e4a01166"
      },
      "source": [
        "#FIT THE MODEL AND RUN THE ENTIRE DATASET REQUIRED NUMBER OF TIMES(EPOCHS) TO GET MINIMUM PREIDICTION AND VALIDATION LOSS\n",
        "model.fit(x_train,y_train,validation_data=(x_test,y_test),epochs=500,batch_size=100,verbose=1)"
      ],
      "execution_count": null,
      "outputs": [
        {
          "output_type": "stream",
          "text": [
            "Epoch 1/500\n",
            "10/10 [==============================] - 0s 32ms/step - loss: 8.9536e-05 - val_loss: 6.1651e-04\n",
            "Epoch 2/500\n",
            "10/10 [==============================] - 0s 20ms/step - loss: 8.1283e-05 - val_loss: 5.9830e-04\n",
            "Epoch 3/500\n",
            "10/10 [==============================] - 0s 20ms/step - loss: 7.7379e-05 - val_loss: 6.2243e-04\n",
            "Epoch 4/500\n",
            "10/10 [==============================] - 0s 19ms/step - loss: 7.8970e-05 - val_loss: 5.2044e-04\n",
            "Epoch 5/500\n",
            "10/10 [==============================] - 0s 19ms/step - loss: 8.4810e-05 - val_loss: 5.1882e-04\n",
            "Epoch 6/500\n",
            "10/10 [==============================] - 0s 19ms/step - loss: 8.7341e-05 - val_loss: 5.5798e-04\n",
            "Epoch 7/500\n",
            "10/10 [==============================] - 0s 18ms/step - loss: 8.2342e-05 - val_loss: 5.6613e-04\n",
            "Epoch 8/500\n",
            "10/10 [==============================] - 0s 19ms/step - loss: 7.2074e-05 - val_loss: 5.0093e-04\n",
            "Epoch 9/500\n",
            "10/10 [==============================] - 0s 18ms/step - loss: 7.3678e-05 - val_loss: 5.2202e-04\n",
            "Epoch 10/500\n",
            "10/10 [==============================] - 0s 19ms/step - loss: 7.2826e-05 - val_loss: 5.0979e-04\n",
            "Epoch 11/500\n",
            "10/10 [==============================] - 0s 18ms/step - loss: 7.4665e-05 - val_loss: 5.1795e-04\n",
            "Epoch 12/500\n",
            "10/10 [==============================] - 0s 20ms/step - loss: 7.2847e-05 - val_loss: 5.0988e-04\n",
            "Epoch 13/500\n",
            "10/10 [==============================] - 0s 18ms/step - loss: 7.6041e-05 - val_loss: 5.0981e-04\n",
            "Epoch 14/500\n",
            "10/10 [==============================] - 0s 18ms/step - loss: 7.9375e-05 - val_loss: 6.9781e-04\n",
            "Epoch 15/500\n",
            "10/10 [==============================] - 0s 19ms/step - loss: 9.6031e-05 - val_loss: 5.0754e-04\n",
            "Epoch 16/500\n",
            "10/10 [==============================] - 0s 18ms/step - loss: 8.6395e-05 - val_loss: 6.5618e-04\n",
            "Epoch 17/500\n",
            "10/10 [==============================] - 0s 19ms/step - loss: 8.9951e-05 - val_loss: 6.4308e-04\n",
            "Epoch 18/500\n",
            "10/10 [==============================] - 0s 18ms/step - loss: 7.7587e-05 - val_loss: 6.1048e-04\n",
            "Epoch 19/500\n",
            "10/10 [==============================] - 0s 19ms/step - loss: 8.8168e-05 - val_loss: 5.1780e-04\n",
            "Epoch 20/500\n",
            "10/10 [==============================] - 0s 21ms/step - loss: 7.6765e-05 - val_loss: 5.2464e-04\n",
            "Epoch 21/500\n",
            "10/10 [==============================] - 0s 19ms/step - loss: 8.0874e-05 - val_loss: 5.2849e-04\n",
            "Epoch 22/500\n",
            "10/10 [==============================] - 0s 20ms/step - loss: 7.9268e-05 - val_loss: 5.2165e-04\n",
            "Epoch 23/500\n",
            "10/10 [==============================] - 0s 20ms/step - loss: 8.1054e-05 - val_loss: 5.9284e-04\n",
            "Epoch 24/500\n",
            "10/10 [==============================] - 0s 19ms/step - loss: 8.6622e-05 - val_loss: 5.0531e-04\n",
            "Epoch 25/500\n",
            "10/10 [==============================] - 0s 19ms/step - loss: 7.7842e-05 - val_loss: 5.2698e-04\n",
            "Epoch 26/500\n",
            "10/10 [==============================] - 0s 20ms/step - loss: 7.9817e-05 - val_loss: 5.1750e-04\n",
            "Epoch 27/500\n",
            "10/10 [==============================] - 0s 19ms/step - loss: 8.1264e-05 - val_loss: 7.5391e-04\n",
            "Epoch 28/500\n",
            "10/10 [==============================] - 0s 20ms/step - loss: 1.0835e-04 - val_loss: 5.1087e-04\n",
            "Epoch 29/500\n",
            "10/10 [==============================] - 0s 18ms/step - loss: 8.9859e-05 - val_loss: 6.4559e-04\n",
            "Epoch 30/500\n",
            "10/10 [==============================] - 0s 20ms/step - loss: 9.3174e-05 - val_loss: 5.7462e-04\n",
            "Epoch 31/500\n",
            "10/10 [==============================] - 0s 18ms/step - loss: 9.0291e-05 - val_loss: 5.9393e-04\n",
            "Epoch 32/500\n",
            "10/10 [==============================] - 0s 19ms/step - loss: 8.1360e-05 - val_loss: 6.4590e-04\n",
            "Epoch 33/500\n",
            "10/10 [==============================] - 0s 18ms/step - loss: 8.0739e-05 - val_loss: 5.0390e-04\n",
            "Epoch 34/500\n",
            "10/10 [==============================] - 0s 19ms/step - loss: 8.1914e-05 - val_loss: 5.1732e-04\n",
            "Epoch 35/500\n",
            "10/10 [==============================] - 0s 19ms/step - loss: 8.9197e-05 - val_loss: 6.3852e-04\n",
            "Epoch 36/500\n",
            "10/10 [==============================] - 0s 19ms/step - loss: 8.6976e-05 - val_loss: 5.1295e-04\n",
            "Epoch 37/500\n",
            "10/10 [==============================] - 0s 19ms/step - loss: 7.5806e-05 - val_loss: 5.1946e-04\n",
            "Epoch 38/500\n",
            "10/10 [==============================] - 0s 18ms/step - loss: 8.2356e-05 - val_loss: 5.0289e-04\n",
            "Epoch 39/500\n",
            "10/10 [==============================] - 0s 20ms/step - loss: 1.0109e-04 - val_loss: 5.0458e-04\n",
            "Epoch 40/500\n",
            "10/10 [==============================] - 0s 18ms/step - loss: 7.9239e-05 - val_loss: 5.1538e-04\n",
            "Epoch 41/500\n",
            "10/10 [==============================] - 0s 20ms/step - loss: 8.2159e-05 - val_loss: 5.2502e-04\n",
            "Epoch 42/500\n",
            "10/10 [==============================] - 0s 18ms/step - loss: 8.0891e-05 - val_loss: 5.0349e-04\n",
            "Epoch 43/500\n",
            "10/10 [==============================] - 0s 19ms/step - loss: 7.3735e-05 - val_loss: 6.7900e-04\n",
            "Epoch 44/500\n",
            "10/10 [==============================] - 0s 18ms/step - loss: 7.6648e-05 - val_loss: 5.6340e-04\n",
            "Epoch 45/500\n",
            "10/10 [==============================] - 0s 18ms/step - loss: 8.0207e-05 - val_loss: 5.3129e-04\n",
            "Epoch 46/500\n",
            "10/10 [==============================] - 0s 19ms/step - loss: 7.1106e-05 - val_loss: 4.9601e-04\n",
            "Epoch 47/500\n",
            "10/10 [==============================] - 0s 19ms/step - loss: 7.2711e-05 - val_loss: 4.9325e-04\n",
            "Epoch 48/500\n",
            "10/10 [==============================] - 0s 19ms/step - loss: 7.2432e-05 - val_loss: 5.0608e-04\n",
            "Epoch 49/500\n",
            "10/10 [==============================] - 0s 20ms/step - loss: 7.6221e-05 - val_loss: 4.9364e-04\n",
            "Epoch 50/500\n",
            "10/10 [==============================] - 0s 19ms/step - loss: 7.4528e-05 - val_loss: 4.9780e-04\n",
            "Epoch 51/500\n",
            "10/10 [==============================] - 0s 19ms/step - loss: 7.3453e-05 - val_loss: 6.1769e-04\n",
            "Epoch 52/500\n",
            "10/10 [==============================] - 0s 19ms/step - loss: 7.7079e-05 - val_loss: 6.5464e-04\n",
            "Epoch 53/500\n",
            "10/10 [==============================] - 0s 19ms/step - loss: 1.0060e-04 - val_loss: 4.7932e-04\n",
            "Epoch 54/500\n",
            "10/10 [==============================] - 0s 19ms/step - loss: 1.0615e-04 - val_loss: 4.8331e-04\n",
            "Epoch 55/500\n",
            "10/10 [==============================] - 0s 18ms/step - loss: 1.2185e-04 - val_loss: 7.1885e-04\n",
            "Epoch 56/500\n",
            "10/10 [==============================] - 0s 19ms/step - loss: 9.0632e-05 - val_loss: 4.8653e-04\n",
            "Epoch 57/500\n",
            "10/10 [==============================] - 0s 19ms/step - loss: 8.3598e-05 - val_loss: 5.8280e-04\n",
            "Epoch 58/500\n",
            "10/10 [==============================] - 0s 19ms/step - loss: 9.2319e-05 - val_loss: 5.2243e-04\n",
            "Epoch 59/500\n",
            "10/10 [==============================] - 0s 19ms/step - loss: 9.5551e-05 - val_loss: 5.6065e-04\n",
            "Epoch 60/500\n",
            "10/10 [==============================] - 0s 18ms/step - loss: 8.4256e-05 - val_loss: 4.7182e-04\n",
            "Epoch 61/500\n",
            "10/10 [==============================] - 0s 19ms/step - loss: 7.2230e-05 - val_loss: 4.9548e-04\n",
            "Epoch 62/500\n",
            "10/10 [==============================] - 0s 19ms/step - loss: 7.9618e-05 - val_loss: 5.2415e-04\n",
            "Epoch 63/500\n",
            "10/10 [==============================] - 0s 19ms/step - loss: 8.8865e-05 - val_loss: 4.8664e-04\n",
            "Epoch 64/500\n",
            "10/10 [==============================] - 0s 20ms/step - loss: 7.7108e-05 - val_loss: 4.9052e-04\n",
            "Epoch 65/500\n",
            "10/10 [==============================] - 0s 18ms/step - loss: 7.6432e-05 - val_loss: 5.0415e-04\n",
            "Epoch 66/500\n",
            "10/10 [==============================] - 0s 19ms/step - loss: 7.8897e-05 - val_loss: 4.9869e-04\n",
            "Epoch 67/500\n",
            "10/10 [==============================] - 0s 18ms/step - loss: 7.9817e-05 - val_loss: 4.8188e-04\n",
            "Epoch 68/500\n",
            "10/10 [==============================] - 0s 19ms/step - loss: 7.8018e-05 - val_loss: 5.6879e-04\n",
            "Epoch 69/500\n",
            "10/10 [==============================] - 0s 20ms/step - loss: 7.8668e-05 - val_loss: 6.0356e-04\n",
            "Epoch 70/500\n",
            "10/10 [==============================] - 0s 18ms/step - loss: 7.2825e-05 - val_loss: 5.6025e-04\n",
            "Epoch 71/500\n",
            "10/10 [==============================] - 0s 19ms/step - loss: 7.6695e-05 - val_loss: 4.9488e-04\n",
            "Epoch 72/500\n",
            "10/10 [==============================] - 0s 19ms/step - loss: 7.2512e-05 - val_loss: 5.5315e-04\n",
            "Epoch 73/500\n",
            "10/10 [==============================] - 0s 19ms/step - loss: 7.3909e-05 - val_loss: 4.9820e-04\n",
            "Epoch 74/500\n",
            "10/10 [==============================] - 0s 19ms/step - loss: 7.2513e-05 - val_loss: 5.0802e-04\n",
            "Epoch 75/500\n",
            "10/10 [==============================] - 0s 20ms/step - loss: 7.2501e-05 - val_loss: 5.5367e-04\n",
            "Epoch 76/500\n",
            "10/10 [==============================] - 0s 20ms/step - loss: 9.0211e-05 - val_loss: 5.3255e-04\n",
            "Epoch 77/500\n",
            "10/10 [==============================] - 0s 18ms/step - loss: 7.4491e-05 - val_loss: 4.9694e-04\n",
            "Epoch 78/500\n",
            "10/10 [==============================] - 0s 20ms/step - loss: 7.8914e-05 - val_loss: 5.0038e-04\n",
            "Epoch 79/500\n",
            "10/10 [==============================] - 0s 18ms/step - loss: 7.5217e-05 - val_loss: 4.9342e-04\n",
            "Epoch 80/500\n",
            "10/10 [==============================] - 0s 19ms/step - loss: 7.2792e-05 - val_loss: 5.3090e-04\n",
            "Epoch 81/500\n",
            "10/10 [==============================] - 0s 19ms/step - loss: 7.0071e-05 - val_loss: 5.0946e-04\n",
            "Epoch 82/500\n",
            "10/10 [==============================] - 0s 19ms/step - loss: 8.0793e-05 - val_loss: 5.0720e-04\n",
            "Epoch 83/500\n",
            "10/10 [==============================] - 0s 19ms/step - loss: 7.3748e-05 - val_loss: 5.3812e-04\n",
            "Epoch 84/500\n",
            "10/10 [==============================] - 0s 18ms/step - loss: 7.6208e-05 - val_loss: 5.0414e-04\n",
            "Epoch 85/500\n",
            "10/10 [==============================] - 0s 19ms/step - loss: 9.3345e-05 - val_loss: 5.1287e-04\n",
            "Epoch 86/500\n",
            "10/10 [==============================] - 0s 20ms/step - loss: 9.5647e-05 - val_loss: 4.8779e-04\n",
            "Epoch 87/500\n",
            "10/10 [==============================] - 0s 18ms/step - loss: 7.7487e-05 - val_loss: 5.1143e-04\n",
            "Epoch 88/500\n",
            "10/10 [==============================] - 0s 19ms/step - loss: 7.5492e-05 - val_loss: 5.3727e-04\n",
            "Epoch 89/500\n",
            "10/10 [==============================] - 0s 19ms/step - loss: 7.8952e-05 - val_loss: 4.9239e-04\n",
            "Epoch 90/500\n",
            "10/10 [==============================] - 0s 18ms/step - loss: 7.5494e-05 - val_loss: 5.0972e-04\n",
            "Epoch 91/500\n",
            "10/10 [==============================] - 0s 18ms/step - loss: 7.9930e-05 - val_loss: 7.3262e-04\n",
            "Epoch 92/500\n",
            "10/10 [==============================] - 0s 18ms/step - loss: 7.8881e-05 - val_loss: 5.1619e-04\n",
            "Epoch 93/500\n",
            "10/10 [==============================] - 0s 20ms/step - loss: 7.0842e-05 - val_loss: 7.9438e-04\n",
            "Epoch 94/500\n",
            "10/10 [==============================] - 0s 19ms/step - loss: 8.3890e-05 - val_loss: 5.3781e-04\n",
            "Epoch 95/500\n",
            "10/10 [==============================] - 0s 19ms/step - loss: 7.7988e-05 - val_loss: 6.0523e-04\n",
            "Epoch 96/500\n",
            "10/10 [==============================] - 0s 19ms/step - loss: 7.6740e-05 - val_loss: 6.7754e-04\n",
            "Epoch 97/500\n",
            "10/10 [==============================] - 0s 18ms/step - loss: 7.7440e-05 - val_loss: 6.0240e-04\n",
            "Epoch 98/500\n",
            "10/10 [==============================] - 0s 19ms/step - loss: 8.4608e-05 - val_loss: 4.9000e-04\n",
            "Epoch 99/500\n",
            "10/10 [==============================] - 0s 18ms/step - loss: 7.0765e-05 - val_loss: 4.7655e-04\n",
            "Epoch 100/500\n",
            "10/10 [==============================] - 0s 19ms/step - loss: 7.1130e-05 - val_loss: 4.8816e-04\n",
            "Epoch 101/500\n",
            "10/10 [==============================] - 0s 19ms/step - loss: 8.0684e-05 - val_loss: 4.7067e-04\n",
            "Epoch 102/500\n",
            "10/10 [==============================] - 0s 18ms/step - loss: 7.1391e-05 - val_loss: 4.6725e-04\n",
            "Epoch 103/500\n",
            "10/10 [==============================] - 0s 20ms/step - loss: 7.3406e-05 - val_loss: 4.7085e-04\n",
            "Epoch 104/500\n",
            "10/10 [==============================] - 0s 18ms/step - loss: 7.1912e-05 - val_loss: 4.7829e-04\n",
            "Epoch 105/500\n",
            "10/10 [==============================] - 0s 20ms/step - loss: 7.6917e-05 - val_loss: 4.7180e-04\n",
            "Epoch 106/500\n",
            "10/10 [==============================] - 0s 19ms/step - loss: 7.7128e-05 - val_loss: 4.7705e-04\n",
            "Epoch 107/500\n",
            "10/10 [==============================] - 0s 18ms/step - loss: 7.5951e-05 - val_loss: 4.7920e-04\n",
            "Epoch 108/500\n",
            "10/10 [==============================] - 0s 19ms/step - loss: 7.7768e-05 - val_loss: 4.8663e-04\n",
            "Epoch 109/500\n",
            "10/10 [==============================] - 0s 18ms/step - loss: 7.3511e-05 - val_loss: 6.3027e-04\n",
            "Epoch 110/500\n",
            "10/10 [==============================] - 0s 20ms/step - loss: 8.5315e-05 - val_loss: 5.1941e-04\n",
            "Epoch 111/500\n",
            "10/10 [==============================] - 0s 18ms/step - loss: 8.3080e-05 - val_loss: 6.0431e-04\n",
            "Epoch 112/500\n",
            "10/10 [==============================] - 0s 19ms/step - loss: 9.9741e-05 - val_loss: 7.7967e-04\n",
            "Epoch 113/500\n",
            "10/10 [==============================] - 0s 19ms/step - loss: 8.8139e-05 - val_loss: 5.9881e-04\n",
            "Epoch 114/500\n",
            "10/10 [==============================] - 0s 19ms/step - loss: 8.0155e-05 - val_loss: 4.7687e-04\n",
            "Epoch 115/500\n",
            "10/10 [==============================] - 0s 19ms/step - loss: 7.6166e-05 - val_loss: 4.7874e-04\n",
            "Epoch 116/500\n",
            "10/10 [==============================] - 0s 19ms/step - loss: 8.0156e-05 - val_loss: 4.9147e-04\n",
            "Epoch 117/500\n",
            "10/10 [==============================] - 0s 19ms/step - loss: 7.4405e-05 - val_loss: 5.3224e-04\n",
            "Epoch 118/500\n",
            "10/10 [==============================] - 0s 19ms/step - loss: 8.2426e-05 - val_loss: 6.1411e-04\n",
            "Epoch 119/500\n",
            "10/10 [==============================] - 0s 19ms/step - loss: 8.1137e-05 - val_loss: 4.6383e-04\n",
            "Epoch 120/500\n",
            "10/10 [==============================] - 0s 20ms/step - loss: 7.3376e-05 - val_loss: 5.4392e-04\n",
            "Epoch 121/500\n",
            "10/10 [==============================] - 0s 19ms/step - loss: 8.0345e-05 - val_loss: 6.6583e-04\n",
            "Epoch 122/500\n",
            "10/10 [==============================] - 0s 19ms/step - loss: 8.4336e-05 - val_loss: 6.2511e-04\n",
            "Epoch 123/500\n",
            "10/10 [==============================] - 0s 19ms/step - loss: 8.2246e-05 - val_loss: 4.6671e-04\n",
            "Epoch 124/500\n",
            "10/10 [==============================] - 0s 19ms/step - loss: 6.8474e-05 - val_loss: 5.1429e-04\n",
            "Epoch 125/500\n",
            "10/10 [==============================] - 0s 19ms/step - loss: 7.0301e-05 - val_loss: 4.8574e-04\n",
            "Epoch 126/500\n",
            "10/10 [==============================] - 0s 19ms/step - loss: 7.4908e-05 - val_loss: 5.5216e-04\n",
            "Epoch 127/500\n",
            "10/10 [==============================] - 0s 19ms/step - loss: 7.6426e-05 - val_loss: 6.1113e-04\n",
            "Epoch 128/500\n",
            "10/10 [==============================] - 0s 19ms/step - loss: 9.0325e-05 - val_loss: 4.7715e-04\n",
            "Epoch 129/500\n",
            "10/10 [==============================] - 0s 19ms/step - loss: 8.0732e-05 - val_loss: 5.2617e-04\n",
            "Epoch 130/500\n",
            "10/10 [==============================] - 0s 20ms/step - loss: 8.0101e-05 - val_loss: 6.8241e-04\n",
            "Epoch 131/500\n",
            "10/10 [==============================] - 0s 19ms/step - loss: 8.9719e-05 - val_loss: 4.9587e-04\n",
            "Epoch 132/500\n",
            "10/10 [==============================] - 0s 19ms/step - loss: 7.7119e-05 - val_loss: 6.1176e-04\n",
            "Epoch 133/500\n",
            "10/10 [==============================] - 0s 19ms/step - loss: 7.6591e-05 - val_loss: 5.4126e-04\n",
            "Epoch 134/500\n",
            "10/10 [==============================] - 0s 18ms/step - loss: 7.6118e-05 - val_loss: 4.8566e-04\n",
            "Epoch 135/500\n",
            "10/10 [==============================] - 0s 19ms/step - loss: 7.7332e-05 - val_loss: 9.6194e-04\n",
            "Epoch 136/500\n",
            "10/10 [==============================] - 0s 19ms/step - loss: 9.8390e-05 - val_loss: 5.3857e-04\n",
            "Epoch 137/500\n",
            "10/10 [==============================] - 0s 19ms/step - loss: 8.3447e-05 - val_loss: 4.7987e-04\n",
            "Epoch 138/500\n",
            "10/10 [==============================] - 0s 18ms/step - loss: 7.2936e-05 - val_loss: 6.1511e-04\n",
            "Epoch 139/500\n",
            "10/10 [==============================] - 0s 19ms/step - loss: 1.0714e-04 - val_loss: 4.6855e-04\n",
            "Epoch 140/500\n",
            "10/10 [==============================] - 0s 18ms/step - loss: 8.5507e-05 - val_loss: 4.7994e-04\n",
            "Epoch 141/500\n",
            "10/10 [==============================] - 0s 19ms/step - loss: 8.0062e-05 - val_loss: 4.8823e-04\n",
            "Epoch 142/500\n",
            "10/10 [==============================] - 0s 20ms/step - loss: 8.5314e-05 - val_loss: 4.9702e-04\n",
            "Epoch 143/500\n",
            "10/10 [==============================] - 0s 19ms/step - loss: 7.2227e-05 - val_loss: 4.8095e-04\n",
            "Epoch 144/500\n",
            "10/10 [==============================] - 0s 19ms/step - loss: 8.0799e-05 - val_loss: 4.9388e-04\n",
            "Epoch 145/500\n",
            "10/10 [==============================] - 0s 19ms/step - loss: 7.6821e-05 - val_loss: 5.1792e-04\n",
            "Epoch 146/500\n",
            "10/10 [==============================] - 0s 19ms/step - loss: 7.4038e-05 - val_loss: 6.2131e-04\n",
            "Epoch 147/500\n",
            "10/10 [==============================] - 0s 19ms/step - loss: 8.0004e-05 - val_loss: 6.5733e-04\n",
            "Epoch 148/500\n",
            "10/10 [==============================] - 0s 20ms/step - loss: 8.5380e-05 - val_loss: 7.0630e-04\n",
            "Epoch 149/500\n",
            "10/10 [==============================] - 0s 19ms/step - loss: 1.1171e-04 - val_loss: 5.3820e-04\n",
            "Epoch 150/500\n",
            "10/10 [==============================] - 0s 18ms/step - loss: 1.0863e-04 - val_loss: 5.4381e-04\n",
            "Epoch 151/500\n",
            "10/10 [==============================] - 0s 20ms/step - loss: 7.4285e-05 - val_loss: 5.3211e-04\n",
            "Epoch 152/500\n",
            "10/10 [==============================] - 0s 18ms/step - loss: 8.2315e-05 - val_loss: 4.6981e-04\n",
            "Epoch 153/500\n",
            "10/10 [==============================] - 0s 20ms/step - loss: 8.0802e-05 - val_loss: 4.6335e-04\n",
            "Epoch 154/500\n",
            "10/10 [==============================] - 0s 19ms/step - loss: 7.8259e-05 - val_loss: 4.6568e-04\n",
            "Epoch 155/500\n",
            "10/10 [==============================] - 0s 19ms/step - loss: 6.8013e-05 - val_loss: 4.6178e-04\n",
            "Epoch 156/500\n",
            "10/10 [==============================] - 0s 18ms/step - loss: 7.1282e-05 - val_loss: 7.5370e-04\n",
            "Epoch 157/500\n",
            "10/10 [==============================] - 0s 19ms/step - loss: 8.7377e-05 - val_loss: 5.0440e-04\n",
            "Epoch 158/500\n",
            "10/10 [==============================] - 0s 19ms/step - loss: 9.1954e-05 - val_loss: 5.6765e-04\n",
            "Epoch 159/500\n",
            "10/10 [==============================] - 0s 19ms/step - loss: 7.7226e-05 - val_loss: 5.3638e-04\n",
            "Epoch 160/500\n",
            "10/10 [==============================] - 0s 19ms/step - loss: 8.3967e-05 - val_loss: 4.5252e-04\n",
            "Epoch 161/500\n",
            "10/10 [==============================] - 0s 19ms/step - loss: 7.4389e-05 - val_loss: 4.5600e-04\n",
            "Epoch 162/500\n",
            "10/10 [==============================] - 0s 18ms/step - loss: 7.4755e-05 - val_loss: 4.5049e-04\n",
            "Epoch 163/500\n",
            "10/10 [==============================] - 0s 20ms/step - loss: 7.4760e-05 - val_loss: 4.8821e-04\n",
            "Epoch 164/500\n",
            "10/10 [==============================] - 0s 18ms/step - loss: 7.1970e-05 - val_loss: 4.6861e-04\n",
            "Epoch 165/500\n",
            "10/10 [==============================] - 0s 19ms/step - loss: 7.0533e-05 - val_loss: 4.6013e-04\n",
            "Epoch 166/500\n",
            "10/10 [==============================] - 0s 19ms/step - loss: 7.1832e-05 - val_loss: 4.5654e-04\n",
            "Epoch 167/500\n",
            "10/10 [==============================] - 0s 18ms/step - loss: 7.4036e-05 - val_loss: 4.8655e-04\n",
            "Epoch 168/500\n",
            "10/10 [==============================] - 0s 19ms/step - loss: 7.5948e-05 - val_loss: 5.1721e-04\n",
            "Epoch 169/500\n",
            "10/10 [==============================] - 0s 21ms/step - loss: 7.7878e-05 - val_loss: 6.2908e-04\n",
            "Epoch 170/500\n",
            "10/10 [==============================] - 0s 19ms/step - loss: 9.4137e-05 - val_loss: 6.8424e-04\n",
            "Epoch 171/500\n",
            "10/10 [==============================] - 0s 19ms/step - loss: 8.6044e-05 - val_loss: 5.3536e-04\n",
            "Epoch 172/500\n",
            "10/10 [==============================] - 0s 19ms/step - loss: 7.8654e-05 - val_loss: 5.2045e-04\n",
            "Epoch 173/500\n",
            "10/10 [==============================] - 0s 19ms/step - loss: 7.8177e-05 - val_loss: 4.9381e-04\n",
            "Epoch 174/500\n",
            "10/10 [==============================] - 0s 20ms/step - loss: 7.0041e-05 - val_loss: 5.4078e-04\n",
            "Epoch 175/500\n",
            "10/10 [==============================] - 0s 19ms/step - loss: 7.4413e-05 - val_loss: 4.6807e-04\n",
            "Epoch 176/500\n",
            "10/10 [==============================] - 0s 18ms/step - loss: 7.2568e-05 - val_loss: 4.6598e-04\n",
            "Epoch 177/500\n",
            "10/10 [==============================] - 0s 18ms/step - loss: 7.1398e-05 - val_loss: 4.6486e-04\n",
            "Epoch 178/500\n",
            "10/10 [==============================] - 0s 20ms/step - loss: 6.8935e-05 - val_loss: 4.7427e-04\n",
            "Epoch 179/500\n",
            "10/10 [==============================] - 0s 19ms/step - loss: 7.7551e-05 - val_loss: 4.9039e-04\n",
            "Epoch 180/500\n",
            "10/10 [==============================] - 0s 19ms/step - loss: 7.4731e-05 - val_loss: 4.9111e-04\n",
            "Epoch 181/500\n",
            "10/10 [==============================] - 0s 19ms/step - loss: 7.7886e-05 - val_loss: 5.3095e-04\n",
            "Epoch 182/500\n",
            "10/10 [==============================] - 0s 20ms/step - loss: 8.7153e-05 - val_loss: 5.2824e-04\n",
            "Epoch 183/500\n",
            "10/10 [==============================] - 0s 19ms/step - loss: 8.2456e-05 - val_loss: 4.7329e-04\n",
            "Epoch 184/500\n",
            "10/10 [==============================] - 0s 19ms/step - loss: 6.9523e-05 - val_loss: 4.6967e-04\n",
            "Epoch 185/500\n",
            "10/10 [==============================] - 0s 20ms/step - loss: 6.9997e-05 - val_loss: 5.1505e-04\n",
            "Epoch 186/500\n",
            "10/10 [==============================] - 0s 19ms/step - loss: 8.2875e-05 - val_loss: 4.7739e-04\n",
            "Epoch 187/500\n",
            "10/10 [==============================] - 0s 19ms/step - loss: 7.4607e-05 - val_loss: 5.1758e-04\n",
            "Epoch 188/500\n",
            "10/10 [==============================] - 0s 20ms/step - loss: 7.3488e-05 - val_loss: 4.7788e-04\n",
            "Epoch 189/500\n",
            "10/10 [==============================] - 0s 18ms/step - loss: 7.1797e-05 - val_loss: 5.6972e-04\n",
            "Epoch 190/500\n",
            "10/10 [==============================] - 0s 19ms/step - loss: 7.1204e-05 - val_loss: 4.9437e-04\n",
            "Epoch 191/500\n",
            "10/10 [==============================] - 0s 19ms/step - loss: 8.0961e-05 - val_loss: 4.6730e-04\n",
            "Epoch 192/500\n",
            "10/10 [==============================] - 0s 19ms/step - loss: 7.4687e-05 - val_loss: 4.6358e-04\n",
            "Epoch 193/500\n",
            "10/10 [==============================] - 0s 19ms/step - loss: 7.1858e-05 - val_loss: 5.2479e-04\n",
            "Epoch 194/500\n",
            "10/10 [==============================] - 0s 19ms/step - loss: 7.8910e-05 - val_loss: 4.6466e-04\n",
            "Epoch 195/500\n",
            "10/10 [==============================] - 0s 21ms/step - loss: 8.2552e-05 - val_loss: 4.7143e-04\n",
            "Epoch 196/500\n",
            "10/10 [==============================] - 0s 19ms/step - loss: 8.1206e-05 - val_loss: 5.1024e-04\n",
            "Epoch 197/500\n",
            "10/10 [==============================] - 0s 20ms/step - loss: 7.7354e-05 - val_loss: 5.1112e-04\n",
            "Epoch 198/500\n",
            "10/10 [==============================] - 0s 19ms/step - loss: 7.5614e-05 - val_loss: 4.6037e-04\n",
            "Epoch 199/500\n",
            "10/10 [==============================] - 0s 18ms/step - loss: 7.0760e-05 - val_loss: 4.6099e-04\n",
            "Epoch 200/500\n",
            "10/10 [==============================] - 0s 20ms/step - loss: 7.5076e-05 - val_loss: 4.9583e-04\n",
            "Epoch 201/500\n",
            "10/10 [==============================] - 0s 19ms/step - loss: 7.5422e-05 - val_loss: 4.6263e-04\n",
            "Epoch 202/500\n",
            "10/10 [==============================] - 0s 19ms/step - loss: 7.6368e-05 - val_loss: 4.9512e-04\n",
            "Epoch 203/500\n",
            "10/10 [==============================] - 0s 19ms/step - loss: 7.7702e-05 - val_loss: 4.9487e-04\n",
            "Epoch 204/500\n",
            "10/10 [==============================] - 0s 18ms/step - loss: 7.4871e-05 - val_loss: 5.8296e-04\n",
            "Epoch 205/500\n",
            "10/10 [==============================] - 0s 21ms/step - loss: 7.9708e-05 - val_loss: 4.8485e-04\n",
            "Epoch 206/500\n",
            "10/10 [==============================] - 0s 19ms/step - loss: 7.2299e-05 - val_loss: 4.7593e-04\n",
            "Epoch 207/500\n",
            "10/10 [==============================] - 0s 19ms/step - loss: 7.1896e-05 - val_loss: 5.5635e-04\n",
            "Epoch 208/500\n",
            "10/10 [==============================] - 0s 19ms/step - loss: 8.0109e-05 - val_loss: 6.6325e-04\n",
            "Epoch 209/500\n",
            "10/10 [==============================] - 0s 19ms/step - loss: 9.4596e-05 - val_loss: 4.7260e-04\n",
            "Epoch 210/500\n",
            "10/10 [==============================] - 0s 20ms/step - loss: 8.6218e-05 - val_loss: 6.9096e-04\n",
            "Epoch 211/500\n",
            "10/10 [==============================] - 0s 19ms/step - loss: 1.0657e-04 - val_loss: 5.2299e-04\n",
            "Epoch 212/500\n",
            "10/10 [==============================] - 0s 19ms/step - loss: 7.3861e-05 - val_loss: 4.7575e-04\n",
            "Epoch 213/500\n",
            "10/10 [==============================] - 0s 19ms/step - loss: 7.0401e-05 - val_loss: 4.4997e-04\n",
            "Epoch 214/500\n",
            "10/10 [==============================] - 0s 19ms/step - loss: 7.5252e-05 - val_loss: 4.4729e-04\n",
            "Epoch 215/500\n",
            "10/10 [==============================] - 0s 19ms/step - loss: 8.4313e-05 - val_loss: 5.2684e-04\n",
            "Epoch 216/500\n",
            "10/10 [==============================] - 0s 20ms/step - loss: 8.6661e-05 - val_loss: 7.1345e-04\n",
            "Epoch 217/500\n",
            "10/10 [==============================] - 0s 19ms/step - loss: 9.1448e-05 - val_loss: 4.5578e-04\n",
            "Epoch 218/500\n",
            "10/10 [==============================] - 0s 19ms/step - loss: 8.4035e-05 - val_loss: 5.5729e-04\n",
            "Epoch 219/500\n",
            "10/10 [==============================] - 0s 20ms/step - loss: 8.0250e-05 - val_loss: 4.7891e-04\n",
            "Epoch 220/500\n",
            "10/10 [==============================] - 0s 19ms/step - loss: 7.2175e-05 - val_loss: 4.6623e-04\n",
            "Epoch 221/500\n",
            "10/10 [==============================] - 0s 20ms/step - loss: 6.8985e-05 - val_loss: 4.8529e-04\n",
            "Epoch 222/500\n",
            "10/10 [==============================] - 0s 19ms/step - loss: 7.1669e-05 - val_loss: 4.4833e-04\n",
            "Epoch 223/500\n",
            "10/10 [==============================] - 0s 19ms/step - loss: 6.9124e-05 - val_loss: 4.5189e-04\n",
            "Epoch 224/500\n",
            "10/10 [==============================] - 0s 19ms/step - loss: 6.9119e-05 - val_loss: 5.0846e-04\n",
            "Epoch 225/500\n",
            "10/10 [==============================] - 0s 20ms/step - loss: 7.0262e-05 - val_loss: 4.6952e-04\n",
            "Epoch 226/500\n",
            "10/10 [==============================] - 0s 20ms/step - loss: 7.1589e-05 - val_loss: 4.7215e-04\n",
            "Epoch 227/500\n",
            "10/10 [==============================] - 0s 20ms/step - loss: 7.6894e-05 - val_loss: 5.4038e-04\n",
            "Epoch 228/500\n",
            "10/10 [==============================] - 0s 18ms/step - loss: 7.1578e-05 - val_loss: 4.4536e-04\n",
            "Epoch 229/500\n",
            "10/10 [==============================] - 0s 19ms/step - loss: 7.9727e-05 - val_loss: 4.5075e-04\n",
            "Epoch 230/500\n",
            "10/10 [==============================] - 0s 19ms/step - loss: 7.7152e-05 - val_loss: 5.0961e-04\n",
            "Epoch 231/500\n",
            "10/10 [==============================] - 0s 20ms/step - loss: 7.2676e-05 - val_loss: 4.4500e-04\n",
            "Epoch 232/500\n",
            "10/10 [==============================] - 0s 19ms/step - loss: 6.7270e-05 - val_loss: 4.5186e-04\n",
            "Epoch 233/500\n",
            "10/10 [==============================] - 0s 20ms/step - loss: 7.0401e-05 - val_loss: 4.7940e-04\n",
            "Epoch 234/500\n",
            "10/10 [==============================] - 0s 19ms/step - loss: 6.9639e-05 - val_loss: 5.0015e-04\n",
            "Epoch 235/500\n",
            "10/10 [==============================] - 0s 19ms/step - loss: 7.3423e-05 - val_loss: 4.9056e-04\n",
            "Epoch 236/500\n",
            "10/10 [==============================] - 0s 19ms/step - loss: 7.7539e-05 - val_loss: 5.0834e-04\n",
            "Epoch 237/500\n",
            "10/10 [==============================] - 0s 20ms/step - loss: 7.5179e-05 - val_loss: 4.5126e-04\n",
            "Epoch 238/500\n",
            "10/10 [==============================] - 0s 18ms/step - loss: 7.5637e-05 - val_loss: 4.5064e-04\n",
            "Epoch 239/500\n",
            "10/10 [==============================] - 0s 20ms/step - loss: 7.5302e-05 - val_loss: 4.5428e-04\n",
            "Epoch 240/500\n",
            "10/10 [==============================] - 0s 20ms/step - loss: 7.7868e-05 - val_loss: 7.7174e-04\n",
            "Epoch 241/500\n",
            "10/10 [==============================] - 0s 19ms/step - loss: 8.2197e-05 - val_loss: 5.5472e-04\n",
            "Epoch 242/500\n",
            "10/10 [==============================] - 0s 19ms/step - loss: 7.3352e-05 - val_loss: 5.2295e-04\n",
            "Epoch 243/500\n",
            "10/10 [==============================] - 0s 20ms/step - loss: 7.3505e-05 - val_loss: 5.3434e-04\n",
            "Epoch 244/500\n",
            "10/10 [==============================] - 0s 18ms/step - loss: 7.9238e-05 - val_loss: 4.5150e-04\n",
            "Epoch 245/500\n",
            "10/10 [==============================] - 0s 20ms/step - loss: 7.1432e-05 - val_loss: 4.9657e-04\n",
            "Epoch 246/500\n",
            "10/10 [==============================] - 0s 19ms/step - loss: 7.2309e-05 - val_loss: 4.7112e-04\n",
            "Epoch 247/500\n",
            "10/10 [==============================] - 0s 19ms/step - loss: 7.2418e-05 - val_loss: 4.5162e-04\n",
            "Epoch 248/500\n",
            "10/10 [==============================] - 0s 19ms/step - loss: 8.5626e-05 - val_loss: 4.8384e-04\n",
            "Epoch 249/500\n",
            "10/10 [==============================] - 0s 20ms/step - loss: 6.8727e-05 - val_loss: 4.5305e-04\n",
            "Epoch 250/500\n",
            "10/10 [==============================] - 0s 18ms/step - loss: 7.4621e-05 - val_loss: 5.4063e-04\n",
            "Epoch 251/500\n",
            "10/10 [==============================] - 0s 19ms/step - loss: 7.2524e-05 - val_loss: 4.6538e-04\n",
            "Epoch 252/500\n",
            "10/10 [==============================] - 0s 20ms/step - loss: 7.2327e-05 - val_loss: 4.5554e-04\n",
            "Epoch 253/500\n",
            "10/10 [==============================] - 0s 19ms/step - loss: 6.9912e-05 - val_loss: 4.5190e-04\n",
            "Epoch 254/500\n",
            "10/10 [==============================] - 0s 20ms/step - loss: 7.3988e-05 - val_loss: 4.6511e-04\n",
            "Epoch 255/500\n",
            "10/10 [==============================] - 0s 19ms/step - loss: 7.7376e-05 - val_loss: 4.4764e-04\n",
            "Epoch 256/500\n",
            "10/10 [==============================] - 0s 19ms/step - loss: 6.9466e-05 - val_loss: 4.5023e-04\n",
            "Epoch 257/500\n",
            "10/10 [==============================] - 0s 21ms/step - loss: 7.7222e-05 - val_loss: 4.5551e-04\n",
            "Epoch 258/500\n",
            "10/10 [==============================] - 0s 19ms/step - loss: 7.0501e-05 - val_loss: 4.6497e-04\n",
            "Epoch 259/500\n",
            "10/10 [==============================] - 0s 19ms/step - loss: 7.5400e-05 - val_loss: 4.4980e-04\n",
            "Epoch 260/500\n",
            "10/10 [==============================] - 0s 20ms/step - loss: 8.2920e-05 - val_loss: 4.5006e-04\n",
            "Epoch 261/500\n",
            "10/10 [==============================] - 0s 19ms/step - loss: 7.1428e-05 - val_loss: 4.6263e-04\n",
            "Epoch 262/500\n",
            "10/10 [==============================] - 0s 20ms/step - loss: 6.8331e-05 - val_loss: 5.0312e-04\n",
            "Epoch 263/500\n",
            "10/10 [==============================] - 0s 19ms/step - loss: 7.1566e-05 - val_loss: 4.6165e-04\n",
            "Epoch 264/500\n",
            "10/10 [==============================] - 0s 19ms/step - loss: 7.1110e-05 - val_loss: 4.6650e-04\n",
            "Epoch 265/500\n",
            "10/10 [==============================] - 0s 19ms/step - loss: 6.7058e-05 - val_loss: 5.1516e-04\n",
            "Epoch 266/500\n",
            "10/10 [==============================] - 0s 19ms/step - loss: 6.9619e-05 - val_loss: 4.6551e-04\n",
            "Epoch 267/500\n",
            "10/10 [==============================] - 0s 18ms/step - loss: 7.2827e-05 - val_loss: 4.4855e-04\n",
            "Epoch 268/500\n",
            "10/10 [==============================] - 0s 20ms/step - loss: 7.9676e-05 - val_loss: 5.1228e-04\n",
            "Epoch 269/500\n",
            "10/10 [==============================] - 0s 19ms/step - loss: 7.1920e-05 - val_loss: 4.5991e-04\n",
            "Epoch 270/500\n",
            "10/10 [==============================] - 0s 18ms/step - loss: 7.1219e-05 - val_loss: 4.5462e-04\n",
            "Epoch 271/500\n",
            "10/10 [==============================] - 0s 20ms/step - loss: 7.0379e-05 - val_loss: 5.0724e-04\n",
            "Epoch 272/500\n",
            "10/10 [==============================] - 0s 19ms/step - loss: 7.8261e-05 - val_loss: 5.6084e-04\n",
            "Epoch 273/500\n",
            "10/10 [==============================] - 0s 20ms/step - loss: 7.5568e-05 - val_loss: 5.0425e-04\n",
            "Epoch 274/500\n",
            "10/10 [==============================] - 0s 20ms/step - loss: 8.5282e-05 - val_loss: 4.7881e-04\n",
            "Epoch 275/500\n",
            "10/10 [==============================] - 0s 19ms/step - loss: 7.8542e-05 - val_loss: 4.8417e-04\n",
            "Epoch 276/500\n",
            "10/10 [==============================] - 0s 19ms/step - loss: 7.0183e-05 - val_loss: 4.6447e-04\n",
            "Epoch 277/500\n",
            "10/10 [==============================] - 0s 20ms/step - loss: 7.4175e-05 - val_loss: 6.3696e-04\n",
            "Epoch 278/500\n",
            "10/10 [==============================] - 0s 19ms/step - loss: 1.0041e-04 - val_loss: 5.2148e-04\n",
            "Epoch 279/500\n",
            "10/10 [==============================] - 0s 19ms/step - loss: 7.8381e-05 - val_loss: 4.8085e-04\n",
            "Epoch 280/500\n",
            "10/10 [==============================] - 0s 20ms/step - loss: 7.3659e-05 - val_loss: 6.0183e-04\n",
            "Epoch 281/500\n",
            "10/10 [==============================] - 0s 18ms/step - loss: 7.9243e-05 - val_loss: 6.8118e-04\n",
            "Epoch 282/500\n",
            "10/10 [==============================] - 0s 20ms/step - loss: 9.0168e-05 - val_loss: 6.0299e-04\n",
            "Epoch 283/500\n",
            "10/10 [==============================] - 0s 20ms/step - loss: 9.5680e-05 - val_loss: 4.5480e-04\n",
            "Epoch 284/500\n",
            "10/10 [==============================] - 0s 19ms/step - loss: 9.2103e-05 - val_loss: 7.7551e-04\n",
            "Epoch 285/500\n",
            "10/10 [==============================] - 0s 19ms/step - loss: 1.1653e-04 - val_loss: 6.9532e-04\n",
            "Epoch 286/500\n",
            "10/10 [==============================] - 0s 20ms/step - loss: 1.0784e-04 - val_loss: 6.4900e-04\n",
            "Epoch 287/500\n",
            "10/10 [==============================] - 0s 18ms/step - loss: 1.0362e-04 - val_loss: 4.7665e-04\n",
            "Epoch 288/500\n",
            "10/10 [==============================] - 0s 19ms/step - loss: 7.0069e-05 - val_loss: 4.4989e-04\n",
            "Epoch 289/500\n",
            "10/10 [==============================] - 0s 19ms/step - loss: 8.3191e-05 - val_loss: 4.4302e-04\n",
            "Epoch 290/500\n",
            "10/10 [==============================] - 0s 19ms/step - loss: 7.8263e-05 - val_loss: 6.1158e-04\n",
            "Epoch 291/500\n",
            "10/10 [==============================] - 0s 19ms/step - loss: 7.2929e-05 - val_loss: 5.6351e-04\n",
            "Epoch 292/500\n",
            "10/10 [==============================] - 0s 19ms/step - loss: 7.6175e-05 - val_loss: 4.4178e-04\n",
            "Epoch 293/500\n",
            "10/10 [==============================] - 0s 20ms/step - loss: 8.7711e-05 - val_loss: 5.6411e-04\n",
            "Epoch 294/500\n",
            "10/10 [==============================] - 0s 21ms/step - loss: 9.9707e-05 - val_loss: 6.0552e-04\n",
            "Epoch 295/500\n",
            "10/10 [==============================] - 0s 19ms/step - loss: 8.4058e-05 - val_loss: 4.5369e-04\n",
            "Epoch 296/500\n",
            "10/10 [==============================] - 0s 20ms/step - loss: 8.0036e-05 - val_loss: 4.4834e-04\n",
            "Epoch 297/500\n",
            "10/10 [==============================] - 0s 19ms/step - loss: 7.3178e-05 - val_loss: 4.6961e-04\n",
            "Epoch 298/500\n",
            "10/10 [==============================] - 0s 19ms/step - loss: 7.5489e-05 - val_loss: 5.6584e-04\n",
            "Epoch 299/500\n",
            "10/10 [==============================] - 0s 21ms/step - loss: 8.2299e-05 - val_loss: 4.8466e-04\n",
            "Epoch 300/500\n",
            "10/10 [==============================] - 0s 19ms/step - loss: 8.2483e-05 - val_loss: 4.9646e-04\n",
            "Epoch 301/500\n",
            "10/10 [==============================] - 0s 19ms/step - loss: 8.5020e-05 - val_loss: 4.4488e-04\n",
            "Epoch 302/500\n",
            "10/10 [==============================] - 0s 19ms/step - loss: 6.9321e-05 - val_loss: 4.3769e-04\n",
            "Epoch 303/500\n",
            "10/10 [==============================] - 0s 19ms/step - loss: 6.8666e-05 - val_loss: 4.4709e-04\n",
            "Epoch 304/500\n",
            "10/10 [==============================] - 0s 20ms/step - loss: 6.8540e-05 - val_loss: 4.7837e-04\n",
            "Epoch 305/500\n",
            "10/10 [==============================] - 0s 21ms/step - loss: 7.1557e-05 - val_loss: 4.7592e-04\n",
            "Epoch 306/500\n",
            "10/10 [==============================] - 0s 19ms/step - loss: 7.3102e-05 - val_loss: 4.5171e-04\n",
            "Epoch 307/500\n",
            "10/10 [==============================] - 0s 20ms/step - loss: 6.7500e-05 - val_loss: 4.4584e-04\n",
            "Epoch 308/500\n",
            "10/10 [==============================] - 0s 19ms/step - loss: 6.8972e-05 - val_loss: 4.4092e-04\n",
            "Epoch 309/500\n",
            "10/10 [==============================] - 0s 20ms/step - loss: 7.2123e-05 - val_loss: 4.6939e-04\n",
            "Epoch 310/500\n",
            "10/10 [==============================] - 0s 21ms/step - loss: 7.6489e-05 - val_loss: 4.6526e-04\n",
            "Epoch 311/500\n",
            "10/10 [==============================] - 0s 19ms/step - loss: 6.9873e-05 - val_loss: 4.9654e-04\n",
            "Epoch 312/500\n",
            "10/10 [==============================] - 0s 20ms/step - loss: 6.8980e-05 - val_loss: 5.2766e-04\n",
            "Epoch 313/500\n",
            "10/10 [==============================] - 0s 21ms/step - loss: 7.4919e-05 - val_loss: 4.8040e-04\n",
            "Epoch 314/500\n",
            "10/10 [==============================] - 0s 20ms/step - loss: 7.9190e-05 - val_loss: 4.5809e-04\n",
            "Epoch 315/500\n",
            "10/10 [==============================] - 0s 19ms/step - loss: 7.3388e-05 - val_loss: 4.5255e-04\n",
            "Epoch 316/500\n",
            "10/10 [==============================] - 0s 20ms/step - loss: 6.7451e-05 - val_loss: 4.7726e-04\n",
            "Epoch 317/500\n",
            "10/10 [==============================] - 0s 19ms/step - loss: 7.0435e-05 - val_loss: 4.5437e-04\n",
            "Epoch 318/500\n",
            "10/10 [==============================] - 0s 20ms/step - loss: 7.1774e-05 - val_loss: 4.6107e-04\n",
            "Epoch 319/500\n",
            "10/10 [==============================] - 0s 20ms/step - loss: 7.0261e-05 - val_loss: 5.8175e-04\n",
            "Epoch 320/500\n",
            "10/10 [==============================] - 0s 19ms/step - loss: 7.8299e-05 - val_loss: 4.5464e-04\n",
            "Epoch 321/500\n",
            "10/10 [==============================] - 0s 19ms/step - loss: 7.3808e-05 - val_loss: 4.6591e-04\n",
            "Epoch 322/500\n",
            "10/10 [==============================] - 0s 19ms/step - loss: 6.9090e-05 - val_loss: 4.4767e-04\n",
            "Epoch 323/500\n",
            "10/10 [==============================] - 0s 19ms/step - loss: 7.7721e-05 - val_loss: 4.8136e-04\n",
            "Epoch 324/500\n",
            "10/10 [==============================] - 0s 20ms/step - loss: 7.5396e-05 - val_loss: 6.0053e-04\n",
            "Epoch 325/500\n",
            "10/10 [==============================] - 0s 19ms/step - loss: 7.7553e-05 - val_loss: 4.8916e-04\n",
            "Epoch 326/500\n",
            "10/10 [==============================] - 0s 19ms/step - loss: 8.0576e-05 - val_loss: 6.2842e-04\n",
            "Epoch 327/500\n",
            "10/10 [==============================] - 0s 20ms/step - loss: 9.6178e-05 - val_loss: 5.4123e-04\n",
            "Epoch 328/500\n",
            "10/10 [==============================] - 0s 20ms/step - loss: 7.5838e-05 - val_loss: 4.5662e-04\n",
            "Epoch 329/500\n",
            "10/10 [==============================] - 0s 21ms/step - loss: 6.8764e-05 - val_loss: 5.1363e-04\n",
            "Epoch 330/500\n",
            "10/10 [==============================] - 0s 19ms/step - loss: 7.4368e-05 - val_loss: 4.5329e-04\n",
            "Epoch 331/500\n",
            "10/10 [==============================] - 0s 19ms/step - loss: 6.9773e-05 - val_loss: 4.5925e-04\n",
            "Epoch 332/500\n",
            "10/10 [==============================] - 0s 20ms/step - loss: 7.6120e-05 - val_loss: 4.6958e-04\n",
            "Epoch 333/500\n",
            "10/10 [==============================] - 0s 19ms/step - loss: 7.0771e-05 - val_loss: 4.8443e-04\n",
            "Epoch 334/500\n",
            "10/10 [==============================] - 0s 19ms/step - loss: 7.2402e-05 - val_loss: 4.4360e-04\n",
            "Epoch 335/500\n",
            "10/10 [==============================] - 0s 21ms/step - loss: 8.7935e-05 - val_loss: 6.0887e-04\n",
            "Epoch 336/500\n",
            "10/10 [==============================] - 0s 19ms/step - loss: 7.9952e-05 - val_loss: 4.4345e-04\n",
            "Epoch 337/500\n",
            "10/10 [==============================] - 0s 20ms/step - loss: 7.3003e-05 - val_loss: 4.4752e-04\n",
            "Epoch 338/500\n",
            "10/10 [==============================] - 0s 20ms/step - loss: 7.3205e-05 - val_loss: 5.2171e-04\n",
            "Epoch 339/500\n",
            "10/10 [==============================] - 0s 19ms/step - loss: 8.0368e-05 - val_loss: 4.9564e-04\n",
            "Epoch 340/500\n",
            "10/10 [==============================] - 0s 19ms/step - loss: 7.1610e-05 - val_loss: 6.1747e-04\n",
            "Epoch 341/500\n",
            "10/10 [==============================] - 0s 19ms/step - loss: 7.8298e-05 - val_loss: 4.4585e-04\n",
            "Epoch 342/500\n",
            "10/10 [==============================] - 0s 19ms/step - loss: 7.0146e-05 - val_loss: 4.3803e-04\n",
            "Epoch 343/500\n",
            "10/10 [==============================] - 0s 20ms/step - loss: 7.1082e-05 - val_loss: 5.0017e-04\n",
            "Epoch 344/500\n",
            "10/10 [==============================] - 0s 19ms/step - loss: 6.9152e-05 - val_loss: 4.3888e-04\n",
            "Epoch 345/500\n",
            "10/10 [==============================] - 0s 21ms/step - loss: 6.7472e-05 - val_loss: 4.3554e-04\n",
            "Epoch 346/500\n",
            "10/10 [==============================] - 0s 22ms/step - loss: 7.4943e-05 - val_loss: 4.6770e-04\n",
            "Epoch 347/500\n",
            "10/10 [==============================] - 0s 19ms/step - loss: 7.4781e-05 - val_loss: 4.3607e-04\n",
            "Epoch 348/500\n",
            "10/10 [==============================] - 0s 19ms/step - loss: 7.2941e-05 - val_loss: 4.5071e-04\n",
            "Epoch 349/500\n",
            "10/10 [==============================] - 0s 20ms/step - loss: 7.2523e-05 - val_loss: 4.8656e-04\n",
            "Epoch 350/500\n",
            "10/10 [==============================] - 0s 20ms/step - loss: 7.2592e-05 - val_loss: 4.8064e-04\n",
            "Epoch 351/500\n",
            "10/10 [==============================] - 0s 21ms/step - loss: 7.0254e-05 - val_loss: 4.4745e-04\n",
            "Epoch 352/500\n",
            "10/10 [==============================] - 0s 20ms/step - loss: 7.3273e-05 - val_loss: 4.7196e-04\n",
            "Epoch 353/500\n",
            "10/10 [==============================] - 0s 19ms/step - loss: 6.9904e-05 - val_loss: 6.8461e-04\n",
            "Epoch 354/500\n",
            "10/10 [==============================] - 0s 20ms/step - loss: 8.6905e-05 - val_loss: 4.4237e-04\n",
            "Epoch 355/500\n",
            "10/10 [==============================] - 0s 19ms/step - loss: 7.6181e-05 - val_loss: 5.9797e-04\n",
            "Epoch 356/500\n",
            "10/10 [==============================] - 0s 19ms/step - loss: 8.1012e-05 - val_loss: 5.6305e-04\n",
            "Epoch 357/500\n",
            "10/10 [==============================] - 0s 19ms/step - loss: 8.9641e-05 - val_loss: 4.5711e-04\n",
            "Epoch 358/500\n",
            "10/10 [==============================] - 0s 18ms/step - loss: 8.4323e-05 - val_loss: 4.4155e-04\n",
            "Epoch 359/500\n",
            "10/10 [==============================] - 0s 19ms/step - loss: 8.0939e-05 - val_loss: 5.9536e-04\n",
            "Epoch 360/500\n",
            "10/10 [==============================] - 0s 21ms/step - loss: 8.2140e-05 - val_loss: 5.6628e-04\n",
            "Epoch 361/500\n",
            "10/10 [==============================] - 0s 18ms/step - loss: 8.5442e-05 - val_loss: 4.6592e-04\n",
            "Epoch 362/500\n",
            "10/10 [==============================] - 0s 20ms/step - loss: 9.3586e-05 - val_loss: 4.3966e-04\n",
            "Epoch 363/500\n",
            "10/10 [==============================] - 0s 20ms/step - loss: 8.0382e-05 - val_loss: 4.3284e-04\n",
            "Epoch 364/500\n",
            "10/10 [==============================] - 0s 19ms/step - loss: 8.1620e-05 - val_loss: 0.0010\n",
            "Epoch 365/500\n",
            "10/10 [==============================] - 0s 19ms/step - loss: 9.3974e-05 - val_loss: 5.3535e-04\n",
            "Epoch 366/500\n",
            "10/10 [==============================] - 0s 19ms/step - loss: 8.0481e-05 - val_loss: 4.7287e-04\n",
            "Epoch 367/500\n",
            "10/10 [==============================] - 0s 20ms/step - loss: 8.0880e-05 - val_loss: 5.8447e-04\n",
            "Epoch 368/500\n",
            "10/10 [==============================] - 0s 20ms/step - loss: 8.6605e-05 - val_loss: 4.6667e-04\n",
            "Epoch 369/500\n",
            "10/10 [==============================] - 0s 19ms/step - loss: 9.7214e-05 - val_loss: 5.0251e-04\n",
            "Epoch 370/500\n",
            "10/10 [==============================] - 0s 20ms/step - loss: 7.7208e-05 - val_loss: 7.3673e-04\n",
            "Epoch 371/500\n",
            "10/10 [==============================] - 0s 20ms/step - loss: 8.1577e-05 - val_loss: 5.1920e-04\n",
            "Epoch 372/500\n",
            "10/10 [==============================] - 0s 20ms/step - loss: 7.8454e-05 - val_loss: 4.3192e-04\n",
            "Epoch 373/500\n",
            "10/10 [==============================] - 0s 19ms/step - loss: 8.3450e-05 - val_loss: 6.4870e-04\n",
            "Epoch 374/500\n",
            "10/10 [==============================] - 0s 19ms/step - loss: 8.4978e-05 - val_loss: 4.4052e-04\n",
            "Epoch 375/500\n",
            "10/10 [==============================] - 0s 20ms/step - loss: 6.8696e-05 - val_loss: 4.7420e-04\n",
            "Epoch 376/500\n",
            "10/10 [==============================] - 0s 19ms/step - loss: 6.9868e-05 - val_loss: 4.3876e-04\n",
            "Epoch 377/500\n",
            "10/10 [==============================] - 0s 20ms/step - loss: 8.2095e-05 - val_loss: 6.0855e-04\n",
            "Epoch 378/500\n",
            "10/10 [==============================] - 0s 19ms/step - loss: 7.6436e-05 - val_loss: 4.3446e-04\n",
            "Epoch 379/500\n",
            "10/10 [==============================] - 0s 19ms/step - loss: 7.3838e-05 - val_loss: 4.5548e-04\n",
            "Epoch 380/500\n",
            "10/10 [==============================] - 0s 19ms/step - loss: 6.8637e-05 - val_loss: 4.3278e-04\n",
            "Epoch 381/500\n",
            "10/10 [==============================] - 0s 21ms/step - loss: 6.8665e-05 - val_loss: 4.3402e-04\n",
            "Epoch 382/500\n",
            "10/10 [==============================] - 0s 20ms/step - loss: 7.1987e-05 - val_loss: 4.5378e-04\n",
            "Epoch 383/500\n",
            "10/10 [==============================] - 0s 20ms/step - loss: 7.4258e-05 - val_loss: 5.5773e-04\n",
            "Epoch 384/500\n",
            "10/10 [==============================] - 0s 19ms/step - loss: 7.7684e-05 - val_loss: 4.5244e-04\n",
            "Epoch 385/500\n",
            "10/10 [==============================] - 0s 19ms/step - loss: 7.4766e-05 - val_loss: 4.5040e-04\n",
            "Epoch 386/500\n",
            "10/10 [==============================] - 0s 21ms/step - loss: 6.8692e-05 - val_loss: 4.3487e-04\n",
            "Epoch 387/500\n",
            "10/10 [==============================] - 0s 19ms/step - loss: 7.6263e-05 - val_loss: 5.4545e-04\n",
            "Epoch 388/500\n",
            "10/10 [==============================] - 0s 20ms/step - loss: 7.9219e-05 - val_loss: 4.6238e-04\n",
            "Epoch 389/500\n",
            "10/10 [==============================] - 0s 19ms/step - loss: 7.4205e-05 - val_loss: 4.5983e-04\n",
            "Epoch 390/500\n",
            "10/10 [==============================] - 0s 19ms/step - loss: 7.3931e-05 - val_loss: 4.9214e-04\n",
            "Epoch 391/500\n",
            "10/10 [==============================] - 0s 20ms/step - loss: 6.9964e-05 - val_loss: 5.1170e-04\n",
            "Epoch 392/500\n",
            "10/10 [==============================] - 0s 19ms/step - loss: 6.9158e-05 - val_loss: 4.7280e-04\n",
            "Epoch 393/500\n",
            "10/10 [==============================] - 0s 19ms/step - loss: 7.1832e-05 - val_loss: 4.5190e-04\n",
            "Epoch 394/500\n",
            "10/10 [==============================] - 0s 20ms/step - loss: 7.3804e-05 - val_loss: 4.7818e-04\n",
            "Epoch 395/500\n",
            "10/10 [==============================] - 0s 19ms/step - loss: 7.0342e-05 - val_loss: 4.3473e-04\n",
            "Epoch 396/500\n",
            "10/10 [==============================] - 0s 19ms/step - loss: 7.4644e-05 - val_loss: 4.4717e-04\n",
            "Epoch 397/500\n",
            "10/10 [==============================] - 0s 19ms/step - loss: 8.0864e-05 - val_loss: 7.7503e-04\n",
            "Epoch 398/500\n",
            "10/10 [==============================] - 0s 20ms/step - loss: 9.7081e-05 - val_loss: 7.7522e-04\n",
            "Epoch 399/500\n",
            "10/10 [==============================] - 0s 20ms/step - loss: 8.4396e-05 - val_loss: 4.4493e-04\n",
            "Epoch 400/500\n",
            "10/10 [==============================] - 0s 19ms/step - loss: 7.6433e-05 - val_loss: 4.7104e-04\n",
            "Epoch 401/500\n",
            "10/10 [==============================] - 0s 21ms/step - loss: 6.7729e-05 - val_loss: 4.3122e-04\n",
            "Epoch 402/500\n",
            "10/10 [==============================] - 0s 19ms/step - loss: 6.8071e-05 - val_loss: 4.3977e-04\n",
            "Epoch 403/500\n",
            "10/10 [==============================] - 0s 19ms/step - loss: 6.9146e-05 - val_loss: 4.9172e-04\n",
            "Epoch 404/500\n",
            "10/10 [==============================] - 0s 19ms/step - loss: 6.8996e-05 - val_loss: 4.3321e-04\n",
            "Epoch 405/500\n",
            "10/10 [==============================] - 0s 20ms/step - loss: 6.8299e-05 - val_loss: 5.7780e-04\n",
            "Epoch 406/500\n",
            "10/10 [==============================] - 0s 20ms/step - loss: 7.5879e-05 - val_loss: 4.2986e-04\n",
            "Epoch 407/500\n",
            "10/10 [==============================] - 0s 20ms/step - loss: 6.7520e-05 - val_loss: 4.4943e-04\n",
            "Epoch 408/500\n",
            "10/10 [==============================] - 0s 20ms/step - loss: 7.1175e-05 - val_loss: 4.8981e-04\n",
            "Epoch 409/500\n",
            "10/10 [==============================] - 0s 18ms/step - loss: 6.9587e-05 - val_loss: 5.1064e-04\n",
            "Epoch 410/500\n",
            "10/10 [==============================] - 0s 18ms/step - loss: 7.1137e-05 - val_loss: 4.5098e-04\n",
            "Epoch 411/500\n",
            "10/10 [==============================] - 0s 20ms/step - loss: 7.1867e-05 - val_loss: 4.8389e-04\n",
            "Epoch 412/500\n",
            "10/10 [==============================] - 0s 19ms/step - loss: 7.7540e-05 - val_loss: 4.5662e-04\n",
            "Epoch 413/500\n",
            "10/10 [==============================] - 0s 19ms/step - loss: 7.9869e-05 - val_loss: 4.4819e-04\n",
            "Epoch 414/500\n",
            "10/10 [==============================] - 0s 20ms/step - loss: 6.8980e-05 - val_loss: 4.3290e-04\n",
            "Epoch 415/500\n",
            "10/10 [==============================] - 0s 18ms/step - loss: 7.4489e-05 - val_loss: 4.7394e-04\n",
            "Epoch 416/500\n",
            "10/10 [==============================] - 0s 20ms/step - loss: 7.6639e-05 - val_loss: 4.7527e-04\n",
            "Epoch 417/500\n",
            "10/10 [==============================] - 0s 20ms/step - loss: 6.9551e-05 - val_loss: 4.6850e-04\n",
            "Epoch 418/500\n",
            "10/10 [==============================] - 0s 19ms/step - loss: 6.8107e-05 - val_loss: 4.9640e-04\n",
            "Epoch 419/500\n",
            "10/10 [==============================] - 0s 20ms/step - loss: 6.8614e-05 - val_loss: 5.5898e-04\n",
            "Epoch 420/500\n",
            "10/10 [==============================] - 0s 19ms/step - loss: 7.1852e-05 - val_loss: 4.4747e-04\n",
            "Epoch 421/500\n",
            "10/10 [==============================] - 0s 19ms/step - loss: 6.9767e-05 - val_loss: 4.5946e-04\n",
            "Epoch 422/500\n",
            "10/10 [==============================] - 0s 19ms/step - loss: 6.7283e-05 - val_loss: 5.9536e-04\n",
            "Epoch 423/500\n",
            "10/10 [==============================] - 0s 20ms/step - loss: 6.7833e-05 - val_loss: 4.7580e-04\n",
            "Epoch 424/500\n",
            "10/10 [==============================] - 0s 20ms/step - loss: 6.6901e-05 - val_loss: 4.6532e-04\n",
            "Epoch 425/500\n",
            "10/10 [==============================] - 0s 19ms/step - loss: 7.3379e-05 - val_loss: 4.8049e-04\n",
            "Epoch 426/500\n",
            "10/10 [==============================] - 0s 19ms/step - loss: 6.8628e-05 - val_loss: 5.9551e-04\n",
            "Epoch 427/500\n",
            "10/10 [==============================] - 0s 19ms/step - loss: 7.3927e-05 - val_loss: 5.3581e-04\n",
            "Epoch 428/500\n",
            "10/10 [==============================] - 0s 20ms/step - loss: 7.3791e-05 - val_loss: 4.4059e-04\n",
            "Epoch 429/500\n",
            "10/10 [==============================] - 0s 19ms/step - loss: 6.8587e-05 - val_loss: 5.4693e-04\n",
            "Epoch 430/500\n",
            "10/10 [==============================] - 0s 20ms/step - loss: 7.3930e-05 - val_loss: 4.5628e-04\n",
            "Epoch 431/500\n",
            "10/10 [==============================] - 0s 19ms/step - loss: 6.9211e-05 - val_loss: 4.6662e-04\n",
            "Epoch 432/500\n",
            "10/10 [==============================] - 0s 19ms/step - loss: 6.8315e-05 - val_loss: 4.5344e-04\n",
            "Epoch 433/500\n",
            "10/10 [==============================] - 0s 19ms/step - loss: 6.8517e-05 - val_loss: 4.8608e-04\n",
            "Epoch 434/500\n",
            "10/10 [==============================] - 0s 19ms/step - loss: 7.3308e-05 - val_loss: 4.7713e-04\n",
            "Epoch 435/500\n",
            "10/10 [==============================] - 0s 19ms/step - loss: 7.6494e-05 - val_loss: 4.7836e-04\n",
            "Epoch 436/500\n",
            "10/10 [==============================] - 0s 19ms/step - loss: 6.8145e-05 - val_loss: 4.9779e-04\n",
            "Epoch 437/500\n",
            "10/10 [==============================] - 0s 20ms/step - loss: 6.8067e-05 - val_loss: 4.5149e-04\n",
            "Epoch 438/500\n",
            "10/10 [==============================] - 0s 19ms/step - loss: 7.0863e-05 - val_loss: 4.3289e-04\n",
            "Epoch 439/500\n",
            "10/10 [==============================] - 0s 19ms/step - loss: 7.4151e-05 - val_loss: 4.5361e-04\n",
            "Epoch 440/500\n",
            "10/10 [==============================] - 0s 20ms/step - loss: 7.2809e-05 - val_loss: 4.6039e-04\n",
            "Epoch 441/500\n",
            "10/10 [==============================] - 0s 19ms/step - loss: 7.0408e-05 - val_loss: 4.8857e-04\n",
            "Epoch 442/500\n",
            "10/10 [==============================] - 0s 20ms/step - loss: 7.2192e-05 - val_loss: 5.6937e-04\n",
            "Epoch 443/500\n",
            "10/10 [==============================] - 0s 19ms/step - loss: 7.3406e-05 - val_loss: 4.7654e-04\n",
            "Epoch 444/500\n",
            "10/10 [==============================] - 0s 19ms/step - loss: 6.8275e-05 - val_loss: 5.4640e-04\n",
            "Epoch 445/500\n",
            "10/10 [==============================] - 0s 20ms/step - loss: 6.9263e-05 - val_loss: 5.1743e-04\n",
            "Epoch 446/500\n",
            "10/10 [==============================] - 0s 19ms/step - loss: 7.1065e-05 - val_loss: 4.6200e-04\n",
            "Epoch 447/500\n",
            "10/10 [==============================] - 0s 21ms/step - loss: 6.6634e-05 - val_loss: 5.1395e-04\n",
            "Epoch 448/500\n",
            "10/10 [==============================] - 0s 19ms/step - loss: 7.2638e-05 - val_loss: 4.7245e-04\n",
            "Epoch 449/500\n",
            "10/10 [==============================] - 0s 19ms/step - loss: 7.6620e-05 - val_loss: 4.7298e-04\n",
            "Epoch 450/500\n",
            "10/10 [==============================] - 0s 19ms/step - loss: 8.1913e-05 - val_loss: 4.3832e-04\n",
            "Epoch 451/500\n",
            "10/10 [==============================] - 0s 20ms/step - loss: 7.0350e-05 - val_loss: 5.6931e-04\n",
            "Epoch 452/500\n",
            "10/10 [==============================] - 0s 21ms/step - loss: 7.0477e-05 - val_loss: 4.5206e-04\n",
            "Epoch 453/500\n",
            "10/10 [==============================] - 0s 19ms/step - loss: 7.1002e-05 - val_loss: 4.3930e-04\n",
            "Epoch 454/500\n",
            "10/10 [==============================] - 0s 19ms/step - loss: 7.1602e-05 - val_loss: 4.9412e-04\n",
            "Epoch 455/500\n",
            "10/10 [==============================] - 0s 20ms/step - loss: 7.2627e-05 - val_loss: 8.1988e-04\n",
            "Epoch 456/500\n",
            "10/10 [==============================] - 0s 20ms/step - loss: 8.2178e-05 - val_loss: 4.3981e-04\n",
            "Epoch 457/500\n",
            "10/10 [==============================] - 0s 20ms/step - loss: 7.2127e-05 - val_loss: 4.4210e-04\n",
            "Epoch 458/500\n",
            "10/10 [==============================] - 0s 20ms/step - loss: 6.8127e-05 - val_loss: 4.9575e-04\n",
            "Epoch 459/500\n",
            "10/10 [==============================] - 0s 19ms/step - loss: 7.1286e-05 - val_loss: 5.8472e-04\n",
            "Epoch 460/500\n",
            "10/10 [==============================] - 0s 19ms/step - loss: 8.1272e-05 - val_loss: 5.1487e-04\n",
            "Epoch 461/500\n",
            "10/10 [==============================] - 0s 19ms/step - loss: 7.2510e-05 - val_loss: 5.7431e-04\n",
            "Epoch 462/500\n",
            "10/10 [==============================] - 0s 21ms/step - loss: 6.9569e-05 - val_loss: 4.9654e-04\n",
            "Epoch 463/500\n",
            "10/10 [==============================] - 0s 20ms/step - loss: 7.1406e-05 - val_loss: 4.3130e-04\n",
            "Epoch 464/500\n",
            "10/10 [==============================] - 0s 19ms/step - loss: 7.3821e-05 - val_loss: 5.0943e-04\n",
            "Epoch 465/500\n",
            "10/10 [==============================] - 0s 20ms/step - loss: 7.3673e-05 - val_loss: 5.1043e-04\n",
            "Epoch 466/500\n",
            "10/10 [==============================] - 0s 20ms/step - loss: 6.8687e-05 - val_loss: 4.6463e-04\n",
            "Epoch 467/500\n",
            "10/10 [==============================] - 0s 21ms/step - loss: 7.2139e-05 - val_loss: 4.4006e-04\n",
            "Epoch 468/500\n",
            "10/10 [==============================] - 0s 20ms/step - loss: 7.2066e-05 - val_loss: 4.9092e-04\n",
            "Epoch 469/500\n",
            "10/10 [==============================] - 0s 20ms/step - loss: 7.1521e-05 - val_loss: 4.3711e-04\n",
            "Epoch 470/500\n",
            "10/10 [==============================] - 0s 19ms/step - loss: 7.2040e-05 - val_loss: 4.4602e-04\n",
            "Epoch 471/500\n",
            "10/10 [==============================] - 0s 19ms/step - loss: 7.1357e-05 - val_loss: 4.5568e-04\n",
            "Epoch 472/500\n",
            "10/10 [==============================] - 0s 20ms/step - loss: 6.9632e-05 - val_loss: 4.4152e-04\n",
            "Epoch 473/500\n",
            "10/10 [==============================] - 0s 19ms/step - loss: 7.4616e-05 - val_loss: 4.3404e-04\n",
            "Epoch 474/500\n",
            "10/10 [==============================] - 0s 20ms/step - loss: 7.0145e-05 - val_loss: 4.3415e-04\n",
            "Epoch 475/500\n",
            "10/10 [==============================] - 0s 19ms/step - loss: 7.8346e-05 - val_loss: 5.0798e-04\n",
            "Epoch 476/500\n",
            "10/10 [==============================] - 0s 20ms/step - loss: 7.5054e-05 - val_loss: 5.2439e-04\n",
            "Epoch 477/500\n",
            "10/10 [==============================] - 0s 18ms/step - loss: 9.3035e-05 - val_loss: 6.9585e-04\n",
            "Epoch 478/500\n",
            "10/10 [==============================] - 0s 19ms/step - loss: 9.6164e-05 - val_loss: 4.3215e-04\n",
            "Epoch 479/500\n",
            "10/10 [==============================] - 0s 20ms/step - loss: 8.5618e-05 - val_loss: 6.4822e-04\n",
            "Epoch 480/500\n",
            "10/10 [==============================] - 0s 20ms/step - loss: 7.4049e-05 - val_loss: 4.3552e-04\n",
            "Epoch 481/500\n",
            "10/10 [==============================] - 0s 20ms/step - loss: 7.0253e-05 - val_loss: 4.8334e-04\n",
            "Epoch 482/500\n",
            "10/10 [==============================] - 0s 20ms/step - loss: 7.0865e-05 - val_loss: 5.2541e-04\n",
            "Epoch 483/500\n",
            "10/10 [==============================] - 0s 20ms/step - loss: 7.0412e-05 - val_loss: 4.2809e-04\n",
            "Epoch 484/500\n",
            "10/10 [==============================] - 0s 19ms/step - loss: 6.8797e-05 - val_loss: 4.4911e-04\n",
            "Epoch 485/500\n",
            "10/10 [==============================] - 0s 20ms/step - loss: 7.1488e-05 - val_loss: 5.2683e-04\n",
            "Epoch 486/500\n",
            "10/10 [==============================] - 0s 21ms/step - loss: 7.8537e-05 - val_loss: 4.6220e-04\n",
            "Epoch 487/500\n",
            "10/10 [==============================] - 0s 19ms/step - loss: 6.6449e-05 - val_loss: 6.0632e-04\n",
            "Epoch 488/500\n",
            "10/10 [==============================] - 0s 20ms/step - loss: 6.9054e-05 - val_loss: 4.6711e-04\n",
            "Epoch 489/500\n",
            "10/10 [==============================] - 0s 19ms/step - loss: 7.3107e-05 - val_loss: 4.3064e-04\n",
            "Epoch 490/500\n",
            "10/10 [==============================] - 0s 20ms/step - loss: 7.1497e-05 - val_loss: 5.4518e-04\n",
            "Epoch 491/500\n",
            "10/10 [==============================] - 0s 19ms/step - loss: 7.2256e-05 - val_loss: 5.9863e-04\n",
            "Epoch 492/500\n",
            "10/10 [==============================] - 0s 20ms/step - loss: 7.5825e-05 - val_loss: 4.4034e-04\n",
            "Epoch 493/500\n",
            "10/10 [==============================] - 0s 20ms/step - loss: 6.8399e-05 - val_loss: 4.5345e-04\n",
            "Epoch 494/500\n",
            "10/10 [==============================] - 0s 20ms/step - loss: 7.1301e-05 - val_loss: 5.5716e-04\n",
            "Epoch 495/500\n",
            "10/10 [==============================] - 0s 19ms/step - loss: 7.4060e-05 - val_loss: 4.4736e-04\n",
            "Epoch 496/500\n",
            "10/10 [==============================] - 0s 22ms/step - loss: 7.1128e-05 - val_loss: 4.6945e-04\n",
            "Epoch 497/500\n",
            "10/10 [==============================] - 0s 20ms/step - loss: 6.7406e-05 - val_loss: 4.3614e-04\n",
            "Epoch 498/500\n",
            "10/10 [==============================] - 0s 20ms/step - loss: 7.1084e-05 - val_loss: 4.5514e-04\n",
            "Epoch 499/500\n",
            "10/10 [==============================] - 0s 19ms/step - loss: 7.0666e-05 - val_loss: 4.9347e-04\n",
            "Epoch 500/500\n",
            "10/10 [==============================] - 0s 19ms/step - loss: 7.1052e-05 - val_loss: 4.6618e-04\n"
          ],
          "name": "stdout"
        },
        {
          "output_type": "execute_result",
          "data": {
            "text/plain": [
              "<tensorflow.python.keras.callbacks.History at 0x7f0793b1ea50>"
            ]
          },
          "metadata": {
            "tags": []
          },
          "execution_count": 102
        }
      ]
    },
    {
      "cell_type": "code",
      "metadata": {
        "id": "NwOby4f3dlBl"
      },
      "source": [
        "import tensorflow as tf"
      ],
      "execution_count": null,
      "outputs": []
    },
    {
      "cell_type": "code",
      "metadata": {
        "id": "cU2zrDLreKpS",
        "colab": {
          "base_uri": "https://localhost:8080/",
          "height": 34
        },
        "outputId": "c59911a9-c7cf-4a40-92b6-1d6778282805"
      },
      "source": [
        "tf.__version__"
      ],
      "execution_count": null,
      "outputs": [
        {
          "output_type": "execute_result",
          "data": {
            "application/vnd.google.colaboratory.intrinsic+json": {
              "type": "string"
            },
            "text/plain": [
              "'2.5.0'"
            ]
          },
          "metadata": {
            "tags": []
          },
          "execution_count": 35
        }
      ]
    },
    {
      "cell_type": "code",
      "metadata": {
        "id": "0UnERQMJeM8h"
      },
      "source": [
        "#PREDICT TRAINING AND TEST VALUES\n",
        "train_predict=model.predict(x_train)\n",
        "test_predict=model.predict(x_test)"
      ],
      "execution_count": null,
      "outputs": []
    },
    {
      "cell_type": "code",
      "metadata": {
        "id": "ozdg1L6Ifegc"
      },
      "source": [
        "#TRANSFORM THE PREDICTED DATA TO ORIGINAL FORM\n",
        "train_predict=scaler.inverse_transform(train_predict)\n",
        "test_predict=scaler.inverse_transform(test_predict)"
      ],
      "execution_count": null,
      "outputs": []
    },
    {
      "cell_type": "code",
      "metadata": {
        "id": "7eOkpquugFLl",
        "colab": {
          "base_uri": "https://localhost:8080/"
        },
        "outputId": "b2e5d38d-58ba-430b-bc03-9aa807e43086"
      },
      "source": [
        "#CALCULATE MEAN SQUARED ERROR OF TRAIN AND TEST VALUES\n",
        "import math\n",
        "from sklearn.metrics import mean_squared_error\n",
        "math.sqrt(mean_squared_error(y_train,train_predict))"
      ],
      "execution_count": null,
      "outputs": [
        {
          "output_type": "execute_result",
          "data": {
            "text/plain": [
              "30674.723366317186"
            ]
          },
          "metadata": {
            "tags": []
          },
          "execution_count": 105
        }
      ]
    },
    {
      "cell_type": "code",
      "metadata": {
        "id": "XDq2iVXKgu7f",
        "colab": {
          "base_uri": "https://localhost:8080/"
        },
        "outputId": "8ff24b3e-9a06-4af2-d4ef-d85909bb1230"
      },
      "source": [
        "math.sqrt(mean_squared_error(y_test,test_predict))"
      ],
      "execution_count": null,
      "outputs": [
        {
          "output_type": "execute_result",
          "data": {
            "text/plain": [
              "41019.73305486662"
            ]
          },
          "metadata": {
            "tags": []
          },
          "execution_count": 106
        }
      ]
    },
    {
      "cell_type": "code",
      "metadata": {
        "id": "5YZxuXu_h176"
      },
      "source": [
        ""
      ],
      "execution_count": null,
      "outputs": []
    },
    {
      "cell_type": "code",
      "metadata": {
        "id": "j2SkuF7HhGM9",
        "colab": {
          "base_uri": "https://localhost:8080/",
          "height": 466
        },
        "outputId": "b7d0860c-a489-4cb3-b469-c514e88a2a73"
      },
      "source": [
        "### Plotting \n",
        "# shift train predictions for plotting\n",
        "look_back=100\n",
        "trainPredictPlot = np.empty_like(transformed_data)\n",
        "trainPredictPlot[:, :] = np.nan\n",
        "trainPredictPlot[look_back:len(train_predict)+look_back, :] = train_predict\n",
        "# shift test predictions for plotting\n",
        "testPredictPlot = np.empty_like(transformed_data)\n",
        "testPredictPlot[:, :] = np.nan\n",
        "testPredictPlot[len(train_predict)+(look_back*2)+1:len(transformed_data)-1, :] = test_predict\n",
        "# plot baseline and predictions\n",
        "plt.figure(figsize=(25,8))\n",
        "plt.plot(scaler.inverse_transform(transformed_data))\n",
        "plt.plot(trainPredictPlot)\n",
        "plt.plot(testPredictPlot)\n",
        "plt.legend(['Orig','Pred','Val'],loc=\"upper left\")\n",
        "plt.show()"
      ],
      "execution_count": null,
      "outputs": [
        {
          "output_type": "display_data",
          "data": {
            "image/png": "[encoded data removed]",
            "text/plain": [
              "<Figure size 1800x576 with 1 Axes>"
            ]
          },
          "metadata": {
            "tags": []
          }
        }
      ]
    },
    {
      "cell_type": "code",
      "metadata": {
        "id": "BrA-5yrxvlAr",
        "colab": {
          "base_uri": "https://localhost:8080/"
        },
        "outputId": "b0b57ce8-c21e-4e74-fd9f-5ead3c31ff65"
      },
      "source": [
        "\n",
        "len(test_data)"
      ],
      "execution_count": null,
      "outputs": [
        {
          "output_type": "execute_result",
          "data": {
            "text/plain": [
              "551"
            ]
          },
          "metadata": {
            "tags": []
          },
          "execution_count": 115
        }
      ]
    },
    {
      "cell_type": "code",
      "metadata": {
        "colab": {
          "base_uri": "https://localhost:8080/"
        },
        "id": "A9Eiyq25rxA9",
        "outputId": "654af13e-465b-4e4c-b9a3-9421978a64fb"
      },
      "source": [
        "#CONSIDER LAST 100 PRICE VALUES\n",
        "x_input=test_data[451:].reshape(1,-1)\n",
        "x_input.shape"
      ],
      "execution_count": null,
      "outputs": [
        {
          "output_type": "execute_result",
          "data": {
            "text/plain": [
              "(1, 100)"
            ]
          },
          "metadata": {
            "tags": []
          },
          "execution_count": 117
        }
      ]
    },
    {
      "cell_type": "code",
      "metadata": {
        "id": "c7g8fS7vr1-0"
      },
      "source": [
        "temp_input=list(x_input)\n",
        "temp_input=temp_input[0].tolist()"
      ],
      "execution_count": null,
      "outputs": []
    },
    {
      "cell_type": "code",
      "metadata": {
        "colab": {
          "base_uri": "https://localhost:8080/"
        },
        "id": "c55pGOapr-6c",
        "outputId": "f44c76e3-32e3-4a6e-cd29-6e0f102d7fd9"
      },
      "source": [
        "# DEMONSTRATE PREDICTIONS FOR NEXT 30 DAYS\n",
        "from numpy import array\n",
        "\n",
        "lst_output=[]\n",
        "n_steps=100\n",
        "i=0\n",
        "while(i<30):\n",
        "    \n",
        "    if(len(temp_input)>100):\n",
        "        #print(temp_input)\n",
        "        x_input=np.array(temp_input[1:])\n",
        "        print(\"{} day input {}\".format(i,x_input))\n",
        "        x_input=x_input.reshape(1,-1)\n",
        "        x_input = x_input.reshape((1, n_steps, 1))\n",
        "        #print(x_input)\n",
        "        yhat = model.predict(x_input, verbose=0)\n",
        "        print(\"{} day output {}\".format(i,yhat))\n",
        "        temp_input.extend(yhat[0].tolist())\n",
        "        temp_input=temp_input[1:]\n",
        "        #print(temp_input)\n",
        "        lst_output.extend(yhat.tolist())\n",
        "        i=i+1\n",
        "    else:\n",
        "        x_input = x_input.reshape((1, n_steps,1))\n",
        "        yhat = model.predict(x_input, verbose=0)\n",
        "        print(yhat[0])\n",
        "        temp_input.extend(yhat[0].tolist())\n",
        "        print(len(temp_input))\n",
        "        lst_output.extend(yhat.tolist())\n",
        "        i=i+1\n",
        "    \n",
        "\n",
        "print(lst_output)"
      ],
      "execution_count": null,
      "outputs": [
        {
          "output_type": "stream",
          "text": [
            "[0.98026174]\n",
            "101\n",
            "1 day input [0.87273784 0.86370695 0.86094216 0.88454275 0.90121296 0.90969822\n",
            " 0.90884935 0.9119943  0.89317769 0.87706929 0.90562935 0.91911569\n",
            " 0.91338466 0.8878311  0.86964934 0.83754021 0.81920021 0.79904461\n",
            " 0.87831371 0.91930737 0.93499214 0.94726991 0.95128808 0.97242137\n",
            " 0.97174706 0.97107288 0.97867944 0.97911712 1.         0.99828928\n",
            " 0.98457995 0.97159684 0.95670316 0.91747881 0.91772159 0.95300242\n",
            " 0.96182423 0.89541438 0.9210922  0.93640096 0.97570464 0.95520727\n",
            " 0.94011401 0.94133823 0.9613507  0.97004971 0.9533581  0.93976328\n",
            " 0.9386977  0.91944101 0.89940486 0.9213798  0.91840232 0.92799582\n",
            " 0.89816486 0.87281796 0.89228146 0.93091123 0.90942561 0.9272557\n",
            " 0.89744614 0.89888679 0.91465168 0.91754355 0.91223949 0.85375295\n",
            " 0.87637719 0.88526762 0.88623849 0.85601452 0.84767199 0.86050903\n",
            " 0.85358414 0.87098217 0.89007755 0.91711991 0.9182192  0.88453753\n",
            " 0.88235141 0.86642774 0.88094848 0.89027004 0.90919486 0.89753134\n",
            " 0.88140221 0.88283189 0.91187685 0.93285457 0.92290031 0.91133337\n",
            " 0.94474242 0.9485578  0.94806581 0.96107809 0.96442369 0.97495916\n",
            " 0.99257978 0.99249203 0.98956766 0.98026174]\n",
            "1 day output [[0.9709143]]\n",
            "2 day input [0.86370695 0.86094216 0.88454275 0.90121296 0.90969822 0.90884935\n",
            " 0.9119943  0.89317769 0.87706929 0.90562935 0.91911569 0.91338466\n",
            " 0.8878311  0.86964934 0.83754021 0.81920021 0.79904461 0.87831371\n",
            " 0.91930737 0.93499214 0.94726991 0.95128808 0.97242137 0.97174706\n",
            " 0.97107288 0.97867944 0.97911712 1.         0.99828928 0.98457995\n",
            " 0.97159684 0.95670316 0.91747881 0.91772159 0.95300242 0.96182423\n",
            " 0.89541438 0.9210922  0.93640096 0.97570464 0.95520727 0.94011401\n",
            " 0.94133823 0.9613507  0.97004971 0.9533581  0.93976328 0.9386977\n",
            " 0.91944101 0.89940486 0.9213798  0.91840232 0.92799582 0.89816486\n",
            " 0.87281796 0.89228146 0.93091123 0.90942561 0.9272557  0.89744614\n",
            " 0.89888679 0.91465168 0.91754355 0.91223949 0.85375295 0.87637719\n",
            " 0.88526762 0.88623849 0.85601452 0.84767199 0.86050903 0.85358414\n",
            " 0.87098217 0.89007755 0.91711991 0.9182192  0.88453753 0.88235141\n",
            " 0.86642774 0.88094848 0.89027004 0.90919486 0.89753134 0.88140221\n",
            " 0.88283189 0.91187685 0.93285457 0.92290031 0.91133337 0.94474242\n",
            " 0.9485578  0.94806581 0.96107809 0.96442369 0.97495916 0.99257978\n",
            " 0.99249203 0.98956766 0.98026174 0.9709143 ]\n",
            "2 day output [[0.9658061]]\n",
            "3 day input [0.86094216 0.88454275 0.90121296 0.90969822 0.90884935 0.9119943\n",
            " 0.89317769 0.87706929 0.90562935 0.91911569 0.91338466 0.8878311\n",
            " 0.86964934 0.83754021 0.81920021 0.79904461 0.87831371 0.91930737\n",
            " 0.93499214 0.94726991 0.95128808 0.97242137 0.97174706 0.97107288\n",
            " 0.97867944 0.97911712 1.         0.99828928 0.98457995 0.97159684\n",
            " 0.95670316 0.91747881 0.91772159 0.95300242 0.96182423 0.89541438\n",
            " 0.9210922  0.93640096 0.97570464 0.95520727 0.94011401 0.94133823\n",
            " 0.9613507  0.97004971 0.9533581  0.93976328 0.9386977  0.91944101\n",
            " 0.89940486 0.9213798  0.91840232 0.92799582 0.89816486 0.87281796\n",
            " 0.89228146 0.93091123 0.90942561 0.9272557  0.89744614 0.89888679\n",
            " 0.91465168 0.91754355 0.91223949 0.85375295 0.87637719 0.88526762\n",
            " 0.88623849 0.85601452 0.84767199 0.86050903 0.85358414 0.87098217\n",
            " 0.89007755 0.91711991 0.9182192  0.88453753 0.88235141 0.86642774\n",
            " 0.88094848 0.89027004 0.90919486 0.89753134 0.88140221 0.88283189\n",
            " 0.91187685 0.93285457 0.92290031 0.91133337 0.94474242 0.9485578\n",
            " 0.94806581 0.96107809 0.96442369 0.97495916 0.99257978 0.99249203\n",
            " 0.98956766 0.98026174 0.9709143  0.96580613]\n",
            "3 day output [[0.9632479]]\n",
            "4 day input [0.88454275 0.90121296 0.90969822 0.90884935 0.9119943  0.89317769\n",
            " 0.87706929 0.90562935 0.91911569 0.91338466 0.8878311  0.86964934\n",
            " 0.83754021 0.81920021 0.79904461 0.87831371 0.91930737 0.93499214\n",
            " 0.94726991 0.95128808 0.97242137 0.97174706 0.97107288 0.97867944\n",
            " 0.97911712 1.         0.99828928 0.98457995 0.97159684 0.95670316\n",
            " 0.91747881 0.91772159 0.95300242 0.96182423 0.89541438 0.9210922\n",
            " 0.93640096 0.97570464 0.95520727 0.94011401 0.94133823 0.9613507\n",
            " 0.97004971 0.9533581  0.93976328 0.9386977  0.91944101 0.89940486\n",
            " 0.9213798  0.91840232 0.92799582 0.89816486 0.87281796 0.89228146\n",
            " 0.93091123 0.90942561 0.9272557  0.89744614 0.89888679 0.91465168\n",
            " 0.91754355 0.91223949 0.85375295 0.87637719 0.88526762 0.88623849\n",
            " 0.85601452 0.84767199 0.86050903 0.85358414 0.87098217 0.89007755\n",
            " 0.91711991 0.9182192  0.88453753 0.88235141 0.86642774 0.88094848\n",
            " 0.89027004 0.90919486 0.89753134 0.88140221 0.88283189 0.91187685\n",
            " 0.93285457 0.92290031 0.91133337 0.94474242 0.9485578  0.94806581\n",
            " 0.96107809 0.96442369 0.97495916 0.99257978 0.99249203 0.98956766\n",
            " 0.98026174 0.9709143  0.96580613 0.9632479 ]\n",
            "4 day output [[0.96388876]]\n",
            "5 day input [0.90121296 0.90969822 0.90884935 0.9119943  0.89317769 0.87706929\n",
            " 0.90562935 0.91911569 0.91338466 0.8878311  0.86964934 0.83754021\n",
            " 0.81920021 0.79904461 0.87831371 0.91930737 0.93499214 0.94726991\n",
            " 0.95128808 0.97242137 0.97174706 0.97107288 0.97867944 0.97911712\n",
            " 1.         0.99828928 0.98457995 0.97159684 0.95670316 0.91747881\n",
            " 0.91772159 0.95300242 0.96182423 0.89541438 0.9210922  0.93640096\n",
            " 0.97570464 0.95520727 0.94011401 0.94133823 0.9613507  0.97004971\n",
            " 0.9533581  0.93976328 0.9386977  0.91944101 0.89940486 0.9213798\n",
            " 0.91840232 0.92799582 0.89816486 0.87281796 0.89228146 0.93091123\n",
            " 0.90942561 0.9272557  0.89744614 0.89888679 0.91465168 0.91754355\n",
            " 0.91223949 0.85375295 0.87637719 0.88526762 0.88623849 0.85601452\n",
            " 0.84767199 0.86050903 0.85358414 0.87098217 0.89007755 0.91711991\n",
            " 0.9182192  0.88453753 0.88235141 0.86642774 0.88094848 0.89027004\n",
            " 0.90919486 0.89753134 0.88140221 0.88283189 0.91187685 0.93285457\n",
            " 0.92290031 0.91133337 0.94474242 0.9485578  0.94806581 0.96107809\n",
            " 0.96442369 0.97495916 0.99257978 0.99249203 0.98956766 0.98026174\n",
            " 0.9709143  0.96580613 0.9632479  0.96388876]\n",
            "5 day output [[0.9668082]]\n",
            "6 day input [0.90969822 0.90884935 0.9119943  0.89317769 0.87706929 0.90562935\n",
            " 0.91911569 0.91338466 0.8878311  0.86964934 0.83754021 0.81920021\n",
            " 0.79904461 0.87831371 0.91930737 0.93499214 0.94726991 0.95128808\n",
            " 0.97242137 0.97174706 0.97107288 0.97867944 0.97911712 1.\n",
            " 0.99828928 0.98457995 0.97159684 0.95670316 0.91747881 0.91772159\n",
            " 0.95300242 0.96182423 0.89541438 0.9210922  0.93640096 0.97570464\n",
            " 0.95520727 0.94011401 0.94133823 0.9613507  0.97004971 0.9533581\n",
            " 0.93976328 0.9386977  0.91944101 0.89940486 0.9213798  0.91840232\n",
            " 0.92799582 0.89816486 0.87281796 0.89228146 0.93091123 0.90942561\n",
            " 0.9272557  0.89744614 0.89888679 0.91465168 0.91754355 0.91223949\n",
            " 0.85375295 0.87637719 0.88526762 0.88623849 0.85601452 0.84767199\n",
            " 0.86050903 0.85358414 0.87098217 0.89007755 0.91711991 0.9182192\n",
            " 0.88453753 0.88235141 0.86642774 0.88094848 0.89027004 0.90919486\n",
            " 0.89753134 0.88140221 0.88283189 0.91187685 0.93285457 0.92290031\n",
            " 0.91133337 0.94474242 0.9485578  0.94806581 0.96107809 0.96442369\n",
            " 0.97495916 0.99257978 0.99249203 0.98956766 0.98026174 0.9709143\n",
            " 0.96580613 0.9632479  0.96388876 0.9668082 ]\n",
            "6 day output [[0.97106564]]\n",
            "7 day input [0.90884935 0.9119943  0.89317769 0.87706929 0.90562935 0.91911569\n",
            " 0.91338466 0.8878311  0.86964934 0.83754021 0.81920021 0.79904461\n",
            " 0.87831371 0.91930737 0.93499214 0.94726991 0.95128808 0.97242137\n",
            " 0.97174706 0.97107288 0.97867944 0.97911712 1.         0.99828928\n",
            " 0.98457995 0.97159684 0.95670316 0.91747881 0.91772159 0.95300242\n",
            " 0.96182423 0.89541438 0.9210922  0.93640096 0.97570464 0.95520727\n",
            " 0.94011401 0.94133823 0.9613507  0.97004971 0.9533581  0.93976328\n",
            " 0.9386977  0.91944101 0.89940486 0.9213798  0.91840232 0.92799582\n",
            " 0.89816486 0.87281796 0.89228146 0.93091123 0.90942561 0.9272557\n",
            " 0.89744614 0.89888679 0.91465168 0.91754355 0.91223949 0.85375295\n",
            " 0.87637719 0.88526762 0.88623849 0.85601452 0.84767199 0.86050903\n",
            " 0.85358414 0.87098217 0.89007755 0.91711991 0.9182192  0.88453753\n",
            " 0.88235141 0.86642774 0.88094848 0.89027004 0.90919486 0.89753134\n",
            " 0.88140221 0.88283189 0.91187685 0.93285457 0.92290031 0.91133337\n",
            " 0.94474242 0.9485578  0.94806581 0.96107809 0.96442369 0.97495916\n",
            " 0.99257978 0.99249203 0.98956766 0.98026174 0.9709143  0.96580613\n",
            " 0.9632479  0.96388876 0.9668082  0.97106564]\n",
            "7 day output [[0.97561276]]\n",
            "8 day input [0.9119943  0.89317769 0.87706929 0.90562935 0.91911569 0.91338466\n",
            " 0.8878311  0.86964934 0.83754021 0.81920021 0.79904461 0.87831371\n",
            " 0.91930737 0.93499214 0.94726991 0.95128808 0.97242137 0.97174706\n",
            " 0.97107288 0.97867944 0.97911712 1.         0.99828928 0.98457995\n",
            " 0.97159684 0.95670316 0.91747881 0.91772159 0.95300242 0.96182423\n",
            " 0.89541438 0.9210922  0.93640096 0.97570464 0.95520727 0.94011401\n",
            " 0.94133823 0.9613507  0.97004971 0.9533581  0.93976328 0.9386977\n",
            " 0.91944101 0.89940486 0.9213798  0.91840232 0.92799582 0.89816486\n",
            " 0.87281796 0.89228146 0.93091123 0.90942561 0.9272557  0.89744614\n",
            " 0.89888679 0.91465168 0.91754355 0.91223949 0.85375295 0.87637719\n",
            " 0.88526762 0.88623849 0.85601452 0.84767199 0.86050903 0.85358414\n",
            " 0.87098217 0.89007755 0.91711991 0.9182192  0.88453753 0.88235141\n",
            " 0.86642774 0.88094848 0.89027004 0.90919486 0.89753134 0.88140221\n",
            " 0.88283189 0.91187685 0.93285457 0.92290031 0.91133337 0.94474242\n",
            " 0.9485578  0.94806581 0.96107809 0.96442369 0.97495916 0.99257978\n",
            " 0.99249203 0.98956766 0.98026174 0.9709143  0.96580613 0.9632479\n",
            " 0.96388876 0.9668082  0.97106564 0.97561276]\n",
            "8 day output [[0.97963196]]\n",
            "9 day input [0.89317769 0.87706929 0.90562935 0.91911569 0.91338466 0.8878311\n",
            " 0.86964934 0.83754021 0.81920021 0.79904461 0.87831371 0.91930737\n",
            " 0.93499214 0.94726991 0.95128808 0.97242137 0.97174706 0.97107288\n",
            " 0.97867944 0.97911712 1.         0.99828928 0.98457995 0.97159684\n",
            " 0.95670316 0.91747881 0.91772159 0.95300242 0.96182423 0.89541438\n",
            " 0.9210922  0.93640096 0.97570464 0.95520727 0.94011401 0.94133823\n",
            " 0.9613507  0.97004971 0.9533581  0.93976328 0.9386977  0.91944101\n",
            " 0.89940486 0.9213798  0.91840232 0.92799582 0.89816486 0.87281796\n",
            " 0.89228146 0.93091123 0.90942561 0.9272557  0.89744614 0.89888679\n",
            " 0.91465168 0.91754355 0.91223949 0.85375295 0.87637719 0.88526762\n",
            " 0.88623849 0.85601452 0.84767199 0.86050903 0.85358414 0.87098217\n",
            " 0.89007755 0.91711991 0.9182192  0.88453753 0.88235141 0.86642774\n",
            " 0.88094848 0.89027004 0.90919486 0.89753134 0.88140221 0.88283189\n",
            " 0.91187685 0.93285457 0.92290031 0.91133337 0.94474242 0.9485578\n",
            " 0.94806581 0.96107809 0.96442369 0.97495916 0.99257978 0.99249203\n",
            " 0.98956766 0.98026174 0.9709143  0.96580613 0.9632479  0.96388876\n",
            " 0.9668082  0.97106564 0.97561276 0.97963196]\n",
            "9 day output [[0.9826241]]\n",
            "10 day input [0.87706929 0.90562935 0.91911569 0.91338466 0.8878311  0.86964934\n",
            " 0.83754021 0.81920021 0.79904461 0.87831371 0.91930737 0.93499214\n",
            " 0.94726991 0.95128808 0.97242137 0.97174706 0.97107288 0.97867944\n",
            " 0.97911712 1.         0.99828928 0.98457995 0.97159684 0.95670316\n",
            " 0.91747881 0.91772159 0.95300242 0.96182423 0.89541438 0.9210922\n",
            " 0.93640096 0.97570464 0.95520727 0.94011401 0.94133823 0.9613507\n",
            " 0.97004971 0.9533581  0.93976328 0.9386977  0.91944101 0.89940486\n",
            " 0.9213798  0.91840232 0.92799582 0.89816486 0.87281796 0.89228146\n",
            " 0.93091123 0.90942561 0.9272557  0.89744614 0.89888679 0.91465168\n",
            " 0.91754355 0.91223949 0.85375295 0.87637719 0.88526762 0.88623849\n",
            " 0.85601452 0.84767199 0.86050903 0.85358414 0.87098217 0.89007755\n",
            " 0.91711991 0.9182192  0.88453753 0.88235141 0.86642774 0.88094848\n",
            " 0.89027004 0.90919486 0.89753134 0.88140221 0.88283189 0.91187685\n",
            " 0.93285457 0.92290031 0.91133337 0.94474242 0.9485578  0.94806581\n",
            " 0.96107809 0.96442369 0.97495916 0.99257978 0.99249203 0.98956766\n",
            " 0.98026174 0.9709143  0.96580613 0.9632479  0.96388876 0.9668082\n",
            " 0.97106564 0.97561276 0.97963196 0.98262411]\n",
            "10 day output [[0.9844373]]\n",
            "11 day input [0.90562935 0.91911569 0.91338466 0.8878311  0.86964934 0.83754021\n",
            " 0.81920021 0.79904461 0.87831371 0.91930737 0.93499214 0.94726991\n",
            " 0.95128808 0.97242137 0.97174706 0.97107288 0.97867944 0.97911712\n",
            " 1.         0.99828928 0.98457995 0.97159684 0.95670316 0.91747881\n",
            " 0.91772159 0.95300242 0.96182423 0.89541438 0.9210922  0.93640096\n",
            " 0.97570464 0.95520727 0.94011401 0.94133823 0.9613507  0.97004971\n",
            " 0.9533581  0.93976328 0.9386977  0.91944101 0.89940486 0.9213798\n",
            " 0.91840232 0.92799582 0.89816486 0.87281796 0.89228146 0.93091123\n",
            " 0.90942561 0.9272557  0.89744614 0.89888679 0.91465168 0.91754355\n",
            " 0.91223949 0.85375295 0.87637719 0.88526762 0.88623849 0.85601452\n",
            " 0.84767199 0.86050903 0.85358414 0.87098217 0.89007755 0.91711991\n",
            " 0.9182192  0.88453753 0.88235141 0.86642774 0.88094848 0.89027004\n",
            " 0.90919486 0.89753134 0.88140221 0.88283189 0.91187685 0.93285457\n",
            " 0.92290031 0.91133337 0.94474242 0.9485578  0.94806581 0.96107809\n",
            " 0.96442369 0.97495916 0.99257978 0.99249203 0.98956766 0.98026174\n",
            " 0.9709143  0.96580613 0.9632479  0.96388876 0.9668082  0.97106564\n",
            " 0.97561276 0.97963196 0.98262411 0.98443729]\n",
            "11 day output [[0.9852017]]\n",
            "12 day input [0.91911569 0.91338466 0.8878311  0.86964934 0.83754021 0.81920021\n",
            " 0.79904461 0.87831371 0.91930737 0.93499214 0.94726991 0.95128808\n",
            " 0.97242137 0.97174706 0.97107288 0.97867944 0.97911712 1.\n",
            " 0.99828928 0.98457995 0.97159684 0.95670316 0.91747881 0.91772159\n",
            " 0.95300242 0.96182423 0.89541438 0.9210922  0.93640096 0.97570464\n",
            " 0.95520727 0.94011401 0.94133823 0.9613507  0.97004971 0.9533581\n",
            " 0.93976328 0.9386977  0.91944101 0.89940486 0.9213798  0.91840232\n",
            " 0.92799582 0.89816486 0.87281796 0.89228146 0.93091123 0.90942561\n",
            " 0.9272557  0.89744614 0.89888679 0.91465168 0.91754355 0.91223949\n",
            " 0.85375295 0.87637719 0.88526762 0.88623849 0.85601452 0.84767199\n",
            " 0.86050903 0.85358414 0.87098217 0.89007755 0.91711991 0.9182192\n",
            " 0.88453753 0.88235141 0.86642774 0.88094848 0.89027004 0.90919486\n",
            " 0.89753134 0.88140221 0.88283189 0.91187685 0.93285457 0.92290031\n",
            " 0.91133337 0.94474242 0.9485578  0.94806581 0.96107809 0.96442369\n",
            " 0.97495916 0.99257978 0.99249203 0.98956766 0.98026174 0.9709143\n",
            " 0.96580613 0.9632479  0.96388876 0.9668082  0.97106564 0.97561276\n",
            " 0.97963196 0.98262411 0.98443729 0.98520172]\n",
            "12 day output [[0.9852247]]\n",
            "13 day input [0.91338466 0.8878311  0.86964934 0.83754021 0.81920021 0.79904461\n",
            " 0.87831371 0.91930737 0.93499214 0.94726991 0.95128808 0.97242137\n",
            " 0.97174706 0.97107288 0.97867944 0.97911712 1.         0.99828928\n",
            " 0.98457995 0.97159684 0.95670316 0.91747881 0.91772159 0.95300242\n",
            " 0.96182423 0.89541438 0.9210922  0.93640096 0.97570464 0.95520727\n",
            " 0.94011401 0.94133823 0.9613507  0.97004971 0.9533581  0.93976328\n",
            " 0.9386977  0.91944101 0.89940486 0.9213798  0.91840232 0.92799582\n",
            " 0.89816486 0.87281796 0.89228146 0.93091123 0.90942561 0.9272557\n",
            " 0.89744614 0.89888679 0.91465168 0.91754355 0.91223949 0.85375295\n",
            " 0.87637719 0.88526762 0.88623849 0.85601452 0.84767199 0.86050903\n",
            " 0.85358414 0.87098217 0.89007755 0.91711991 0.9182192  0.88453753\n",
            " 0.88235141 0.86642774 0.88094848 0.89027004 0.90919486 0.89753134\n",
            " 0.88140221 0.88283189 0.91187685 0.93285457 0.92290031 0.91133337\n",
            " 0.94474242 0.9485578  0.94806581 0.96107809 0.96442369 0.97495916\n",
            " 0.99257978 0.99249203 0.98956766 0.98026174 0.9709143  0.96580613\n",
            " 0.9632479  0.96388876 0.9668082  0.97106564 0.97561276 0.97963196\n",
            " 0.98262411 0.98443729 0.98520172 0.98522472]\n",
            "13 day output [[0.9848771]]\n",
            "14 day input [0.8878311  0.86964934 0.83754021 0.81920021 0.79904461 0.87831371\n",
            " 0.91930737 0.93499214 0.94726991 0.95128808 0.97242137 0.97174706\n",
            " 0.97107288 0.97867944 0.97911712 1.         0.99828928 0.98457995\n",
            " 0.97159684 0.95670316 0.91747881 0.91772159 0.95300242 0.96182423\n",
            " 0.89541438 0.9210922  0.93640096 0.97570464 0.95520727 0.94011401\n",
            " 0.94133823 0.9613507  0.97004971 0.9533581  0.93976328 0.9386977\n",
            " 0.91944101 0.89940486 0.9213798  0.91840232 0.92799582 0.89816486\n",
            " 0.87281796 0.89228146 0.93091123 0.90942561 0.9272557  0.89744614\n",
            " 0.89888679 0.91465168 0.91754355 0.91223949 0.85375295 0.87637719\n",
            " 0.88526762 0.88623849 0.85601452 0.84767199 0.86050903 0.85358414\n",
            " 0.87098217 0.89007755 0.91711991 0.9182192  0.88453753 0.88235141\n",
            " 0.86642774 0.88094848 0.89027004 0.90919486 0.89753134 0.88140221\n",
            " 0.88283189 0.91187685 0.93285457 0.92290031 0.91133337 0.94474242\n",
            " 0.9485578  0.94806581 0.96107809 0.96442369 0.97495916 0.99257978\n",
            " 0.99249203 0.98956766 0.98026174 0.9709143  0.96580613 0.9632479\n",
            " 0.96388876 0.9668082  0.97106564 0.97561276 0.97963196 0.98262411\n",
            " 0.98443729 0.98520172 0.98522472 0.98487711]\n",
            "14 day output [[0.9844972]]\n",
            "15 day input [0.86964934 0.83754021 0.81920021 0.79904461 0.87831371 0.91930737\n",
            " 0.93499214 0.94726991 0.95128808 0.97242137 0.97174706 0.97107288\n",
            " 0.97867944 0.97911712 1.         0.99828928 0.98457995 0.97159684\n",
            " 0.95670316 0.91747881 0.91772159 0.95300242 0.96182423 0.89541438\n",
            " 0.9210922  0.93640096 0.97570464 0.95520727 0.94011401 0.94133823\n",
            " 0.9613507  0.97004971 0.9533581  0.93976328 0.9386977  0.91944101\n",
            " 0.89940486 0.9213798  0.91840232 0.92799582 0.89816486 0.87281796\n",
            " 0.89228146 0.93091123 0.90942561 0.9272557  0.89744614 0.89888679\n",
            " 0.91465168 0.91754355 0.91223949 0.85375295 0.87637719 0.88526762\n",
            " 0.88623849 0.85601452 0.84767199 0.86050903 0.85358414 0.87098217\n",
            " 0.89007755 0.91711991 0.9182192  0.88453753 0.88235141 0.86642774\n",
            " 0.88094848 0.89027004 0.90919486 0.89753134 0.88140221 0.88283189\n",
            " 0.91187685 0.93285457 0.92290031 0.91133337 0.94474242 0.9485578\n",
            " 0.94806581 0.96107809 0.96442369 0.97495916 0.99257978 0.99249203\n",
            " 0.98956766 0.98026174 0.9709143  0.96580613 0.9632479  0.96388876\n",
            " 0.9668082  0.97106564 0.97561276 0.97963196 0.98262411 0.98443729\n",
            " 0.98520172 0.98522472 0.98487711 0.98449719]\n",
            "15 day output [[0.98432785]]\n",
            "16 day input [0.83754021 0.81920021 0.79904461 0.87831371 0.91930737 0.93499214\n",
            " 0.94726991 0.95128808 0.97242137 0.97174706 0.97107288 0.97867944\n",
            " 0.97911712 1.         0.99828928 0.98457995 0.97159684 0.95670316\n",
            " 0.91747881 0.91772159 0.95300242 0.96182423 0.89541438 0.9210922\n",
            " 0.93640096 0.97570464 0.95520727 0.94011401 0.94133823 0.9613507\n",
            " 0.97004971 0.9533581  0.93976328 0.9386977  0.91944101 0.89940486\n",
            " 0.9213798  0.91840232 0.92799582 0.89816486 0.87281796 0.89228146\n",
            " 0.93091123 0.90942561 0.9272557  0.89744614 0.89888679 0.91465168\n",
            " 0.91754355 0.91223949 0.85375295 0.87637719 0.88526762 0.88623849\n",
            " 0.85601452 0.84767199 0.86050903 0.85358414 0.87098217 0.89007755\n",
            " 0.91711991 0.9182192  0.88453753 0.88235141 0.86642774 0.88094848\n",
            " 0.89027004 0.90919486 0.89753134 0.88140221 0.88283189 0.91187685\n",
            " 0.93285457 0.92290031 0.91133337 0.94474242 0.9485578  0.94806581\n",
            " 0.96107809 0.96442369 0.97495916 0.99257978 0.99249203 0.98956766\n",
            " 0.98026174 0.9709143  0.96580613 0.9632479  0.96388876 0.9668082\n",
            " 0.97106564 0.97561276 0.97963196 0.98262411 0.98443729 0.98520172\n",
            " 0.98522472 0.98487711 0.98449719 0.98432785]\n",
            "16 day output [[0.9844933]]\n",
            "17 day input [0.81920021 0.79904461 0.87831371 0.91930737 0.93499214 0.94726991\n",
            " 0.95128808 0.97242137 0.97174706 0.97107288 0.97867944 0.97911712\n",
            " 1.         0.99828928 0.98457995 0.97159684 0.95670316 0.91747881\n",
            " 0.91772159 0.95300242 0.96182423 0.89541438 0.9210922  0.93640096\n",
            " 0.97570464 0.95520727 0.94011401 0.94133823 0.9613507  0.97004971\n",
            " 0.9533581  0.93976328 0.9386977  0.91944101 0.89940486 0.9213798\n",
            " 0.91840232 0.92799582 0.89816486 0.87281796 0.89228146 0.93091123\n",
            " 0.90942561 0.9272557  0.89744614 0.89888679 0.91465168 0.91754355\n",
            " 0.91223949 0.85375295 0.87637719 0.88526762 0.88623849 0.85601452\n",
            " 0.84767199 0.86050903 0.85358414 0.87098217 0.89007755 0.91711991\n",
            " 0.9182192  0.88453753 0.88235141 0.86642774 0.88094848 0.89027004\n",
            " 0.90919486 0.89753134 0.88140221 0.88283189 0.91187685 0.93285457\n",
            " 0.92290031 0.91133337 0.94474242 0.9485578  0.94806581 0.96107809\n",
            " 0.96442369 0.97495916 0.99257978 0.99249203 0.98956766 0.98026174\n",
            " 0.9709143  0.96580613 0.9632479  0.96388876 0.9668082  0.97106564\n",
            " 0.97561276 0.97963196 0.98262411 0.98443729 0.98520172 0.98522472\n",
            " 0.98487711 0.98449719 0.98432785 0.98449332]\n",
            "17 day output [[0.9850038]]\n",
            "18 day input [0.79904461 0.87831371 0.91930737 0.93499214 0.94726991 0.95128808\n",
            " 0.97242137 0.97174706 0.97107288 0.97867944 0.97911712 1.\n",
            " 0.99828928 0.98457995 0.97159684 0.95670316 0.91747881 0.91772159\n",
            " 0.95300242 0.96182423 0.89541438 0.9210922  0.93640096 0.97570464\n",
            " 0.95520727 0.94011401 0.94133823 0.9613507  0.97004971 0.9533581\n",
            " 0.93976328 0.9386977  0.91944101 0.89940486 0.9213798  0.91840232\n",
            " 0.92799582 0.89816486 0.87281796 0.89228146 0.93091123 0.90942561\n",
            " 0.9272557  0.89744614 0.89888679 0.91465168 0.91754355 0.91223949\n",
            " 0.85375295 0.87637719 0.88526762 0.88623849 0.85601452 0.84767199\n",
            " 0.86050903 0.85358414 0.87098217 0.89007755 0.91711991 0.9182192\n",
            " 0.88453753 0.88235141 0.86642774 0.88094848 0.89027004 0.90919486\n",
            " 0.89753134 0.88140221 0.88283189 0.91187685 0.93285457 0.92290031\n",
            " 0.91133337 0.94474242 0.9485578  0.94806581 0.96107809 0.96442369\n",
            " 0.97495916 0.99257978 0.99249203 0.98956766 0.98026174 0.9709143\n",
            " 0.96580613 0.9632479  0.96388876 0.9668082  0.97106564 0.97561276\n",
            " 0.97963196 0.98262411 0.98443729 0.98520172 0.98522472 0.98487711\n",
            " 0.98449719 0.98432785 0.98449332 0.98500383]\n",
            "18 day output [[0.98578763]]\n",
            "19 day input [0.87831371 0.91930737 0.93499214 0.94726991 0.95128808 0.97242137\n",
            " 0.97174706 0.97107288 0.97867944 0.97911712 1.         0.99828928\n",
            " 0.98457995 0.97159684 0.95670316 0.91747881 0.91772159 0.95300242\n",
            " 0.96182423 0.89541438 0.9210922  0.93640096 0.97570464 0.95520727\n",
            " 0.94011401 0.94133823 0.9613507  0.97004971 0.9533581  0.93976328\n",
            " 0.9386977  0.91944101 0.89940486 0.9213798  0.91840232 0.92799582\n",
            " 0.89816486 0.87281796 0.89228146 0.93091123 0.90942561 0.9272557\n",
            " 0.89744614 0.89888679 0.91465168 0.91754355 0.91223949 0.85375295\n",
            " 0.87637719 0.88526762 0.88623849 0.85601452 0.84767199 0.86050903\n",
            " 0.85358414 0.87098217 0.89007755 0.91711991 0.9182192  0.88453753\n",
            " 0.88235141 0.86642774 0.88094848 0.89027004 0.90919486 0.89753134\n",
            " 0.88140221 0.88283189 0.91187685 0.93285457 0.92290031 0.91133337\n",
            " 0.94474242 0.9485578  0.94806581 0.96107809 0.96442369 0.97495916\n",
            " 0.99257978 0.99249203 0.98956766 0.98026174 0.9709143  0.96580613\n",
            " 0.9632479  0.96388876 0.9668082  0.97106564 0.97561276 0.97963196\n",
            " 0.98262411 0.98443729 0.98520172 0.98522472 0.98487711 0.98449719\n",
            " 0.98432785 0.98449332 0.98500383 0.98578763]\n",
            "19 day output [[0.9867269]]\n",
            "20 day input [0.91930737 0.93499214 0.94726991 0.95128808 0.97242137 0.97174706\n",
            " 0.97107288 0.97867944 0.97911712 1.         0.99828928 0.98457995\n",
            " 0.97159684 0.95670316 0.91747881 0.91772159 0.95300242 0.96182423\n",
            " 0.89541438 0.9210922  0.93640096 0.97570464 0.95520727 0.94011401\n",
            " 0.94133823 0.9613507  0.97004971 0.9533581  0.93976328 0.9386977\n",
            " 0.91944101 0.89940486 0.9213798  0.91840232 0.92799582 0.89816486\n",
            " 0.87281796 0.89228146 0.93091123 0.90942561 0.9272557  0.89744614\n",
            " 0.89888679 0.91465168 0.91754355 0.91223949 0.85375295 0.87637719\n",
            " 0.88526762 0.88623849 0.85601452 0.84767199 0.86050903 0.85358414\n",
            " 0.87098217 0.89007755 0.91711991 0.9182192  0.88453753 0.88235141\n",
            " 0.86642774 0.88094848 0.89027004 0.90919486 0.89753134 0.88140221\n",
            " 0.88283189 0.91187685 0.93285457 0.92290031 0.91133337 0.94474242\n",
            " 0.9485578  0.94806581 0.96107809 0.96442369 0.97495916 0.99257978\n",
            " 0.99249203 0.98956766 0.98026174 0.9709143  0.96580613 0.9632479\n",
            " 0.96388876 0.9668082  0.97106564 0.97561276 0.97963196 0.98262411\n",
            " 0.98443729 0.98520172 0.98522472 0.98487711 0.98449719 0.98432785\n",
            " 0.98449332 0.98500383 0.98578763 0.98672688]\n",
            "20 day output [[0.98769784]]\n",
            "21 day input [0.93499214 0.94726991 0.95128808 0.97242137 0.97174706 0.97107288\n",
            " 0.97867944 0.97911712 1.         0.99828928 0.98457995 0.97159684\n",
            " 0.95670316 0.91747881 0.91772159 0.95300242 0.96182423 0.89541438\n",
            " 0.9210922  0.93640096 0.97570464 0.95520727 0.94011401 0.94133823\n",
            " 0.9613507  0.97004971 0.9533581  0.93976328 0.9386977  0.91944101\n",
            " 0.89940486 0.9213798  0.91840232 0.92799582 0.89816486 0.87281796\n",
            " 0.89228146 0.93091123 0.90942561 0.9272557  0.89744614 0.89888679\n",
            " 0.91465168 0.91754355 0.91223949 0.85375295 0.87637719 0.88526762\n",
            " 0.88623849 0.85601452 0.84767199 0.86050903 0.85358414 0.87098217\n",
            " 0.89007755 0.91711991 0.9182192  0.88453753 0.88235141 0.86642774\n",
            " 0.88094848 0.89027004 0.90919486 0.89753134 0.88140221 0.88283189\n",
            " 0.91187685 0.93285457 0.92290031 0.91133337 0.94474242 0.9485578\n",
            " 0.94806581 0.96107809 0.96442369 0.97495916 0.99257978 0.99249203\n",
            " 0.98956766 0.98026174 0.9709143  0.96580613 0.9632479  0.96388876\n",
            " 0.9668082  0.97106564 0.97561276 0.97963196 0.98262411 0.98443729\n",
            " 0.98520172 0.98522472 0.98487711 0.98449719 0.98432785 0.98449332\n",
            " 0.98500383 0.98578763 0.98672688 0.98769784]\n",
            "21 day output [[0.9885991]]\n",
            "22 day input [0.94726991 0.95128808 0.97242137 0.97174706 0.97107288 0.97867944\n",
            " 0.97911712 1.         0.99828928 0.98457995 0.97159684 0.95670316\n",
            " 0.91747881 0.91772159 0.95300242 0.96182423 0.89541438 0.9210922\n",
            " 0.93640096 0.97570464 0.95520727 0.94011401 0.94133823 0.9613507\n",
            " 0.97004971 0.9533581  0.93976328 0.9386977  0.91944101 0.89940486\n",
            " 0.9213798  0.91840232 0.92799582 0.89816486 0.87281796 0.89228146\n",
            " 0.93091123 0.90942561 0.9272557  0.89744614 0.89888679 0.91465168\n",
            " 0.91754355 0.91223949 0.85375295 0.87637719 0.88526762 0.88623849\n",
            " 0.85601452 0.84767199 0.86050903 0.85358414 0.87098217 0.89007755\n",
            " 0.91711991 0.9182192  0.88453753 0.88235141 0.86642774 0.88094848\n",
            " 0.89027004 0.90919486 0.89753134 0.88140221 0.88283189 0.91187685\n",
            " 0.93285457 0.92290031 0.91133337 0.94474242 0.9485578  0.94806581\n",
            " 0.96107809 0.96442369 0.97495916 0.99257978 0.99249203 0.98956766\n",
            " 0.98026174 0.9709143  0.96580613 0.9632479  0.96388876 0.9668082\n",
            " 0.97106564 0.97561276 0.97963196 0.98262411 0.98443729 0.98520172\n",
            " 0.98522472 0.98487711 0.98449719 0.98432785 0.98449332 0.98500383\n",
            " 0.98578763 0.98672688 0.98769784 0.98859912]\n",
            "22 day output [[0.9893684]]\n",
            "23 day input [0.95128808 0.97242137 0.97174706 0.97107288 0.97867944 0.97911712\n",
            " 1.         0.99828928 0.98457995 0.97159684 0.95670316 0.91747881\n",
            " 0.91772159 0.95300242 0.96182423 0.89541438 0.9210922  0.93640096\n",
            " 0.97570464 0.95520727 0.94011401 0.94133823 0.9613507  0.97004971\n",
            " 0.9533581  0.93976328 0.9386977  0.91944101 0.89940486 0.9213798\n",
            " 0.91840232 0.92799582 0.89816486 0.87281796 0.89228146 0.93091123\n",
            " 0.90942561 0.9272557  0.89744614 0.89888679 0.91465168 0.91754355\n",
            " 0.91223949 0.85375295 0.87637719 0.88526762 0.88623849 0.85601452\n",
            " 0.84767199 0.86050903 0.85358414 0.87098217 0.89007755 0.91711991\n",
            " 0.9182192  0.88453753 0.88235141 0.86642774 0.88094848 0.89027004\n",
            " 0.90919486 0.89753134 0.88140221 0.88283189 0.91187685 0.93285457\n",
            " 0.92290031 0.91133337 0.94474242 0.9485578  0.94806581 0.96107809\n",
            " 0.96442369 0.97495916 0.99257978 0.99249203 0.98956766 0.98026174\n",
            " 0.9709143  0.96580613 0.9632479  0.96388876 0.9668082  0.97106564\n",
            " 0.97561276 0.97963196 0.98262411 0.98443729 0.98520172 0.98522472\n",
            " 0.98487711 0.98449719 0.98432785 0.98449332 0.98500383 0.98578763\n",
            " 0.98672688 0.98769784 0.98859912 0.98936838]\n",
            "23 day output [[0.98998487]]\n",
            "24 day input [0.97242137 0.97174706 0.97107288 0.97867944 0.97911712 1.\n",
            " 0.99828928 0.98457995 0.97159684 0.95670316 0.91747881 0.91772159\n",
            " 0.95300242 0.96182423 0.89541438 0.9210922  0.93640096 0.97570464\n",
            " 0.95520727 0.94011401 0.94133823 0.9613507  0.97004971 0.9533581\n",
            " 0.93976328 0.9386977  0.91944101 0.89940486 0.9213798  0.91840232\n",
            " 0.92799582 0.89816486 0.87281796 0.89228146 0.93091123 0.90942561\n",
            " 0.9272557  0.89744614 0.89888679 0.91465168 0.91754355 0.91223949\n",
            " 0.85375295 0.87637719 0.88526762 0.88623849 0.85601452 0.84767199\n",
            " 0.86050903 0.85358414 0.87098217 0.89007755 0.91711991 0.9182192\n",
            " 0.88453753 0.88235141 0.86642774 0.88094848 0.89027004 0.90919486\n",
            " 0.89753134 0.88140221 0.88283189 0.91187685 0.93285457 0.92290031\n",
            " 0.91133337 0.94474242 0.9485578  0.94806581 0.96107809 0.96442369\n",
            " 0.97495916 0.99257978 0.99249203 0.98956766 0.98026174 0.9709143\n",
            " 0.96580613 0.9632479  0.96388876 0.9668082  0.97106564 0.97561276\n",
            " 0.97963196 0.98262411 0.98443729 0.98520172 0.98522472 0.98487711\n",
            " 0.98449719 0.98432785 0.98449332 0.98500383 0.98578763 0.98672688\n",
            " 0.98769784 0.98859912 0.98936838 0.98998487]\n",
            "24 day output [[0.99046326]]\n",
            "25 day input [0.97174706 0.97107288 0.97867944 0.97911712 1.         0.99828928\n",
            " 0.98457995 0.97159684 0.95670316 0.91747881 0.91772159 0.95300242\n",
            " 0.96182423 0.89541438 0.9210922  0.93640096 0.97570464 0.95520727\n",
            " 0.94011401 0.94133823 0.9613507  0.97004971 0.9533581  0.93976328\n",
            " 0.9386977  0.91944101 0.89940486 0.9213798  0.91840232 0.92799582\n",
            " 0.89816486 0.87281796 0.89228146 0.93091123 0.90942561 0.9272557\n",
            " 0.89744614 0.89888679 0.91465168 0.91754355 0.91223949 0.85375295\n",
            " 0.87637719 0.88526762 0.88623849 0.85601452 0.84767199 0.86050903\n",
            " 0.85358414 0.87098217 0.89007755 0.91711991 0.9182192  0.88453753\n",
            " 0.88235141 0.86642774 0.88094848 0.89027004 0.90919486 0.89753134\n",
            " 0.88140221 0.88283189 0.91187685 0.93285457 0.92290031 0.91133337\n",
            " 0.94474242 0.9485578  0.94806581 0.96107809 0.96442369 0.97495916\n",
            " 0.99257978 0.99249203 0.98956766 0.98026174 0.9709143  0.96580613\n",
            " 0.9632479  0.96388876 0.9668082  0.97106564 0.97561276 0.97963196\n",
            " 0.98262411 0.98443729 0.98520172 0.98522472 0.98487711 0.98449719\n",
            " 0.98432785 0.98449332 0.98500383 0.98578763 0.98672688 0.98769784\n",
            " 0.98859912 0.98936838 0.98998487 0.99046326]\n",
            "25 day output [[0.99084216]]\n",
            "26 day input [0.97107288 0.97867944 0.97911712 1.         0.99828928 0.98457995\n",
            " 0.97159684 0.95670316 0.91747881 0.91772159 0.95300242 0.96182423\n",
            " 0.89541438 0.9210922  0.93640096 0.97570464 0.95520727 0.94011401\n",
            " 0.94133823 0.9613507  0.97004971 0.9533581  0.93976328 0.9386977\n",
            " 0.91944101 0.89940486 0.9213798  0.91840232 0.92799582 0.89816486\n",
            " 0.87281796 0.89228146 0.93091123 0.90942561 0.9272557  0.89744614\n",
            " 0.89888679 0.91465168 0.91754355 0.91223949 0.85375295 0.87637719\n",
            " 0.88526762 0.88623849 0.85601452 0.84767199 0.86050903 0.85358414\n",
            " 0.87098217 0.89007755 0.91711991 0.9182192  0.88453753 0.88235141\n",
            " 0.86642774 0.88094848 0.89027004 0.90919486 0.89753134 0.88140221\n",
            " 0.88283189 0.91187685 0.93285457 0.92290031 0.91133337 0.94474242\n",
            " 0.9485578  0.94806581 0.96107809 0.96442369 0.97495916 0.99257978\n",
            " 0.99249203 0.98956766 0.98026174 0.9709143  0.96580613 0.9632479\n",
            " 0.96388876 0.9668082  0.97106564 0.97561276 0.97963196 0.98262411\n",
            " 0.98443729 0.98520172 0.98522472 0.98487711 0.98449719 0.98432785\n",
            " 0.98449332 0.98500383 0.98578763 0.98672688 0.98769784 0.98859912\n",
            " 0.98936838 0.98998487 0.99046326 0.99084216]\n",
            "26 day output [[0.99116886]]\n",
            "27 day input [0.97867944 0.97911712 1.         0.99828928 0.98457995 0.97159684\n",
            " 0.95670316 0.91747881 0.91772159 0.95300242 0.96182423 0.89541438\n",
            " 0.9210922  0.93640096 0.97570464 0.95520727 0.94011401 0.94133823\n",
            " 0.9613507  0.97004971 0.9533581  0.93976328 0.9386977  0.91944101\n",
            " 0.89940486 0.9213798  0.91840232 0.92799582 0.89816486 0.87281796\n",
            " 0.89228146 0.93091123 0.90942561 0.9272557  0.89744614 0.89888679\n",
            " 0.91465168 0.91754355 0.91223949 0.85375295 0.87637719 0.88526762\n",
            " 0.88623849 0.85601452 0.84767199 0.86050903 0.85358414 0.87098217\n",
            " 0.89007755 0.91711991 0.9182192  0.88453753 0.88235141 0.86642774\n",
            " 0.88094848 0.89027004 0.90919486 0.89753134 0.88140221 0.88283189\n",
            " 0.91187685 0.93285457 0.92290031 0.91133337 0.94474242 0.9485578\n",
            " 0.94806581 0.96107809 0.96442369 0.97495916 0.99257978 0.99249203\n",
            " 0.98956766 0.98026174 0.9709143  0.96580613 0.9632479  0.96388876\n",
            " 0.9668082  0.97106564 0.97561276 0.97963196 0.98262411 0.98443729\n",
            " 0.98520172 0.98522472 0.98487711 0.98449719 0.98432785 0.98449332\n",
            " 0.98500383 0.98578763 0.98672688 0.98769784 0.98859912 0.98936838\n",
            " 0.98998487 0.99046326 0.99084216 0.99116886]\n",
            "27 day output [[0.9914876]]\n",
            "28 day input [0.97911712 1.         0.99828928 0.98457995 0.97159684 0.95670316\n",
            " 0.91747881 0.91772159 0.95300242 0.96182423 0.89541438 0.9210922\n",
            " 0.93640096 0.97570464 0.95520727 0.94011401 0.94133823 0.9613507\n",
            " 0.97004971 0.9533581  0.93976328 0.9386977  0.91944101 0.89940486\n",
            " 0.9213798  0.91840232 0.92799582 0.89816486 0.87281796 0.89228146\n",
            " 0.93091123 0.90942561 0.9272557  0.89744614 0.89888679 0.91465168\n",
            " 0.91754355 0.91223949 0.85375295 0.87637719 0.88526762 0.88623849\n",
            " 0.85601452 0.84767199 0.86050903 0.85358414 0.87098217 0.89007755\n",
            " 0.91711991 0.9182192  0.88453753 0.88235141 0.86642774 0.88094848\n",
            " 0.89027004 0.90919486 0.89753134 0.88140221 0.88283189 0.91187685\n",
            " 0.93285457 0.92290031 0.91133337 0.94474242 0.9485578  0.94806581\n",
            " 0.96107809 0.96442369 0.97495916 0.99257978 0.99249203 0.98956766\n",
            " 0.98026174 0.9709143  0.96580613 0.9632479  0.96388876 0.9668082\n",
            " 0.97106564 0.97561276 0.97963196 0.98262411 0.98443729 0.98520172\n",
            " 0.98522472 0.98487711 0.98449719 0.98432785 0.98449332 0.98500383\n",
            " 0.98578763 0.98672688 0.98769784 0.98859912 0.98936838 0.98998487\n",
            " 0.99046326 0.99084216 0.99116886 0.99148762]\n",
            "28 day output [[0.9918315]]\n",
            "29 day input [1.         0.99828928 0.98457995 0.97159684 0.95670316 0.91747881\n",
            " 0.91772159 0.95300242 0.96182423 0.89541438 0.9210922  0.93640096\n",
            " 0.97570464 0.95520727 0.94011401 0.94133823 0.9613507  0.97004971\n",
            " 0.9533581  0.93976328 0.9386977  0.91944101 0.89940486 0.9213798\n",
            " 0.91840232 0.92799582 0.89816486 0.87281796 0.89228146 0.93091123\n",
            " 0.90942561 0.9272557  0.89744614 0.89888679 0.91465168 0.91754355\n",
            " 0.91223949 0.85375295 0.87637719 0.88526762 0.88623849 0.85601452\n",
            " 0.84767199 0.86050903 0.85358414 0.87098217 0.89007755 0.91711991\n",
            " 0.9182192  0.88453753 0.88235141 0.86642774 0.88094848 0.89027004\n",
            " 0.90919486 0.89753134 0.88140221 0.88283189 0.91187685 0.93285457\n",
            " 0.92290031 0.91133337 0.94474242 0.9485578  0.94806581 0.96107809\n",
            " 0.96442369 0.97495916 0.99257978 0.99249203 0.98956766 0.98026174\n",
            " 0.9709143  0.96580613 0.9632479  0.96388876 0.9668082  0.97106564\n",
            " 0.97561276 0.97963196 0.98262411 0.98443729 0.98520172 0.98522472\n",
            " 0.98487711 0.98449719 0.98432785 0.98449332 0.98500383 0.98578763\n",
            " 0.98672688 0.98769784 0.98859912 0.98936838 0.98998487 0.99046326\n",
            " 0.99084216 0.99116886 0.99148762 0.99183148]\n",
            "29 day output [[0.9922185]]\n",
            "[[0.9802617430686951], [0.9709143042564392], [0.9658061265945435], [0.9632478952407837], [0.9638887643814087], [0.9668081998825073], [0.9710656404495239], [0.9756127595901489], [0.9796319603919983], [0.9826241135597229], [0.9844372868537903], [0.9852017164230347], [0.985224723815918], [0.9848771095275879], [0.9844971895217896], [0.9843278527259827], [0.9844933152198792], [0.9850038290023804], [0.9857876300811768], [0.9867268800735474], [0.9876978397369385], [0.9885991215705872], [0.9893683791160583], [0.9899848699569702], [0.9904632568359375], [0.9908421635627747], [0.9911688566207886], [0.9914876222610474], [0.9918314814567566], [0.9922184944152832]]\n"
          ],
          "name": "stdout"
        }
      ]
    },
    {
      "cell_type": "code",
      "metadata": {
        "id": "DyotYVuFsAGr"
      },
      "source": [
        "day_new=np.arange(1,101)\n",
        "day_pred=np.arange(101,131)"
      ],
      "execution_count": null,
      "outputs": []
    },
    {
      "cell_type": "code",
      "metadata": {
        "colab": {
          "base_uri": "https://localhost:8080/"
        },
        "id": "MbH5T2IItcLU",
        "outputId": "881dd933-d124-4f94-db70-ed6d9650c734"
      },
      "source": [
        "len(transformed_data)"
      ],
      "execution_count": null,
      "outputs": [
        {
          "output_type": "execute_result",
          "data": {
            "text/plain": [
              "1574"
            ]
          },
          "metadata": {
            "tags": []
          },
          "execution_count": 126
        }
      ]
    },
    {
      "cell_type": "code",
      "metadata": {
        "colab": {
          "base_uri": "https://localhost:8080/",
          "height": 483
        },
        "id": "Ki9VSduTtsA4",
        "outputId": "9cd30ef8-f9b4-4bab-95f5-a9076904f98f"
      },
      "source": [
        "#PLOT GRAPH WITH PREDICTED VALUES\n",
        "plt.figure(figsize=(25,8))\n",
        "#plt.xticks(range(0,data.shape[0],500),data['Date'].loc[::500],rotation=45)\n",
        "plt.plot(day_new,scaler.inverse_transform(transformed_data[1474:]))\n",
        "plt.plot(day_pred,scaler.inverse_transform(lst_output))\n",
        "plt.legend([\"New Day\",\"Predicted Day\"],loc=\"upper left\")"
      ],
      "execution_count": null,
      "outputs": [
        {
          "output_type": "execute_result",
          "data": {
            "text/plain": [
              "<matplotlib.legend.Legend at 0x7f078fbcacd0>"
            ]
          },
          "metadata": {
            "tags": []
          },
          "execution_count": 139
        },
        {
          "output_type": "display_data",
          "data": {
            "image/png": "[encoded data removed]",
            "text/plain": [
              "<Figure size 1800x576 with 1 Axes>"
            ]
          },
          "metadata": {
            "tags": []
          }
        }
      ]
    },
    {
      "cell_type": "code",
      "metadata": {
        "colab": {
          "base_uri": "https://localhost:8080/",
          "height": 553
        },
        "id": "yFvedgQut3na",
        "outputId": "30bbde09-beca-4b62-c105-ec4f8b44b514"
      },
      "source": [
        "transformed_data1=transformed_data.tolist()\n",
        "transformed_data1.extend(lst_output)\n",
        "plt.figure(figsize=(20,9))\n",
        "plt.plot(transformed_data1[1580:])"
      ],
      "execution_count": null,
      "outputs": [
        {
          "output_type": "execute_result",
          "data": {
            "text/plain": [
              "[<matplotlib.lines.Line2D at 0x7f079440b190>]"
            ]
          },
          "metadata": {
            "tags": []
          },
          "execution_count": 146
        },
        {
          "output_type": "display_data",
          "data": {
            "image/png": "[encoded data removed]",
            "text/plain": [
              "<Figure size 1440x648 with 1 Axes>"
            ]
          },
          "metadata": {
            "tags": []
          }
        }
      ]
    },
    {
      "cell_type": "code",
      "metadata": {
        "colab": {
          "base_uri": "https://localhost:8080/",
          "height": 553
        },
        "id": "1c_DexUiuhxk",
        "outputId": "da308cc7-d0b1-4864-f274-8f2e329ca06c"
      },
      "source": [
        "transformed_data1=scaler.inverse_transform(transformed_data1).tolist()\n",
        "plt.figure(figsize=(20,9))\n",
        "plt.plot(transformed_data1)"
      ],
      "execution_count": null,
      "outputs": [
        {
          "output_type": "execute_result",
          "data": {
            "text/plain": [
              "[<matplotlib.lines.Line2D at 0x7f079379ea10>]"
            ]
          },
          "metadata": {
            "tags": []
          },
          "execution_count": 143
        },
        {
          "output_type": "display_data",
          "data": {
            "image/png": "[encoded data removed]",
            "text/plain": [
              "<Figure size 1440x648 with 1 Axes>"
            ]
          },
          "metadata": {
            "tags": []
          }
        }
      ]
    },
    {
      "cell_type": "markdown",
      "metadata": {
        "id": "Z7o8rySibLUf"
      },
      "source": [
        "**SENTIMENTAL ANALYSIS**"
      ]
    },
    {
      "cell_type": "code",
      "metadata": {
        "colab": {
          "resources": {
            "http://localhost:8080/nbextensions/google.colab/files.js": {
              "data": "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",
              "ok": true,
              "headers": [
                [
                  "content-type",
                  "application/javascript"
                ]
              ],
              "status": 200,
              "status_text": ""
            }
          },
          "base_uri": "https://localhost:8080/",
          "height": 73
        },
        "id": "-uPJA2tKbS3Y",
        "outputId": "d8a97312-a576-45bc-eb10-bdd81f5ed068"
      },
      "source": [
        "#UPLOAD FILES\n",
        "from google.colab import files\n",
        "uploaded = files.upload()"
      ],
      "execution_count": null,
      "outputs": [
        {
          "output_type": "display_data",
          "data": {
            "text/html": [
              "\n",
              "     <input type=\"file\" id=\"files-e7e08610-c122-4b99-94b9-78d62fc3bc02\" name=\"files[]\" multiple disabled\n",
              "        style=\"border:none\" />\n",
              "     <output id=\"result-e7e08610-c122-4b99-94b9-78d62fc3bc02\">\n",
              "      Upload widget is only available when the cell has been executed in the\n",
              "      current browser session. Please rerun this cell to enable.\n",
              "      </output>\n",
              "      <script src=\"/nbextensions/google.colab/files.js\"></script> "
            ],
            "text/plain": [
              "<IPython.core.display.HTML object>"
            ]
          },
          "metadata": {
            "tags": []
          }
        },
        {
          "output_type": "stream",
          "text": [
            "Saving india-news-headlines.csv to india-news-headlines (1).csv\n"
          ],
          "name": "stdout"
        }
      ]
    },
    {
      "cell_type": "code",
      "metadata": {
        "id": "mWo9Jywdbn6t"
      },
      "source": [
        "#READ THE DATA FROM THE FILE UPLOADED\n",
        "news_data=pd.read_csv(\"india-news-headlines (1).csv\",parse_dates=[0], infer_datetime_format=True,error_bad_lines=False,usecols =[\"publish_date\",\"headline_text\"])"
      ],
      "execution_count": null,
      "outputs": []
    },
    {
      "cell_type": "code",
      "metadata": {
        "colab": {
          "base_uri": "https://localhost:8080/",
          "height": 202
        },
        "id": "zTp66eP_cdPR",
        "outputId": "665fb1f0-0024-4f49-a4c0-e399fb9cddc5"
      },
      "source": [
        "news_data=news_data.rename(columns={\"publish_date\": \"Date\"})\n",
        "news_data.head()"
      ],
      "execution_count": null,
      "outputs": [
        {
          "output_type": "execute_result",
          "data": {
            "text/html": [
              "<div>\n",
              "<style scoped>\n",
              "    .dataframe tbody tr th:only-of-type {\n",
              "        vertical-align: middle;\n",
              "    }\n",
              "\n",
              "    .dataframe tbody tr th {\n",
              "        vertical-align: top;\n",
              "    }\n",
              "\n",
              "    .dataframe thead th {\n",
              "        text-align: right;\n",
              "    }\n",
              "</style>\n",
              "<table border=\"1\" class=\"dataframe\">\n",
              "  <thead>\n",
              "    <tr style=\"text-align: right;\">\n",
              "      <th></th>\n",
              "      <th>Date</th>\n",
              "      <th>headline_text</th>\n",
              "    </tr>\n",
              "  </thead>\n",
              "  <tbody>\n",
              "    <tr>\n",
              "      <th>0</th>\n",
              "      <td>2001-01-02</td>\n",
              "      <td>Status quo will not be disturbed at Ayodhya; s...</td>\n",
              "    </tr>\n",
              "    <tr>\n",
              "      <th>1</th>\n",
              "      <td>2001-01-02</td>\n",
              "      <td>Fissures in Hurriyat over Pak visit</td>\n",
              "    </tr>\n",
              "    <tr>\n",
              "      <th>2</th>\n",
              "      <td>2001-01-02</td>\n",
              "      <td>America's unwanted heading for India?</td>\n",
              "    </tr>\n",
              "    <tr>\n",
              "      <th>3</th>\n",
              "      <td>2001-01-02</td>\n",
              "      <td>For bigwigs; it is destination Goa</td>\n",
              "    </tr>\n",
              "    <tr>\n",
              "      <th>4</th>\n",
              "      <td>2001-01-02</td>\n",
              "      <td>Extra buses to clear tourist traffic</td>\n",
              "    </tr>\n",
              "  </tbody>\n",
              "</table>\n",
              "</div>"
            ],
            "text/plain": [
              "        Date                                      headline_text\n",
              "0 2001-01-02  Status quo will not be disturbed at Ayodhya; s...\n",
              "1 2001-01-02                Fissures in Hurriyat over Pak visit\n",
              "2 2001-01-02              America's unwanted heading for India?\n",
              "3 2001-01-02                 For bigwigs; it is destination Goa\n",
              "4 2001-01-02               Extra buses to clear tourist traffic"
            ]
          },
          "metadata": {
            "tags": []
          },
          "execution_count": 13
        }
      ]
    },
    {
      "cell_type": "code",
      "metadata": {
        "colab": {
          "base_uri": "https://localhost:8080/",
          "height": 202
        },
        "id": "N7Hwo4_fcdT4",
        "outputId": "8fcb233e-1aca-4077-84d3-685bb94283c2"
      },
      "source": [
        "news_data.tail()"
      ],
      "execution_count": null,
      "outputs": [
        {
          "output_type": "execute_result",
          "data": {
            "text/html": [
              "<div>\n",
              "<style scoped>\n",
              "    .dataframe tbody tr th:only-of-type {\n",
              "        vertical-align: middle;\n",
              "    }\n",
              "\n",
              "    .dataframe tbody tr th {\n",
              "        vertical-align: top;\n",
              "    }\n",
              "\n",
              "    .dataframe thead th {\n",
              "        text-align: right;\n",
              "    }\n",
              "</style>\n",
              "<table border=\"1\" class=\"dataframe\">\n",
              "  <thead>\n",
              "    <tr style=\"text-align: right;\">\n",
              "      <th></th>\n",
              "      <th>Date</th>\n",
              "      <th>headline_text</th>\n",
              "    </tr>\n",
              "  </thead>\n",
              "  <tbody>\n",
              "    <tr>\n",
              "      <th>3424062</th>\n",
              "      <td>2020-12-31</td>\n",
              "      <td>Covid-19: Despite dip in cases; Rajasthan amon...</td>\n",
              "    </tr>\n",
              "    <tr>\n",
              "      <th>3424063</th>\n",
              "      <td>2020-12-31</td>\n",
              "      <td>Covid-19: Despite dip in cases; Rajasthan amon...</td>\n",
              "    </tr>\n",
              "    <tr>\n",
              "      <th>3424064</th>\n",
              "      <td>2020-12-31</td>\n",
              "      <td>Covid-19: Despite dip in cases; Rajasthan amon...</td>\n",
              "    </tr>\n",
              "    <tr>\n",
              "      <th>3424065</th>\n",
              "      <td>2020-12-31</td>\n",
              "      <td>Govt extends deadline for use of FASTag till F...</td>\n",
              "    </tr>\n",
              "    <tr>\n",
              "      <th>3424066</th>\n",
              "      <td>2020-12-31</td>\n",
              "      <td>Celebs plan to party safely and responsibly on...</td>\n",
              "    </tr>\n",
              "  </tbody>\n",
              "</table>\n",
              "</div>"
            ],
            "text/plain": [
              "              Date                                      headline_text\n",
              "3424062 2020-12-31  Covid-19: Despite dip in cases; Rajasthan amon...\n",
              "3424063 2020-12-31  Covid-19: Despite dip in cases; Rajasthan amon...\n",
              "3424064 2020-12-31  Covid-19: Despite dip in cases; Rajasthan amon...\n",
              "3424065 2020-12-31  Govt extends deadline for use of FASTag till F...\n",
              "3424066 2020-12-31  Celebs plan to party safely and responsibly on..."
            ]
          },
          "metadata": {
            "tags": []
          },
          "execution_count": 14
        }
      ]
    },
    {
      "cell_type": "code",
      "metadata": {
        "id": "V4q5RVWycdYC"
      },
      "source": [
        "start_date = pd.to_datetime('2015-01-01')\n",
        "end_date = pd.to_datetime('2021-06-03')\n",
        "news_data=news_data.loc[(news_data['Date'] > start_date) & (news_data['Date'] < end_date)]"
      ],
      "execution_count": null,
      "outputs": []
    },
    {
      "cell_type": "code",
      "metadata": {
        "id": "G5F8dK7Xcdb9"
      },
      "source": [
        "news_data=news_data.reset_index()"
      ],
      "execution_count": null,
      "outputs": []
    },
    {
      "cell_type": "code",
      "metadata": {
        "id": "dtJIml5DcdfU"
      },
      "source": [
        "news_data=news_data.drop(\"index\",axis=1)"
      ],
      "execution_count": null,
      "outputs": []
    },
    {
      "cell_type": "code",
      "metadata": {
        "colab": {
          "base_uri": "https://localhost:8080/",
          "height": 202
        },
        "id": "ynT-aWIAcdj4",
        "outputId": "858f8078-e5a8-4015-9f4b-a0c9bb8fcf38"
      },
      "source": [
        "news_data.head()"
      ],
      "execution_count": null,
      "outputs": [
        {
          "output_type": "execute_result",
          "data": {
            "text/html": [
              "<div>\n",
              "<style scoped>\n",
              "    .dataframe tbody tr th:only-of-type {\n",
              "        vertical-align: middle;\n",
              "    }\n",
              "\n",
              "    .dataframe tbody tr th {\n",
              "        vertical-align: top;\n",
              "    }\n",
              "\n",
              "    .dataframe thead th {\n",
              "        text-align: right;\n",
              "    }\n",
              "</style>\n",
              "<table border=\"1\" class=\"dataframe\">\n",
              "  <thead>\n",
              "    <tr style=\"text-align: right;\">\n",
              "      <th></th>\n",
              "      <th>Date</th>\n",
              "      <th>headline_text</th>\n",
              "    </tr>\n",
              "  </thead>\n",
              "  <tbody>\n",
              "    <tr>\n",
              "      <th>0</th>\n",
              "      <td>2015-01-02</td>\n",
              "      <td>Drink smart with these party tips</td>\n",
              "    </tr>\n",
              "    <tr>\n",
              "      <th>1</th>\n",
              "      <td>2015-01-02</td>\n",
              "      <td>How to say sorry to your kid</td>\n",
              "    </tr>\n",
              "    <tr>\n",
              "      <th>2</th>\n",
              "      <td>2015-01-02</td>\n",
              "      <td>Where to take your child on weekends</td>\n",
              "    </tr>\n",
              "    <tr>\n",
              "      <th>3</th>\n",
              "      <td>2015-01-02</td>\n",
              "      <td>Why Mediterranean diet is good for your heart</td>\n",
              "    </tr>\n",
              "    <tr>\n",
              "      <th>4</th>\n",
              "      <td>2015-01-02</td>\n",
              "      <td>The employee gifting guide</td>\n",
              "    </tr>\n",
              "  </tbody>\n",
              "</table>\n",
              "</div>"
            ],
            "text/plain": [
              "        Date                                  headline_text\n",
              "0 2015-01-02              Drink smart with these party tips\n",
              "1 2015-01-02                   How to say sorry to your kid\n",
              "2 2015-01-02           Where to take your child on weekends\n",
              "3 2015-01-02  Why Mediterranean diet is good for your heart\n",
              "4 2015-01-02                     The employee gifting guide"
            ]
          },
          "metadata": {
            "tags": []
          },
          "execution_count": 23
        }
      ]
    },
    {
      "cell_type": "code",
      "metadata": {
        "colab": {
          "base_uri": "https://localhost:8080/",
          "height": 202
        },
        "id": "9xNdZ12KceKY",
        "outputId": "b377a4b2-fd80-47d8-eef4-8e07e48971e2"
      },
      "source": [
        "news_data.tail()"
      ],
      "execution_count": null,
      "outputs": [
        {
          "output_type": "execute_result",
          "data": {
            "text/html": [
              "<div>\n",
              "<style scoped>\n",
              "    .dataframe tbody tr th:only-of-type {\n",
              "        vertical-align: middle;\n",
              "    }\n",
              "\n",
              "    .dataframe tbody tr th {\n",
              "        vertical-align: top;\n",
              "    }\n",
              "\n",
              "    .dataframe thead th {\n",
              "        text-align: right;\n",
              "    }\n",
              "</style>\n",
              "<table border=\"1\" class=\"dataframe\">\n",
              "  <thead>\n",
              "    <tr style=\"text-align: right;\">\n",
              "      <th></th>\n",
              "      <th>Date</th>\n",
              "      <th>headline_text</th>\n",
              "    </tr>\n",
              "  </thead>\n",
              "  <tbody>\n",
              "    <tr>\n",
              "      <th>1383704</th>\n",
              "      <td>2020-12-31</td>\n",
              "      <td>Covid-19: Despite dip in cases; Rajasthan amon...</td>\n",
              "    </tr>\n",
              "    <tr>\n",
              "      <th>1383705</th>\n",
              "      <td>2020-12-31</td>\n",
              "      <td>Covid-19: Despite dip in cases; Rajasthan amon...</td>\n",
              "    </tr>\n",
              "    <tr>\n",
              "      <th>1383706</th>\n",
              "      <td>2020-12-31</td>\n",
              "      <td>Covid-19: Despite dip in cases; Rajasthan amon...</td>\n",
              "    </tr>\n",
              "    <tr>\n",
              "      <th>1383707</th>\n",
              "      <td>2020-12-31</td>\n",
              "      <td>Govt extends deadline for use of FASTag till F...</td>\n",
              "    </tr>\n",
              "    <tr>\n",
              "      <th>1383708</th>\n",
              "      <td>2020-12-31</td>\n",
              "      <td>Celebs plan to party safely and responsibly on...</td>\n",
              "    </tr>\n",
              "  </tbody>\n",
              "</table>\n",
              "</div>"
            ],
            "text/plain": [
              "              Date                                      headline_text\n",
              "1383704 2020-12-31  Covid-19: Despite dip in cases; Rajasthan amon...\n",
              "1383705 2020-12-31  Covid-19: Despite dip in cases; Rajasthan amon...\n",
              "1383706 2020-12-31  Covid-19: Despite dip in cases; Rajasthan amon...\n",
              "1383707 2020-12-31  Govt extends deadline for use of FASTag till F...\n",
              "1383708 2020-12-31  Celebs plan to party safely and responsibly on..."
            ]
          },
          "metadata": {
            "tags": []
          },
          "execution_count": 24
        }
      ]
    },
    {
      "cell_type": "code",
      "metadata": {
        "id": "RfNMSm9RceOw"
      },
      "source": [
        "news_data['headline_text'] = news_data.groupby(['Date']).transform(lambda x : ' '.join(x)) \n",
        "news_data = news_data.drop_duplicates() \n",
        "news_data.reset_index(inplace = True, drop = True)"
      ],
      "execution_count": null,
      "outputs": []
    },
    {
      "cell_type": "code",
      "metadata": {
        "id": "LXVS33wLceTE"
      },
      "source": [
        ""
      ],
      "execution_count": null,
      "outputs": []
    },
    {
      "cell_type": "markdown",
      "metadata": {
        "id": "6RQ0aVjRtE0-"
      },
      "source": [
        "**PREPROCESSING DATA**"
      ]
    },
    {
      "cell_type": "code",
      "metadata": {
        "id": "tAkz4bhdceXB"
      },
      "source": [
        "news_data['headline_text'] = news_data['headline_text'].apply(lambda x: \" \".join(x.lower() for x in x.split()))\n",
        "news_data['headline_text'] = news_data['headline_text'].str.replace('[^\\w\\s]','')\n",
        "news_data['headline_text'] = news_data['headline_text'].str.replace('\\d','')\n"
      ],
      "execution_count": null,
      "outputs": []
    },
    {
      "cell_type": "code",
      "metadata": {
        "colab": {
          "base_uri": "https://localhost:8080/"
        },
        "id": "BIueRI62cebL",
        "outputId": "c659329a-f3e0-4162-a167-9d2916d75768"
      },
      "source": [
        "import nltk\n",
        "nltk.download('stopwords')"
      ],
      "execution_count": null,
      "outputs": [
        {
          "output_type": "stream",
          "text": [
            "[nltk_data] Downloading package stopwords to /root/nltk_data...\n",
            "[nltk_data]   Unzipping corpora/stopwords.zip.\n"
          ],
          "name": "stdout"
        },
        {
          "output_type": "execute_result",
          "data": {
            "text/plain": [
              "True"
            ]
          },
          "metadata": {
            "tags": []
          },
          "execution_count": 27
        }
      ]
    },
    {
      "cell_type": "code",
      "metadata": {
        "id": "_Mcz9aH9ceeY"
      },
      "source": [
        "from nltk.corpus import stopwords\n",
        "sw = stopwords.words('english')\n",
        "news_data['headline_text'] = news_data['headline_text'].apply(lambda x: \" \".join(x for x in x.split() if x not in sw))"
      ],
      "execution_count": null,
      "outputs": []
    },
    {
      "cell_type": "code",
      "metadata": {
        "colab": {
          "base_uri": "https://localhost:8080/"
        },
        "id": "9O5UWRKIcelk",
        "outputId": "2f7c4c28-40da-466e-c52d-b31808eaa054"
      },
      "source": [
        "nltk.download('wordnet')"
      ],
      "execution_count": null,
      "outputs": [
        {
          "output_type": "stream",
          "text": [
            "[nltk_data] Downloading package wordnet to /root/nltk_data...\n",
            "[nltk_data]   Unzipping corpora/wordnet.zip.\n"
          ],
          "name": "stdout"
        },
        {
          "output_type": "execute_result",
          "data": {
            "text/plain": [
              "True"
            ]
          },
          "metadata": {
            "tags": []
          },
          "execution_count": 29
        }
      ]
    },
    {
      "cell_type": "code",
      "metadata": {
        "id": "hn_SaxTbceo8"
      },
      "source": [
        "from textblob import Word\n",
        "\n",
        "news_data['headline_text'] = news_data['headline_text'].apply(lambda x: \" \".join([Word(word).lemmatize() for word in x.split()])) "
      ],
      "execution_count": null,
      "outputs": []
    },
    {
      "cell_type": "code",
      "metadata": {
        "colab": {
          "base_uri": "https://localhost:8080/"
        },
        "id": "WApgc4Z7cesk",
        "outputId": "0258abb7-a625-442d-8a78-c1fd491254db"
      },
      "source": [
        "news_data.info()"
      ],
      "execution_count": null,
      "outputs": [
        {
          "output_type": "stream",
          "text": [
            "<class 'pandas.core.frame.DataFrame'>\n",
            "RangeIndex: 2191 entries, 0 to 2190\n",
            "Data columns (total 2 columns):\n",
            " #   Column         Non-Null Count  Dtype         \n",
            "---  ------         --------------  -----         \n",
            " 0   Date           2191 non-null   datetime64[ns]\n",
            " 1   headline_text  2191 non-null   object        \n",
            "dtypes: datetime64[ns](1), object(1)\n",
            "memory usage: 34.4+ KB\n"
          ],
          "name": "stdout"
        }
      ]
    },
    {
      "cell_type": "code",
      "metadata": {
        "colab": {
          "base_uri": "https://localhost:8080/",
          "height": 202
        },
        "id": "B6ykrxOfcevu",
        "outputId": "382e07c4-bbc3-4cb9-d1c8-dc4a2170c7a1"
      },
      "source": [
        "news_data.head()"
      ],
      "execution_count": null,
      "outputs": [
        {
          "output_type": "execute_result",
          "data": {
            "text/html": [
              "<div>\n",
              "<style scoped>\n",
              "    .dataframe tbody tr th:only-of-type {\n",
              "        vertical-align: middle;\n",
              "    }\n",
              "\n",
              "    .dataframe tbody tr th {\n",
              "        vertical-align: top;\n",
              "    }\n",
              "\n",
              "    .dataframe thead th {\n",
              "        text-align: right;\n",
              "    }\n",
              "</style>\n",
              "<table border=\"1\" class=\"dataframe\">\n",
              "  <thead>\n",
              "    <tr style=\"text-align: right;\">\n",
              "      <th></th>\n",
              "      <th>Date</th>\n",
              "      <th>headline_text</th>\n",
              "    </tr>\n",
              "  </thead>\n",
              "  <tbody>\n",
              "    <tr>\n",
              "      <th>0</th>\n",
              "      <td>2015-01-02</td>\n",
              "      <td>drink smart party tip say sorry kid take child...</td>\n",
              "    </tr>\n",
              "    <tr>\n",
              "      <th>1</th>\n",
              "      <td>2015-01-03</td>\n",
              "      <td>stylish new year cocktail recipe youll love de...</td>\n",
              "    </tr>\n",
              "    <tr>\n",
              "      <th>2</th>\n",
              "      <td>2015-01-04</td>\n",
              "      <td>get bikini body rule lovemaking apply work bak...</td>\n",
              "    </tr>\n",
              "    <tr>\n",
              "      <th>3</th>\n",
              "      <td>2015-01-05</td>\n",
              "      <td>recipe strawberry cupcake recipe kaju jeera ri...</td>\n",
              "    </tr>\n",
              "    <tr>\n",
              "      <th>4</th>\n",
              "      <td>2015-01-06</td>\n",
              "      <td>turn gardening happiness teeth jewellery lates...</td>\n",
              "    </tr>\n",
              "  </tbody>\n",
              "</table>\n",
              "</div>"
            ],
            "text/plain": [
              "        Date                                      headline_text\n",
              "0 2015-01-02  drink smart party tip say sorry kid take child...\n",
              "1 2015-01-03  stylish new year cocktail recipe youll love de...\n",
              "2 2015-01-04  get bikini body rule lovemaking apply work bak...\n",
              "3 2015-01-05  recipe strawberry cupcake recipe kaju jeera ri...\n",
              "4 2015-01-06  turn gardening happiness teeth jewellery lates..."
            ]
          },
          "metadata": {
            "tags": []
          },
          "execution_count": 32
        }
      ]
    },
    {
      "cell_type": "code",
      "metadata": {
        "colab": {
          "base_uri": "https://localhost:8080/",
          "height": 202
        },
        "id": "Cjqn4XpJcezF",
        "outputId": "6f0f3bcc-3970-4990-f216-f66ae1befbe0"
      },
      "source": [
        "news_data.tail()"
      ],
      "execution_count": null,
      "outputs": [
        {
          "output_type": "execute_result",
          "data": {
            "text/html": [
              "<div>\n",
              "<style scoped>\n",
              "    .dataframe tbody tr th:only-of-type {\n",
              "        vertical-align: middle;\n",
              "    }\n",
              "\n",
              "    .dataframe tbody tr th {\n",
              "        vertical-align: top;\n",
              "    }\n",
              "\n",
              "    .dataframe thead th {\n",
              "        text-align: right;\n",
              "    }\n",
              "</style>\n",
              "<table border=\"1\" class=\"dataframe\">\n",
              "  <thead>\n",
              "    <tr style=\"text-align: right;\">\n",
              "      <th></th>\n",
              "      <th>Date</th>\n",
              "      <th>headline_text</th>\n",
              "    </tr>\n",
              "  </thead>\n",
              "  <tbody>\n",
              "    <tr>\n",
              "      <th>2186</th>\n",
              "      <td>2020-12-27</td>\n",
              "      <td>biginterview dhritiman chatterjee nobody dare ...</td>\n",
              "    </tr>\n",
              "    <tr>\n",
              "      <th>2187</th>\n",
              "      <td>2020-12-28</td>\n",
              "      <td>horoscope today december check astrological pr...</td>\n",
              "    </tr>\n",
              "    <tr>\n",
              "      <th>2188</th>\n",
              "      <td>2020-12-29</td>\n",
              "      <td>man recovers charred remains thief burnt shop ...</td>\n",
              "    </tr>\n",
              "    <tr>\n",
              "      <th>2189</th>\n",
              "      <td>2020-12-30</td>\n",
              "      <td>numerology reading december prediction lucky c...</td>\n",
              "    </tr>\n",
              "    <tr>\n",
              "      <th>2190</th>\n",
              "      <td>2020-12-31</td>\n",
              "      <td>horoscope today december check astrological pr...</td>\n",
              "    </tr>\n",
              "  </tbody>\n",
              "</table>\n",
              "</div>"
            ],
            "text/plain": [
              "           Date                                      headline_text\n",
              "2186 2020-12-27  biginterview dhritiman chatterjee nobody dare ...\n",
              "2187 2020-12-28  horoscope today december check astrological pr...\n",
              "2188 2020-12-29  man recovers charred remains thief burnt shop ...\n",
              "2189 2020-12-30  numerology reading december prediction lucky c...\n",
              "2190 2020-12-31  horoscope today december check astrological pr..."
            ]
          },
          "metadata": {
            "tags": []
          },
          "execution_count": 33
        }
      ]
    },
    {
      "cell_type": "code",
      "metadata": {
        "colab": {
          "base_uri": "https://localhost:8080/"
        },
        "id": "twT01Y3_ce2e",
        "outputId": "1ea7bfa4-609b-4262-f909-d3757bf54b81"
      },
      "source": [
        "news_data['headline_text'][0:10]"
      ],
      "execution_count": null,
      "outputs": [
        {
          "output_type": "execute_result",
          "data": {
            "text/plain": [
              "0    drink smart party tip say sorry kid take child...\n",
              "1    stylish new year cocktail recipe youll love de...\n",
              "2    get bikini body rule lovemaking apply work bak...\n",
              "3    recipe strawberry cupcake recipe kaju jeera ri...\n",
              "4    turn gardening happiness teeth jewellery lates...\n",
              "5    exlovers friend water diet bad tip stay happy ...\n",
              "6    home manicure recipe spiced beetroot disinfect...\n",
              "7    spicy vodka shot lemon ice cube hard please pe...\n",
              "8    step weight loss plan recipe kfclike fried chi...\n",
              "9    website check buying book recipe pork chop sla...\n",
              "Name: headline_text, dtype: object"
            ]
          },
          "metadata": {
            "tags": []
          },
          "execution_count": 35
        }
      ]
    },
    {
      "cell_type": "code",
      "metadata": {
        "colab": {
          "base_uri": "https://localhost:8080/",
          "height": 48
        },
        "id": "j9oi72MEce5s",
        "outputId": "1e3eb424-599c-4244-d5e8-f48545af1d11"
      },
      "source": [
        "news_data[news_data['headline_text'].duplicated(keep=False)].sort_values('headline_text').head()"
      ],
      "execution_count": null,
      "outputs": [
        {
          "output_type": "execute_result",
          "data": {
            "text/html": [
              "<div>\n",
              "<style scoped>\n",
              "    .dataframe tbody tr th:only-of-type {\n",
              "        vertical-align: middle;\n",
              "    }\n",
              "\n",
              "    .dataframe tbody tr th {\n",
              "        vertical-align: top;\n",
              "    }\n",
              "\n",
              "    .dataframe thead th {\n",
              "        text-align: right;\n",
              "    }\n",
              "</style>\n",
              "<table border=\"1\" class=\"dataframe\">\n",
              "  <thead>\n",
              "    <tr style=\"text-align: right;\">\n",
              "      <th></th>\n",
              "      <th>Date</th>\n",
              "      <th>headline_text</th>\n",
              "    </tr>\n",
              "  </thead>\n",
              "  <tbody>\n",
              "  </tbody>\n",
              "</table>\n",
              "</div>"
            ],
            "text/plain": [
              "Empty DataFrame\n",
              "Columns: [Date, headline_text]\n",
              "Index: []"
            ]
          },
          "metadata": {
            "tags": []
          },
          "execution_count": 37
        }
      ]
    },
    {
      "cell_type": "code",
      "metadata": {
        "id": "ktTUksbOce_g"
      },
      "source": [
        "from textblob import TextBlob"
      ],
      "execution_count": null,
      "outputs": []
    },
    {
      "cell_type": "code",
      "metadata": {
        "id": "FfP9dBy2cfDF"
      },
      "source": [
        "def getSubjectivity(text):\n",
        "    return TextBlob(text).sentiment.subjectivity\n",
        "\n",
        "def getPolarity(text):\n",
        "    return  TextBlob(text).sentiment.polarity"
      ],
      "execution_count": null,
      "outputs": []
    },
    {
      "cell_type": "code",
      "metadata": {
        "colab": {
          "base_uri": "https://localhost:8080/",
          "height": 202
        },
        "id": "tRDmTAsocfGd",
        "outputId": "74d030d3-9e77-479f-e1bd-e582f62d51e2"
      },
      "source": [
        "news_data['Subjectivity'] = news_data['headline_text'].apply(getSubjectivity)\n",
        "news_data['Polarity'] = news_data['headline_text'].apply(getPolarity)\n",
        "news_data.head()"
      ],
      "execution_count": null,
      "outputs": [
        {
          "output_type": "execute_result",
          "data": {
            "text/html": [
              "<div>\n",
              "<style scoped>\n",
              "    .dataframe tbody tr th:only-of-type {\n",
              "        vertical-align: middle;\n",
              "    }\n",
              "\n",
              "    .dataframe tbody tr th {\n",
              "        vertical-align: top;\n",
              "    }\n",
              "\n",
              "    .dataframe thead th {\n",
              "        text-align: right;\n",
              "    }\n",
              "</style>\n",
              "<table border=\"1\" class=\"dataframe\">\n",
              "  <thead>\n",
              "    <tr style=\"text-align: right;\">\n",
              "      <th></th>\n",
              "      <th>Date</th>\n",
              "      <th>headline_text</th>\n",
              "      <th>Subjectivity</th>\n",
              "      <th>Polarity</th>\n",
              "    </tr>\n",
              "  </thead>\n",
              "  <tbody>\n",
              "    <tr>\n",
              "      <th>0</th>\n",
              "      <td>2015-01-02</td>\n",
              "      <td>drink smart party tip say sorry kid take child...</td>\n",
              "      <td>0.447703</td>\n",
              "      <td>0.042884</td>\n",
              "    </tr>\n",
              "    <tr>\n",
              "      <th>1</th>\n",
              "      <td>2015-01-03</td>\n",
              "      <td>stylish new year cocktail recipe youll love de...</td>\n",
              "      <td>0.409495</td>\n",
              "      <td>0.053030</td>\n",
              "    </tr>\n",
              "    <tr>\n",
              "      <th>2</th>\n",
              "      <td>2015-01-04</td>\n",
              "      <td>get bikini body rule lovemaking apply work bak...</td>\n",
              "      <td>0.412079</td>\n",
              "      <td>0.068680</td>\n",
              "    </tr>\n",
              "    <tr>\n",
              "      <th>3</th>\n",
              "      <td>2015-01-05</td>\n",
              "      <td>recipe strawberry cupcake recipe kaju jeera ri...</td>\n",
              "      <td>0.428616</td>\n",
              "      <td>0.091247</td>\n",
              "    </tr>\n",
              "    <tr>\n",
              "      <th>4</th>\n",
              "      <td>2015-01-06</td>\n",
              "      <td>turn gardening happiness teeth jewellery lates...</td>\n",
              "      <td>0.375562</td>\n",
              "      <td>0.041891</td>\n",
              "    </tr>\n",
              "  </tbody>\n",
              "</table>\n",
              "</div>"
            ],
            "text/plain": [
              "        Date  ...  Polarity\n",
              "0 2015-01-02  ...  0.042884\n",
              "1 2015-01-03  ...  0.053030\n",
              "2 2015-01-04  ...  0.068680\n",
              "3 2015-01-05  ...  0.091247\n",
              "4 2015-01-06  ...  0.041891\n",
              "\n",
              "[5 rows x 4 columns]"
            ]
          },
          "metadata": {
            "tags": []
          },
          "execution_count": 40
        }
      ]
    },
    {
      "cell_type": "code",
      "metadata": {
        "colab": {
          "base_uri": "https://localhost:8080/",
          "height": 391
        },
        "id": "bQGHeZ4mzDxA",
        "outputId": "228651b6-3c42-4281-cd1a-6c98c929186e"
      },
      "source": [
        "plt.figure(figsize = (10,6))\n",
        "news_data['Polarity'].hist(color = 'orange')"
      ],
      "execution_count": null,
      "outputs": [
        {
          "output_type": "execute_result",
          "data": {
            "text/plain": [
              "<matplotlib.axes._subplots.AxesSubplot at 0x7fdfdc28bbd0>"
            ]
          },
          "metadata": {
            "tags": []
          },
          "execution_count": 42
        },
        {
          "output_type": "display_data",
          "data": {
            "image/png": "[encoded data removed]",
            "text/plain": [
              "<Figure size 720x432 with 1 Axes>"
            ]
          },
          "metadata": {
            "tags": [],
            "needs_background": "light"
          }
        }
      ]
    },
    {
      "cell_type": "code",
      "metadata": {
        "colab": {
          "base_uri": "https://localhost:8080/",
          "height": 391
        },
        "id": "-QBSah2zz3V7",
        "outputId": "560afc04-2208-42db-d815-90d7cd6d954c"
      },
      "source": [
        "plt.figure(figsize = (10,6))\n",
        "news_data['Subjectivity'].hist(color = 'blue')"
      ],
      "execution_count": null,
      "outputs": [
        {
          "output_type": "execute_result",
          "data": {
            "text/plain": [
              "<matplotlib.axes._subplots.AxesSubplot at 0x7fdfdc320310>"
            ]
          },
          "metadata": {
            "tags": []
          },
          "execution_count": 43
        },
        {
          "output_type": "display_data",
          "data": {
            "image/png": "[encoded data removed]",
            "text/plain": [
              "<Figure size 720x432 with 1 Axes>"
            ]
          },
          "metadata": {
            "tags": [],
            "needs_background": "light"
          }
        }
      ]
    },
    {
      "cell_type": "code",
      "metadata": {
        "colab": {
          "base_uri": "https://localhost:8080/"
        },
        "id": "YWtQ64ro0ANY",
        "outputId": "5dd0226b-bf64-4ea1-837b-3d7c81677969"
      },
      "source": [
        "nltk.download('vader_lexicon')"
      ],
      "execution_count": null,
      "outputs": [
        {
          "output_type": "stream",
          "text": [
            "[nltk_data] Downloading package vader_lexicon to /root/nltk_data...\n"
          ],
          "name": "stdout"
        },
        {
          "output_type": "execute_result",
          "data": {
            "text/plain": [
              "True"
            ]
          },
          "metadata": {
            "tags": []
          },
          "execution_count": 44
        }
      ]
    },
    {
      "cell_type": "code",
      "metadata": {
        "colab": {
          "base_uri": "https://localhost:8080/",
          "height": 255
        },
        "id": "ZgS5xO_i0GFP",
        "outputId": "630a7938-09d5-4740-add1-273352bd65ea"
      },
      "source": [
        "from nltk.sentiment.vader import SentimentIntensityAnalyzer\n",
        "sv = SentimentIntensityAnalyzer()\n",
        "\n",
        "news_data['Compound'] = [sv.polarity_scores(v)['compound'] for v in news_data['headline_text']]\n",
        "news_data['Negative'] = [sv.polarity_scores(v)['neg'] for v in news_data['headline_text']]\n",
        "news_data['Neutral'] = [sv.polarity_scores(v)['neu'] for v in news_data['headline_text']]\n",
        "news_data['Positive'] = [sv.polarity_scores(v)['pos'] for v in news_data['headline_text']]\n",
        "news_data[0:5]"
      ],
      "execution_count": null,
      "outputs": [
        {
          "output_type": "stream",
          "text": [
            "/usr/local/lib/python3.7/dist-packages/nltk/twitter/__init__.py:20: UserWarning: The twython library has not been installed. Some functionality from the twitter package will not be available.\n",
            "  warnings.warn(\"The twython library has not been installed. \"\n"
          ],
          "name": "stderr"
        },
        {
          "output_type": "execute_result",
          "data": {
            "text/html": [
              "<div>\n",
              "<style scoped>\n",
              "    .dataframe tbody tr th:only-of-type {\n",
              "        vertical-align: middle;\n",
              "    }\n",
              "\n",
              "    .dataframe tbody tr th {\n",
              "        vertical-align: top;\n",
              "    }\n",
              "\n",
              "    .dataframe thead th {\n",
              "        text-align: right;\n",
              "    }\n",
              "</style>\n",
              "<table border=\"1\" class=\"dataframe\">\n",
              "  <thead>\n",
              "    <tr style=\"text-align: right;\">\n",
              "      <th></th>\n",
              "      <th>Date</th>\n",
              "      <th>headline_text</th>\n",
              "      <th>Subjectivity</th>\n",
              "      <th>Polarity</th>\n",
              "      <th>Compound</th>\n",
              "      <th>Negative</th>\n",
              "      <th>Neutral</th>\n",
              "      <th>Positive</th>\n",
              "    </tr>\n",
              "  </thead>\n",
              "  <tbody>\n",
              "    <tr>\n",
              "      <th>0</th>\n",
              "      <td>2015-01-02</td>\n",
              "      <td>drink smart party tip say sorry kid take child...</td>\n",
              "      <td>0.447703</td>\n",
              "      <td>0.042884</td>\n",
              "      <td>-0.9986</td>\n",
              "      <td>0.153</td>\n",
              "      <td>0.714</td>\n",
              "      <td>0.134</td>\n",
              "    </tr>\n",
              "    <tr>\n",
              "      <th>1</th>\n",
              "      <td>2015-01-03</td>\n",
              "      <td>stylish new year cocktail recipe youll love de...</td>\n",
              "      <td>0.409495</td>\n",
              "      <td>0.053030</td>\n",
              "      <td>-0.9994</td>\n",
              "      <td>0.151</td>\n",
              "      <td>0.730</td>\n",
              "      <td>0.119</td>\n",
              "    </tr>\n",
              "    <tr>\n",
              "      <th>2</th>\n",
              "      <td>2015-01-04</td>\n",
              "      <td>get bikini body rule lovemaking apply work bak...</td>\n",
              "      <td>0.412079</td>\n",
              "      <td>0.068680</td>\n",
              "      <td>-0.9997</td>\n",
              "      <td>0.154</td>\n",
              "      <td>0.739</td>\n",
              "      <td>0.107</td>\n",
              "    </tr>\n",
              "    <tr>\n",
              "      <th>3</th>\n",
              "      <td>2015-01-05</td>\n",
              "      <td>recipe strawberry cupcake recipe kaju jeera ri...</td>\n",
              "      <td>0.428616</td>\n",
              "      <td>0.091247</td>\n",
              "      <td>-0.9949</td>\n",
              "      <td>0.141</td>\n",
              "      <td>0.728</td>\n",
              "      <td>0.130</td>\n",
              "    </tr>\n",
              "    <tr>\n",
              "      <th>4</th>\n",
              "      <td>2015-01-06</td>\n",
              "      <td>turn gardening happiness teeth jewellery lates...</td>\n",
              "      <td>0.375562</td>\n",
              "      <td>0.041891</td>\n",
              "      <td>-0.9996</td>\n",
              "      <td>0.151</td>\n",
              "      <td>0.737</td>\n",
              "      <td>0.112</td>\n",
              "    </tr>\n",
              "  </tbody>\n",
              "</table>\n",
              "</div>"
            ],
            "text/plain": [
              "        Date  ... Positive\n",
              "0 2015-01-02  ...    0.134\n",
              "1 2015-01-03  ...    0.119\n",
              "2 2015-01-04  ...    0.107\n",
              "3 2015-01-05  ...    0.130\n",
              "4 2015-01-06  ...    0.112\n",
              "\n",
              "[5 rows x 8 columns]"
            ]
          },
          "metadata": {
            "tags": []
          },
          "execution_count": 45
        }
      ]
    },
    {
      "cell_type": "code",
      "metadata": {
        "colab": {
          "base_uri": "https://localhost:8080/",
          "height": 285
        },
        "id": "MpAWXvnU0jKc",
        "outputId": "ce8fa376-b2e7-4297-8103-231124319692"
      },
      "source": [
        "df_merge = pd.merge(data, news_data, how='inner', on='Date')\n",
        "df_merge.head()"
      ],
      "execution_count": null,
      "outputs": [
        {
          "output_type": "execute_result",
          "data": {
            "text/html": [
              "<div>\n",
              "<style scoped>\n",
              "    .dataframe tbody tr th:only-of-type {\n",
              "        vertical-align: middle;\n",
              "    }\n",
              "\n",
              "    .dataframe tbody tr th {\n",
              "        vertical-align: top;\n",
              "    }\n",
              "\n",
              "    .dataframe thead th {\n",
              "        text-align: right;\n",
              "    }\n",
              "</style>\n",
              "<table border=\"1\" class=\"dataframe\">\n",
              "  <thead>\n",
              "    <tr style=\"text-align: right;\">\n",
              "      <th></th>\n",
              "      <th>Date</th>\n",
              "      <th>Open</th>\n",
              "      <th>High</th>\n",
              "      <th>Low</th>\n",
              "      <th>Close</th>\n",
              "      <th>Adj Close</th>\n",
              "      <th>Volume</th>\n",
              "      <th>headline_text</th>\n",
              "      <th>Subjectivity</th>\n",
              "      <th>Polarity</th>\n",
              "      <th>Compound</th>\n",
              "      <th>Negative</th>\n",
              "      <th>Neutral</th>\n",
              "      <th>Positive</th>\n",
              "    </tr>\n",
              "  </thead>\n",
              "  <tbody>\n",
              "    <tr>\n",
              "      <th>0</th>\n",
              "      <td>2015-01-02</td>\n",
              "      <td>27521.279297</td>\n",
              "      <td>27937.470703</td>\n",
              "      <td>27519.259766</td>\n",
              "      <td>27887.900391</td>\n",
              "      <td>27887.900391</td>\n",
              "      <td>7400</td>\n",
              "      <td>drink smart party tip say sorry kid take child...</td>\n",
              "      <td>0.447703</td>\n",
              "      <td>0.042884</td>\n",
              "      <td>-0.9986</td>\n",
              "      <td>0.153</td>\n",
              "      <td>0.714</td>\n",
              "      <td>0.134</td>\n",
              "    </tr>\n",
              "    <tr>\n",
              "      <th>1</th>\n",
              "      <td>2015-01-05</td>\n",
              "      <td>27978.429688</td>\n",
              "      <td>28064.490234</td>\n",
              "      <td>27786.849609</td>\n",
              "      <td>27842.320312</td>\n",
              "      <td>27842.320312</td>\n",
              "      <td>9200</td>\n",
              "      <td>recipe strawberry cupcake recipe kaju jeera ri...</td>\n",
              "      <td>0.428616</td>\n",
              "      <td>0.091247</td>\n",
              "      <td>-0.9949</td>\n",
              "      <td>0.141</td>\n",
              "      <td>0.728</td>\n",
              "      <td>0.130</td>\n",
              "    </tr>\n",
              "    <tr>\n",
              "      <th>2</th>\n",
              "      <td>2015-01-06</td>\n",
              "      <td>27694.230469</td>\n",
              "      <td>27698.929688</td>\n",
              "      <td>26937.060547</td>\n",
              "      <td>26987.460938</td>\n",
              "      <td>26987.460938</td>\n",
              "      <td>14100</td>\n",
              "      <td>turn gardening happiness teeth jewellery lates...</td>\n",
              "      <td>0.375562</td>\n",
              "      <td>0.041891</td>\n",
              "      <td>-0.9996</td>\n",
              "      <td>0.151</td>\n",
              "      <td>0.737</td>\n",
              "      <td>0.112</td>\n",
              "    </tr>\n",
              "    <tr>\n",
              "      <th>3</th>\n",
              "      <td>2015-01-07</td>\n",
              "      <td>26983.429688</td>\n",
              "      <td>27051.599609</td>\n",
              "      <td>26776.119141</td>\n",
              "      <td>26908.820312</td>\n",
              "      <td>26908.820312</td>\n",
              "      <td>12200</td>\n",
              "      <td>exlovers friend water diet bad tip stay happy ...</td>\n",
              "      <td>0.386203</td>\n",
              "      <td>0.018806</td>\n",
              "      <td>-0.9999</td>\n",
              "      <td>0.177</td>\n",
              "      <td>0.719</td>\n",
              "      <td>0.103</td>\n",
              "    </tr>\n",
              "    <tr>\n",
              "      <th>4</th>\n",
              "      <td>2015-01-08</td>\n",
              "      <td>27178.769531</td>\n",
              "      <td>27316.410156</td>\n",
              "      <td>27101.939453</td>\n",
              "      <td>27274.710938</td>\n",
              "      <td>27274.710938</td>\n",
              "      <td>8200</td>\n",
              "      <td>home manicure recipe spiced beetroot disinfect...</td>\n",
              "      <td>0.408204</td>\n",
              "      <td>0.043370</td>\n",
              "      <td>-0.9998</td>\n",
              "      <td>0.161</td>\n",
              "      <td>0.725</td>\n",
              "      <td>0.114</td>\n",
              "    </tr>\n",
              "  </tbody>\n",
              "</table>\n",
              "</div>"
            ],
            "text/plain": [
              "        Date          Open          High  ...  Negative  Neutral  Positive\n",
              "0 2015-01-02  27521.279297  27937.470703  ...     0.153    0.714     0.134\n",
              "1 2015-01-05  27978.429688  28064.490234  ...     0.141    0.728     0.130\n",
              "2 2015-01-06  27694.230469  27698.929688  ...     0.151    0.737     0.112\n",
              "3 2015-01-07  26983.429688  27051.599609  ...     0.177    0.719     0.103\n",
              "4 2015-01-08  27178.769531  27316.410156  ...     0.161    0.725     0.114\n",
              "\n",
              "[5 rows x 14 columns]"
            ]
          },
          "metadata": {
            "tags": []
          },
          "execution_count": 50
        }
      ]
    },
    {
      "cell_type": "code",
      "metadata": {
        "id": "-NWRtAc_4v8-"
      },
      "source": [
        ""
      ],
      "execution_count": null,
      "outputs": []
    },
    {
      "cell_type": "markdown",
      "metadata": {
        "id": "Aae5TNRr5JmG"
      },
      "source": [
        "**HYBRID MODEL ANALYSIS**"
      ]
    },
    {
      "cell_type": "code",
      "metadata": {
        "colab": {
          "base_uri": "https://localhost:8080/",
          "height": 414
        },
        "id": "cNtORyiX5RCY",
        "outputId": "d30e7fef-1c89-4d4b-97ae-a95cb96672dc"
      },
      "source": [
        "df_final = df_merge[['Close','Subjectivity', 'Polarity', 'Compound', 'Negative', 'Neutral' ,'Positive']]\n",
        "df_final"
      ],
      "execution_count": null,
      "outputs": [
        {
          "output_type": "execute_result",
          "data": {
            "text/html": [
              "<div>\n",
              "<style scoped>\n",
              "    .dataframe tbody tr th:only-of-type {\n",
              "        vertical-align: middle;\n",
              "    }\n",
              "\n",
              "    .dataframe tbody tr th {\n",
              "        vertical-align: top;\n",
              "    }\n",
              "\n",
              "    .dataframe thead th {\n",
              "        text-align: right;\n",
              "    }\n",
              "</style>\n",
              "<table border=\"1\" class=\"dataframe\">\n",
              "  <thead>\n",
              "    <tr style=\"text-align: right;\">\n",
              "      <th></th>\n",
              "      <th>Close</th>\n",
              "      <th>Subjectivity</th>\n",
              "      <th>Polarity</th>\n",
              "      <th>Compound</th>\n",
              "      <th>Negative</th>\n",
              "      <th>Neutral</th>\n",
              "      <th>Positive</th>\n",
              "    </tr>\n",
              "  </thead>\n",
              "  <tbody>\n",
              "    <tr>\n",
              "      <th>0</th>\n",
              "      <td>27887.900391</td>\n",
              "      <td>0.447703</td>\n",
              "      <td>0.042884</td>\n",
              "      <td>-0.9986</td>\n",
              "      <td>0.153</td>\n",
              "      <td>0.714</td>\n",
              "      <td>0.134</td>\n",
              "    </tr>\n",
              "    <tr>\n",
              "      <th>1</th>\n",
              "      <td>27842.320312</td>\n",
              "      <td>0.428616</td>\n",
              "      <td>0.091247</td>\n",
              "      <td>-0.9949</td>\n",
              "      <td>0.141</td>\n",
              "      <td>0.728</td>\n",
              "      <td>0.130</td>\n",
              "    </tr>\n",
              "    <tr>\n",
              "      <th>2</th>\n",
              "      <td>26987.460938</td>\n",
              "      <td>0.375562</td>\n",
              "      <td>0.041891</td>\n",
              "      <td>-0.9996</td>\n",
              "      <td>0.151</td>\n",
              "      <td>0.737</td>\n",
              "      <td>0.112</td>\n",
              "    </tr>\n",
              "    <tr>\n",
              "      <th>3</th>\n",
              "      <td>26908.820312</td>\n",
              "      <td>0.386203</td>\n",
              "      <td>0.018806</td>\n",
              "      <td>-0.9999</td>\n",
              "      <td>0.177</td>\n",
              "      <td>0.719</td>\n",
              "      <td>0.103</td>\n",
              "    </tr>\n",
              "    <tr>\n",
              "      <th>4</th>\n",
              "      <td>27274.710938</td>\n",
              "      <td>0.408204</td>\n",
              "      <td>0.043370</td>\n",
              "      <td>-0.9998</td>\n",
              "      <td>0.161</td>\n",
              "      <td>0.725</td>\n",
              "      <td>0.114</td>\n",
              "    </tr>\n",
              "    <tr>\n",
              "      <th>...</th>\n",
              "      <td>...</td>\n",
              "      <td>...</td>\n",
              "      <td>...</td>\n",
              "      <td>...</td>\n",
              "      <td>...</td>\n",
              "      <td>...</td>\n",
              "      <td>...</td>\n",
              "    </tr>\n",
              "    <tr>\n",
              "      <th>1469</th>\n",
              "      <td>46973.539062</td>\n",
              "      <td>0.378430</td>\n",
              "      <td>0.045076</td>\n",
              "      <td>-0.9995</td>\n",
              "      <td>0.151</td>\n",
              "      <td>0.739</td>\n",
              "      <td>0.110</td>\n",
              "    </tr>\n",
              "    <tr>\n",
              "      <th>1470</th>\n",
              "      <td>47353.750000</td>\n",
              "      <td>0.406816</td>\n",
              "      <td>0.042911</td>\n",
              "      <td>-0.9995</td>\n",
              "      <td>0.148</td>\n",
              "      <td>0.745</td>\n",
              "      <td>0.108</td>\n",
              "    </tr>\n",
              "    <tr>\n",
              "      <th>1471</th>\n",
              "      <td>47613.078125</td>\n",
              "      <td>0.414664</td>\n",
              "      <td>0.047399</td>\n",
              "      <td>-0.9998</td>\n",
              "      <td>0.164</td>\n",
              "      <td>0.727</td>\n",
              "      <td>0.109</td>\n",
              "    </tr>\n",
              "    <tr>\n",
              "      <th>1472</th>\n",
              "      <td>47746.218750</td>\n",
              "      <td>0.447592</td>\n",
              "      <td>0.031660</td>\n",
              "      <td>-0.9999</td>\n",
              "      <td>0.175</td>\n",
              "      <td>0.727</td>\n",
              "      <td>0.098</td>\n",
              "    </tr>\n",
              "    <tr>\n",
              "      <th>1473</th>\n",
              "      <td>47751.328125</td>\n",
              "      <td>0.408056</td>\n",
              "      <td>0.072638</td>\n",
              "      <td>-0.9993</td>\n",
              "      <td>0.144</td>\n",
              "      <td>0.744</td>\n",
              "      <td>0.112</td>\n",
              "    </tr>\n",
              "  </tbody>\n",
              "</table>\n",
              "<p>1474 rows × 7 columns</p>\n",
              "</div>"
            ],
            "text/plain": [
              "             Close  Subjectivity  Polarity  ...  Negative  Neutral  Positive\n",
              "0     27887.900391      0.447703  0.042884  ...     0.153    0.714     0.134\n",
              "1     27842.320312      0.428616  0.091247  ...     0.141    0.728     0.130\n",
              "2     26987.460938      0.375562  0.041891  ...     0.151    0.737     0.112\n",
              "3     26908.820312      0.386203  0.018806  ...     0.177    0.719     0.103\n",
              "4     27274.710938      0.408204  0.043370  ...     0.161    0.725     0.114\n",
              "...            ...           ...       ...  ...       ...      ...       ...\n",
              "1469  46973.539062      0.378430  0.045076  ...     0.151    0.739     0.110\n",
              "1470  47353.750000      0.406816  0.042911  ...     0.148    0.745     0.108\n",
              "1471  47613.078125      0.414664  0.047399  ...     0.164    0.727     0.109\n",
              "1472  47746.218750      0.447592  0.031660  ...     0.175    0.727     0.098\n",
              "1473  47751.328125      0.408056  0.072638  ...     0.144    0.744     0.112\n",
              "\n",
              "[1474 rows x 7 columns]"
            ]
          },
          "metadata": {
            "tags": []
          },
          "execution_count": 51
        }
      ]
    },
    {
      "cell_type": "code",
      "metadata": {
        "colab": {
          "base_uri": "https://localhost:8080/",
          "height": 202
        },
        "id": "Zx-OnXYd5UsZ",
        "outputId": "be7024fd-0ff5-4968-a617-e0a3b17d72fb"
      },
      "source": [
        "from sklearn.preprocessing import MinMaxScaler\n",
        "sc = MinMaxScaler()\n",
        "df_scaled = pd.DataFrame(sc.fit_transform(df_final))\n",
        "df_scaled.columns = df_final.columns\n",
        "df_scaled.index = df_final.index\n",
        "df_scaled.head()"
      ],
      "execution_count": null,
      "outputs": [
        {
          "output_type": "execute_result",
          "data": {
            "text/html": [
              "<div>\n",
              "<style scoped>\n",
              "    .dataframe tbody tr th:only-of-type {\n",
              "        vertical-align: middle;\n",
              "    }\n",
              "\n",
              "    .dataframe tbody tr th {\n",
              "        vertical-align: top;\n",
              "    }\n",
              "\n",
              "    .dataframe thead th {\n",
              "        text-align: right;\n",
              "    }\n",
              "</style>\n",
              "<table border=\"1\" class=\"dataframe\">\n",
              "  <thead>\n",
              "    <tr style=\"text-align: right;\">\n",
              "      <th></th>\n",
              "      <th>Close</th>\n",
              "      <th>Subjectivity</th>\n",
              "      <th>Polarity</th>\n",
              "      <th>Compound</th>\n",
              "      <th>Negative</th>\n",
              "      <th>Neutral</th>\n",
              "      <th>Positive</th>\n",
              "    </tr>\n",
              "  </thead>\n",
              "  <tbody>\n",
              "    <tr>\n",
              "      <th>0</th>\n",
              "      <td>0.199039</td>\n",
              "      <td>0.822044</td>\n",
              "      <td>0.383842</td>\n",
              "      <td>0.00070</td>\n",
              "      <td>0.392523</td>\n",
              "      <td>0.411215</td>\n",
              "      <td>0.541667</td>\n",
              "    </tr>\n",
              "    <tr>\n",
              "      <th>1</th>\n",
              "      <td>0.197201</td>\n",
              "      <td>0.692013</td>\n",
              "      <td>0.627495</td>\n",
              "      <td>0.00255</td>\n",
              "      <td>0.280374</td>\n",
              "      <td>0.542056</td>\n",
              "      <td>0.508333</td>\n",
              "    </tr>\n",
              "    <tr>\n",
              "      <th>2</th>\n",
              "      <td>0.162730</td>\n",
              "      <td>0.330578</td>\n",
              "      <td>0.378839</td>\n",
              "      <td>0.00020</td>\n",
              "      <td>0.373832</td>\n",
              "      <td>0.626168</td>\n",
              "      <td>0.358333</td>\n",
              "    </tr>\n",
              "    <tr>\n",
              "      <th>3</th>\n",
              "      <td>0.159559</td>\n",
              "      <td>0.403075</td>\n",
              "      <td>0.262537</td>\n",
              "      <td>0.00005</td>\n",
              "      <td>0.616822</td>\n",
              "      <td>0.457944</td>\n",
              "      <td>0.283333</td>\n",
              "    </tr>\n",
              "    <tr>\n",
              "      <th>4</th>\n",
              "      <td>0.174313</td>\n",
              "      <td>0.552958</td>\n",
              "      <td>0.386291</td>\n",
              "      <td>0.00010</td>\n",
              "      <td>0.467290</td>\n",
              "      <td>0.514019</td>\n",
              "      <td>0.375000</td>\n",
              "    </tr>\n",
              "  </tbody>\n",
              "</table>\n",
              "</div>"
            ],
            "text/plain": [
              "      Close  Subjectivity  Polarity  Compound  Negative   Neutral  Positive\n",
              "0  0.199039      0.822044  0.383842   0.00070  0.392523  0.411215  0.541667\n",
              "1  0.197201      0.692013  0.627495   0.00255  0.280374  0.542056  0.508333\n",
              "2  0.162730      0.330578  0.378839   0.00020  0.373832  0.626168  0.358333\n",
              "3  0.159559      0.403075  0.262537   0.00005  0.616822  0.457944  0.283333\n",
              "4  0.174313      0.552958  0.386291   0.00010  0.467290  0.514019  0.375000"
            ]
          },
          "metadata": {
            "tags": []
          },
          "execution_count": 52
        }
      ]
    },
    {
      "cell_type": "code",
      "metadata": {
        "id": "ooWuRLkO5mSf"
      },
      "source": [
        "X=df_scaled.drop(\"Close\",axis=1)\n",
        "y=df_scaled[\"Close\"]"
      ],
      "execution_count": null,
      "outputs": []
    },
    {
      "cell_type": "code",
      "metadata": {
        "id": "5l93uVGb5sJ3"
      },
      "source": [
        "from sklearn.model_selection import train_test_split\n",
        "X_train,X_test,y_train,y_test=train_test_split(X,y,test_size=0.3,random_state=42)"
      ],
      "execution_count": null,
      "outputs": []
    },
    {
      "cell_type": "code",
      "metadata": {
        "id": "Dc2DEN-u51Qz"
      },
      "source": [
        "from sklearn.ensemble import RandomForestRegressor, AdaBoostRegressor\n",
        "from sklearn import metrics"
      ],
      "execution_count": null,
      "outputs": []
    },
    {
      "cell_type": "code",
      "metadata": {
        "colab": {
          "base_uri": "https://localhost:8080/"
        },
        "id": "rERd4ljg54K7",
        "outputId": "20af07d2-da37-41c3-dd46-7e6c9236d241"
      },
      "source": [
        "rf = RandomForestRegressor()\n",
        "rf.fit(X_train, y_train)\n",
        "y_pred_rf=rf.predict(X_test)\n",
        "\n",
        "mse_rf = metrics.mean_squared_error(y_test, y_pred_rf)\n",
        "rmse_rf = np.sqrt(mse_rf)\n",
        "\n",
        "print(\"Random Forest Model RMSE: \",rmse_rf)"
      ],
      "execution_count": null,
      "outputs": [
        {
          "output_type": "stream",
          "text": [
            "Random Forest Model RMSE:  0.19894070870812067\n"
          ],
          "name": "stdout"
        }
      ]
    },
    {
      "cell_type": "code",
      "metadata": {
        "colab": {
          "base_uri": "https://localhost:8080/"
        },
        "id": "25nOarDN59Ak",
        "outputId": "c42ba59e-493e-424f-f948-d9f03e699e7a"
      },
      "source": [
        "from xgboost import XGBRegressor\n",
        "xgb = XGBRegressor(colsample_bytree = 0.6, \n",
        "                         learning_rate = 0.01, \n",
        "                         max_depth = 2, \n",
        "                         n_estimators = 1000) \n",
        "xgb.fit(X_train, y_train)\n",
        "y_pred_xgb=xgb.predict(X_test)\n",
        "\n",
        "mse_xgb = metrics.mean_squared_error(y_test, y_pred_xgb)\n",
        "rmse_xgb = np.sqrt(mse_xgb)\n",
        "\n",
        "print(\"XGB Model RMSE: \",rmse_xgb)"
      ],
      "execution_count": null,
      "outputs": [
        {
          "output_type": "stream",
          "text": [
            "[16:42:51] WARNING: /workspace/src/objective/regression_obj.cu:152: reg:linear is now deprecated in favor of reg:squarederror.\n",
            "XGB Model RMSE:  0.19453548475917473\n"
          ],
          "name": "stdout"
        }
      ]
    },
    {
      "cell_type": "code",
      "metadata": {
        "colab": {
          "base_uri": "https://localhost:8080/"
        },
        "id": "orsuldwZ6CRy",
        "outputId": "1c2d3ac5-c8a2-40e9-a9a1-6eb5c2f49c5d"
      },
      "source": [
        "from lightgbm import LGBMRegressor\n",
        "lgbm = LGBMRegressor(learning_rate = 0.1, \n",
        "                           max_depth = 8, \n",
        "                           n_estimators = 50,\n",
        "                           colsample_bytree = 0.4,\n",
        "                           num_leaves = 10)\n",
        "lgbm.fit(X_train, y_train)\n",
        "y_pred_lgbm=lgbm.predict(X_test)\n",
        "\n",
        "mse_lgbm = metrics.mean_squared_error(y_test, y_pred_lgbm)\n",
        "rmse_lgbm = np.sqrt(mse_lgbm)\n",
        "\n",
        "print(\"Light GBM Model RMSE: \",rmse_lgbm)"
      ],
      "execution_count": null,
      "outputs": [
        {
          "output_type": "stream",
          "text": [
            "Light GBM Model RMSE:  0.19724476635329155\n"
          ],
          "name": "stdout"
        }
      ]
    },
    {
      "cell_type": "code",
      "metadata": {
        "colab": {
          "base_uri": "https://localhost:8080/"
        },
        "id": "zF6kxRQt6Jld",
        "outputId": "02f590e2-f26c-4315-97bf-77a547161735"
      },
      "source": [
        "adb = AdaBoostRegressor()\n",
        "adb.fit(X_train, y_train)\n",
        "y_pred_adb=adb.predict(X_test)\n",
        "\n",
        "mse_adb = metrics.mean_squared_error(y_test, y_pred_adb)\n",
        "rmse_adb = np.sqrt(mse_adb)\n",
        "\n",
        "print(\"AdaBoost Model RMSE: \",rmse_adb)"
      ],
      "execution_count": null,
      "outputs": [
        {
          "output_type": "stream",
          "text": [
            "AdaBoost Model RMSE:  0.19936935714336915\n"
          ],
          "name": "stdout"
        }
      ]
    },
    {
      "cell_type": "markdown",
      "metadata": {
        "id": "yFNzrz7_dfwy"
      },
      "source": [
        "In the above analysis, when compared to different models, we found that XGBoost is the apt model with minimum RMSE."
      ]
    }
  ]
}
